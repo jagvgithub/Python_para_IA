{
  "nbformat": 4,
  "nbformat_minor": 0,
  "metadata": {
    "colab": {
      "provenance": [],
      "authorship_tag": "ABX9TyMQ75Adf9lzywqEPUERSNrA",
      "include_colab_link": true
    },
    "kernelspec": {
      "name": "python3",
      "display_name": "Python 3"
    },
    "language_info": {
      "name": "python"
    }
  },
  "cells": [
    {
      "cell_type": "markdown",
      "metadata": {
        "id": "view-in-github",
        "colab_type": "text"
      },
      "source": [
        "<a href=\"https://colab.research.google.com/github/jagvgithub/Python_para_IA/blob/main/Actividad%20Whitepapers.ipynb\" target=\"_parent\"><img src=\"https://colab.research.google.com/assets/colab-badge.svg\" alt=\"Open In Colab\"/></a>"
      ]
    },
    {
      "cell_type": "markdown",
      "source": [
        "# Universidad Internacional de Valencia\n",
        "## Python para la inteligencia artificial\n",
        "### Jose Antonio Gómez Vargas\n",
        "### Actividad Whitepapers\n",
        "##### Enlace directo a github: https://github.com/jagvgithub/Python_para_IA/blob/main/Actividad%20Whitepapers.ipynb\n",
        "##### Junio - 2024"
      ],
      "metadata": {
        "id": "R8mx7bncAKeX"
      }
    },
    {
      "cell_type": "markdown",
      "source": [
        "<center>\n",
        "  <h1>EL AUGE EXPONENCIAL DEL LENGUAJE PYTHON EN EL DESARROLLO\n",
        "TECNOLÓGICO</h1>\n",
        "</center>\n"
      ],
      "metadata": {
        "id": "oLLauH5A3xz6"
      }
    },
    {
      "cell_type": "markdown",
      "source": [
        "_Resumen_\n",
        "\n",
        "- El documento proporciona una exploración exhaustiva del lenguaje de programación Python, destacando su evolución, características esenciales y su comparación con otros lenguajes de programación. Python, desarrollado por Guido van Rossum y lanzado por primera vez en 1991, ha evolucionado considerablemente, influyendo profundamente en diversas áreas tecnológicas y científicas. La sintaxis clara y legible de Python, junto con su enfoque en la simplicidad y la eficiencia, ha permitido su adopción masiva en múltiples sectores.\n",
        "\n",
        "---\n",
        "Evolución de Python\n",
        "\n",
        "---\n",
        "\n",
        "\n",
        "- Desde su creación, Python ha pasado por varias versiones, cada una introduciendo mejoras significativas. El lanzamiento de Python 2.0 en el año 2000 y Python 3.0 en 2008 fueron hitos importantes. Python 3.0, aunque no es completamente compatible con Python 2.x, trajo consigo una serie de mejoras que optimizaron la eficiencia y ampliaron las capacidades del lenguaje.\n",
        "\n",
        "---\n",
        "Características de Python\n",
        "\n",
        "---\n",
        "\n",
        "- Sintaxis Simple y Legible: Python es conocido por su sintaxis clara que favorece la legibilidad del código, facilitando la programación tanto para principiantes como para expertos.\n",
        "Interoperabilidad: Python puede integrarse fácilmente con otros lenguajes y tecnologías, lo que lo hace extremadamente versátil.\n",
        "\n",
        "- Gran Biblioteca Estándar: Python ofrece una amplia gama de bibliotecas estándar que proporcionan soluciones preconstruidas para muchas tareas comunes.\n",
        "Soporte de Paradigmas Múltiples: Python admite programación orientada a objetos, procedimental y funcional, ofreciendo flexibilidad en el diseño del software.\n",
        "Instituciones Implicadas\n",
        "El estudio y análisis detallado del documento fue realizado por un consorcio de instituciones destacadas en los campos de la tecnología y la investigación:\n",
        "\n",
        "* Massachusetts Institute of Technology (MIT): Reconocido por su liderazgo en investigación y educación tecnológica, el MIT ha sido pionero en la adopción y promoción de Python en diversas disciplinas académicas y científicas.\n",
        "\n",
        "* Google Research: La división de investigación de Google, que se centra en la innovación tecnológica y científica, utiliza Python extensamente para el desarrollo de algoritmos avanzados y soluciones de inteligencia artificial.\n",
        "\n",
        "* Stanford University: La Universidad de Stanford, una de las principales instituciones educativas en ciencias de la computación, ha incorporado Python en su currículo y en proyectos de investigación que abarcan desde el aprendizaje automático hasta la biología computacional.\n",
        "\n",
        "* NASA: La agencia espacial estadounidense utiliza Python para análisis de datos y simulaciones en misiones espaciales, destacando su capacidad para manejar grandes volúmenes de datos de manera eficiente.\n",
        "\n",
        "* JP Morgan Chase: Uno de los bancos de inversión más grandes del mundo, que utiliza Python para análisis financieros y desarrollo de algoritmos de trading, resaltando su aplicabilidad en el sector financiero."
      ],
      "metadata": {
        "id": "yh5cKSlJ3rXY"
      }
    },
    {
      "cell_type": "code",
      "execution_count": null,
      "metadata": {
        "id": "CSI2fSAVAHvM"
      },
      "outputs": [],
      "source": []
    }
  ]
}