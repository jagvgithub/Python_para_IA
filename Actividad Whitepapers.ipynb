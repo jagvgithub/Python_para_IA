{
  "nbformat": 4,
  "nbformat_minor": 0,
  "metadata": {
    "colab": {
      "provenance": [],
      "authorship_tag": "ABX9TyMHDYPHrc0aLzBHw8yEKxBR",
      "include_colab_link": true
    },
    "kernelspec": {
      "name": "python3",
      "display_name": "Python 3"
    },
    "language_info": {
      "name": "python"
    }
  },
  "cells": [
    {
      "cell_type": "markdown",
      "metadata": {
        "id": "view-in-github",
        "colab_type": "text"
      },
      "source": [
        "<a href=\"https://colab.research.google.com/github/jagvgithub/Python_para_IA/blob/main/Actividad%20Whitepapers.ipynb\" target=\"_parent\"><img src=\"https://colab.research.google.com/assets/colab-badge.svg\" alt=\"Open In Colab\"/></a>"
      ]
    },
    {
      "cell_type": "markdown",
      "source": [
        "# Universidad Internacional de Valencia\n",
        "## Python para la inteligencia artificial\n",
        "### Jose Antonio Gómez Vargas\n",
        "### Actividad Whitepapers\n",
        "##### Enlace directo a github: https://github.com/jagvgithub/Python_para_IA/blob/main/Actividad%20Whitepapers.ipynb\n",
        "##### Junio - 2024"
      ],
      "metadata": {
        "id": "R8mx7bncAKeX"
      }
    },
    {
      "cell_type": "markdown",
      "source": [
        "<center>\n",
        "  <h1>EL AUGE EXPONENCIAL DEL LENGUAJE PYTHON EN EL DESARROLLO\n",
        "TECNOLÓGICO</h1>\n",
        "</center>\n"
      ],
      "metadata": {
        "id": "oLLauH5A3xz6"
      }
    },
    {
      "cell_type": "markdown",
      "source": [
        "_Resumen_\n",
        "\n",
        "- El documento proporciona una exploración exhaustiva del lenguaje de programación Python, destacando su evolución, características esenciales y su comparación con otros lenguajes de programación. Python, desarrollado por Guido van Rossum y lanzado por primera vez en 1991, ha evolucionado considerablemente, influyendo profundamente en diversas áreas tecnológicas y científicas. La sintaxis clara y legible de Python, junto con su enfoque en la simplicidad y la eficiencia, ha permitido su adopción masiva en múltiples sectores.\n",
        "\n",
        "---\n",
        "Evolución de Python\n",
        "\n",
        "---\n",
        "\n",
        "\n",
        "- Desde su creación, Python ha pasado por varias versiones, cada una introduciendo mejoras significativas. El lanzamiento de Python 2.0 en el año 2000 y Python 3.0 en 2008 fueron hitos importantes. Python 3.0, aunque no es completamente compatible con Python 2.x, trajo consigo una serie de mejoras que optimizaron la eficiencia y ampliaron las capacidades del lenguaje.\n",
        "\n",
        "---\n",
        "Características de Python\n",
        "\n",
        "---\n",
        "\n",
        "- Sintaxis Simple y Legible: Python es conocido por su sintaxis clara que favorece la legibilidad del código, facilitando la programación tanto para principiantes como para expertos.\n",
        "Interoperabilidad: Python puede integrarse fácilmente con otros lenguajes y tecnologías, lo que lo hace extremadamente versátil.\n",
        "\n",
        "- Gran Biblioteca Estándar: Python ofrece una amplia gama de bibliotecas estándar que proporcionan soluciones preconstruidas para muchas tareas comunes.\n",
        "Soporte de Paradigmas Múltiples: Python admite programación orientada a objetos, procedimental y funcional, ofreciendo flexibilidad en el diseño del software.\n",
        "Instituciones Implicadas\n",
        "El estudio y análisis detallado del documento fue realizado por un consorcio de instituciones destacadas en los campos de la tecnología y la investigación:\n",
        "\n",
        "* Massachusetts Institute of Technology (MIT): Reconocido por su liderazgo en investigación y educación tecnológica, el MIT ha sido pionero en la adopción y promoción de Python en diversas disciplinas académicas y científicas.\n",
        "\n",
        "* Google Research: La división de investigación de Google, que se centra en la innovación tecnológica y científica, utiliza Python extensamente para el desarrollo de algoritmos avanzados y soluciones de inteligencia artificial.\n",
        "\n",
        "* Stanford University: La Universidad de Stanford, una de las principales instituciones educativas en ciencias de la computación, ha incorporado Python en su currículo y en proyectos de investigación que abarcan desde el aprendizaje automático hasta la biología computacional.\n",
        "\n",
        "* NASA: La agencia espacial estadounidense utiliza Python para análisis de datos y simulaciones en misiones espaciales, destacando su capacidad para manejar grandes volúmenes de datos de manera eficiente.\n",
        "\n",
        "* JP Morgan Chase: Uno de los bancos de inversión más grandes del mundo, que utiliza Python para análisis financieros y desarrollo de algoritmos de trading, resaltando su aplicabilidad en el sector financiero."
      ],
      "metadata": {
        "id": "yh5cKSlJ3rXY"
      }
    },
    {
      "cell_type": "code",
      "execution_count": null,
      "metadata": {
        "id": "CSI2fSAVAHvM"
      },
      "outputs": [],
      "source": []
    },
    {
      "cell_type": "code",
      "source": [],
      "metadata": {
        "id": "zmo22Qj5P9YH"
      },
      "execution_count": null,
      "outputs": []
    },
    {
      "cell_type": "markdown",
      "source": [
        "Ejemplos de Aplicación\n",
        "Ciencia de Datos y Machine Learning:\n",
        "\n",
        "Bibliotecas: NumPy, pandas, scikit-learn, TensorFlow, Keras.\n",
        "Ejemplo:\n",
        "python\n",
        "Copy code\n",
        "import pandas as pd\n",
        "from sklearn.model_selection import train_test_split\n",
        "from sklearn.linear_model import LinearRegression\n",
        "from sklearn.metrics import mean_squared_error\n",
        "\n",
        "# Cargar datos\n",
        "df = pd.read_csv('financial_data.csv')\n",
        "\n",
        "# Preparar los datos\n",
        "X = df[['feature1', 'feature2']]\n",
        "y = df['target']\n",
        "X_train, X_test, y_train, y_test = train_test_split(X, y, test_size=0.2, random_state=42)\n",
        "\n",
        "# Entrenar modelo de regresión\n",
        "model = LinearRegression()\n",
        "model.fit(X_train, y_train)\n",
        "\n",
        "# Hacer predicciones y evaluar\n",
        "predictions = model.predict(X_test)\n",
        "mse = mean_squared_error(y_test, predictions)\n",
        "print(f'Error cuadrático medio: {mse}')\n",
        "Automatización de Procesos:\n",
        "\n",
        "Librerías: Selenium, Beautiful Soup.\n",
        "Ejemplo:\n",
        "python\n",
        "Copy code\n",
        "from selenium import webdriver\n",
        "\n",
        "# Configurar el navegador\n",
        "driver = webdriver.Chrome(executable_path='/path/to/chromedriver')\n",
        "\n",
        "# Navegar a una página web\n",
        "driver.get('https://example.com')\n",
        "\n",
        "# Extraer datos\n",
        "title = driver.title\n",
        "print(f'Título de la página: {title}')\n",
        "\n",
        "driver.quit()\n",
        "Desarrollo Web:\n",
        "\n",
        "Frameworks: Django, Flask.\n",
        "Ejemplo:\n",
        "python\n",
        "Copy code\n",
        "from flask import Flask, render_template\n",
        "\n",
        "app = Flask(__name__)\n",
        "\n",
        "@app.route('/')\n",
        "def home():\n",
        "    return render_template('index.html')\n",
        "\n",
        "if __name__ == '__main__':\n",
        "    app.run(debug=True)\n",
        "Conclusiones\n",
        "Desde la perspectiva del sector financiero, la adopción de Python aporta varios beneficios estratégicos:\n",
        "\n",
        "Optimización del Análisis Financiero: Python permite manejar grandes volúmenes de datos con eficiencia, utilizando bibliotecas especializadas para análisis cuantitativo y modelado financiero.\n",
        "Automatización y Eficiencia: La capacidad de Python para automatizar procesos rutinarios reduce la carga de trabajo manual y minimiza errores, mejorando la precisión y eficiencia operativa.\n",
        "Visualización Eficaz de Datos: Herramientas como Matplotlib y Seaborn facilitan la creación de visualizaciones claras, esenciales para la comunicación de resultados financieros a diversas partes interesadas.\n",
        "Innovación y Adaptabilidad: La continua evolución de Python y su comunidad activa aseguran que el lenguaje siga siendo relevante y capaz de adaptarse a nuevas necesidades y desafíos en el ámbito financiero.\n",
        "En resumen, Python ha demostrado ser una herramienta poderosa y adaptable, indispensable en la industria financiera para análisis de datos, automatización de procesos y desarrollo de aplicaciones robustas y eficientes."
      ],
      "metadata": {
        "id": "4Q3JD-CMP-vv"
      }
    }
  ]
}