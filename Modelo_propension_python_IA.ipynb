{
  "nbformat": 4,
  "nbformat_minor": 0,
  "metadata": {
    "colab": {
      "provenance": [],
      "include_colab_link": true
    },
    "kernelspec": {
      "name": "python3",
      "display_name": "Python 3"
    },
    "language_info": {
      "name": "python"
    },
    "widgets": {
      "application/vnd.jupyter.widget-state+json": {
        "eaaa24196f2f4ca58d96f75693707b31": {
          "model_module": "@jupyter-widgets/controls",
          "model_name": "HBoxModel",
          "model_module_version": "1.5.0",
          "state": {
            "_dom_classes": [],
            "_model_module": "@jupyter-widgets/controls",
            "_model_module_version": "1.5.0",
            "_model_name": "HBoxModel",
            "_view_count": null,
            "_view_module": "@jupyter-widgets/controls",
            "_view_module_version": "1.5.0",
            "_view_name": "HBoxView",
            "box_style": "",
            "children": [
              "IPY_MODEL_35901e46dd324088891ac9283d324827",
              "IPY_MODEL_dadaa51245f943d6a4d223a9f78ab318",
              "IPY_MODEL_5e67dd68d4e842e99d74073849fc2758"
            ],
            "layout": "IPY_MODEL_f103153f1a64487b99bafc0251cb7199"
          }
        },
        "35901e46dd324088891ac9283d324827": {
          "model_module": "@jupyter-widgets/controls",
          "model_name": "HTMLModel",
          "model_module_version": "1.5.0",
          "state": {
            "_dom_classes": [],
            "_model_module": "@jupyter-widgets/controls",
            "_model_module_version": "1.5.0",
            "_model_name": "HTMLModel",
            "_view_count": null,
            "_view_module": "@jupyter-widgets/controls",
            "_view_module_version": "1.5.0",
            "_view_name": "HTMLView",
            "description": "",
            "description_tooltip": null,
            "layout": "IPY_MODEL_226692c8e9bd47dc985432d09c057193",
            "placeholder": "​",
            "style": "IPY_MODEL_f82e9a801556439588d4c5aa787dc9b3",
            "value": "Processing: 100%"
          }
        },
        "dadaa51245f943d6a4d223a9f78ab318": {
          "model_module": "@jupyter-widgets/controls",
          "model_name": "FloatProgressModel",
          "model_module_version": "1.5.0",
          "state": {
            "_dom_classes": [],
            "_model_module": "@jupyter-widgets/controls",
            "_model_module_version": "1.5.0",
            "_model_name": "FloatProgressModel",
            "_view_count": null,
            "_view_module": "@jupyter-widgets/controls",
            "_view_module_version": "1.5.0",
            "_view_name": "ProgressView",
            "bar_style": "",
            "description": "",
            "description_tooltip": null,
            "layout": "IPY_MODEL_8e323adb52e641989e437bd884317146",
            "max": 65,
            "min": 0,
            "orientation": "horizontal",
            "style": "IPY_MODEL_64b9b8beccc04fcaa508b6e110b11cb3",
            "value": 65
          }
        },
        "5e67dd68d4e842e99d74073849fc2758": {
          "model_module": "@jupyter-widgets/controls",
          "model_name": "HTMLModel",
          "model_module_version": "1.5.0",
          "state": {
            "_dom_classes": [],
            "_model_module": "@jupyter-widgets/controls",
            "_model_module_version": "1.5.0",
            "_model_name": "HTMLModel",
            "_view_count": null,
            "_view_module": "@jupyter-widgets/controls",
            "_view_module_version": "1.5.0",
            "_view_name": "HTMLView",
            "description": "",
            "description_tooltip": null,
            "layout": "IPY_MODEL_1c470d31561b4cce99a14cf90077ddd8",
            "placeholder": "​",
            "style": "IPY_MODEL_a7298961fed143e6b53fab5b30ee45d3",
            "value": " 65/65 [07:41&lt;00:00,  3.09s/it]"
          }
        },
        "f103153f1a64487b99bafc0251cb7199": {
          "model_module": "@jupyter-widgets/base",
          "model_name": "LayoutModel",
          "model_module_version": "1.2.0",
          "state": {
            "_model_module": "@jupyter-widgets/base",
            "_model_module_version": "1.2.0",
            "_model_name": "LayoutModel",
            "_view_count": null,
            "_view_module": "@jupyter-widgets/base",
            "_view_module_version": "1.2.0",
            "_view_name": "LayoutView",
            "align_content": null,
            "align_items": null,
            "align_self": null,
            "border": null,
            "bottom": null,
            "display": null,
            "flex": null,
            "flex_flow": null,
            "grid_area": null,
            "grid_auto_columns": null,
            "grid_auto_flow": null,
            "grid_auto_rows": null,
            "grid_column": null,
            "grid_gap": null,
            "grid_row": null,
            "grid_template_areas": null,
            "grid_template_columns": null,
            "grid_template_rows": null,
            "height": null,
            "justify_content": null,
            "justify_items": null,
            "left": null,
            "margin": null,
            "max_height": null,
            "max_width": null,
            "min_height": null,
            "min_width": null,
            "object_fit": null,
            "object_position": null,
            "order": null,
            "overflow": null,
            "overflow_x": null,
            "overflow_y": null,
            "padding": null,
            "right": null,
            "top": null,
            "visibility": "hidden",
            "width": null
          }
        },
        "226692c8e9bd47dc985432d09c057193": {
          "model_module": "@jupyter-widgets/base",
          "model_name": "LayoutModel",
          "model_module_version": "1.2.0",
          "state": {
            "_model_module": "@jupyter-widgets/base",
            "_model_module_version": "1.2.0",
            "_model_name": "LayoutModel",
            "_view_count": null,
            "_view_module": "@jupyter-widgets/base",
            "_view_module_version": "1.2.0",
            "_view_name": "LayoutView",
            "align_content": null,
            "align_items": null,
            "align_self": null,
            "border": null,
            "bottom": null,
            "display": null,
            "flex": null,
            "flex_flow": null,
            "grid_area": null,
            "grid_auto_columns": null,
            "grid_auto_flow": null,
            "grid_auto_rows": null,
            "grid_column": null,
            "grid_gap": null,
            "grid_row": null,
            "grid_template_areas": null,
            "grid_template_columns": null,
            "grid_template_rows": null,
            "height": null,
            "justify_content": null,
            "justify_items": null,
            "left": null,
            "margin": null,
            "max_height": null,
            "max_width": null,
            "min_height": null,
            "min_width": null,
            "object_fit": null,
            "object_position": null,
            "order": null,
            "overflow": null,
            "overflow_x": null,
            "overflow_y": null,
            "padding": null,
            "right": null,
            "top": null,
            "visibility": null,
            "width": null
          }
        },
        "f82e9a801556439588d4c5aa787dc9b3": {
          "model_module": "@jupyter-widgets/controls",
          "model_name": "DescriptionStyleModel",
          "model_module_version": "1.5.0",
          "state": {
            "_model_module": "@jupyter-widgets/controls",
            "_model_module_version": "1.5.0",
            "_model_name": "DescriptionStyleModel",
            "_view_count": null,
            "_view_module": "@jupyter-widgets/base",
            "_view_module_version": "1.2.0",
            "_view_name": "StyleView",
            "description_width": ""
          }
        },
        "8e323adb52e641989e437bd884317146": {
          "model_module": "@jupyter-widgets/base",
          "model_name": "LayoutModel",
          "model_module_version": "1.2.0",
          "state": {
            "_model_module": "@jupyter-widgets/base",
            "_model_module_version": "1.2.0",
            "_model_name": "LayoutModel",
            "_view_count": null,
            "_view_module": "@jupyter-widgets/base",
            "_view_module_version": "1.2.0",
            "_view_name": "LayoutView",
            "align_content": null,
            "align_items": null,
            "align_self": null,
            "border": null,
            "bottom": null,
            "display": null,
            "flex": null,
            "flex_flow": null,
            "grid_area": null,
            "grid_auto_columns": null,
            "grid_auto_flow": null,
            "grid_auto_rows": null,
            "grid_column": null,
            "grid_gap": null,
            "grid_row": null,
            "grid_template_areas": null,
            "grid_template_columns": null,
            "grid_template_rows": null,
            "height": null,
            "justify_content": null,
            "justify_items": null,
            "left": null,
            "margin": null,
            "max_height": null,
            "max_width": null,
            "min_height": null,
            "min_width": null,
            "object_fit": null,
            "object_position": null,
            "order": null,
            "overflow": null,
            "overflow_x": null,
            "overflow_y": null,
            "padding": null,
            "right": null,
            "top": null,
            "visibility": null,
            "width": null
          }
        },
        "64b9b8beccc04fcaa508b6e110b11cb3": {
          "model_module": "@jupyter-widgets/controls",
          "model_name": "ProgressStyleModel",
          "model_module_version": "1.5.0",
          "state": {
            "_model_module": "@jupyter-widgets/controls",
            "_model_module_version": "1.5.0",
            "_model_name": "ProgressStyleModel",
            "_view_count": null,
            "_view_module": "@jupyter-widgets/base",
            "_view_module_version": "1.2.0",
            "_view_name": "StyleView",
            "bar_color": null,
            "description_width": ""
          }
        },
        "1c470d31561b4cce99a14cf90077ddd8": {
          "model_module": "@jupyter-widgets/base",
          "model_name": "LayoutModel",
          "model_module_version": "1.2.0",
          "state": {
            "_model_module": "@jupyter-widgets/base",
            "_model_module_version": "1.2.0",
            "_model_name": "LayoutModel",
            "_view_count": null,
            "_view_module": "@jupyter-widgets/base",
            "_view_module_version": "1.2.0",
            "_view_name": "LayoutView",
            "align_content": null,
            "align_items": null,
            "align_self": null,
            "border": null,
            "bottom": null,
            "display": null,
            "flex": null,
            "flex_flow": null,
            "grid_area": null,
            "grid_auto_columns": null,
            "grid_auto_flow": null,
            "grid_auto_rows": null,
            "grid_column": null,
            "grid_gap": null,
            "grid_row": null,
            "grid_template_areas": null,
            "grid_template_columns": null,
            "grid_template_rows": null,
            "height": null,
            "justify_content": null,
            "justify_items": null,
            "left": null,
            "margin": null,
            "max_height": null,
            "max_width": null,
            "min_height": null,
            "min_width": null,
            "object_fit": null,
            "object_position": null,
            "order": null,
            "overflow": null,
            "overflow_x": null,
            "overflow_y": null,
            "padding": null,
            "right": null,
            "top": null,
            "visibility": null,
            "width": null
          }
        },
        "a7298961fed143e6b53fab5b30ee45d3": {
          "model_module": "@jupyter-widgets/controls",
          "model_name": "DescriptionStyleModel",
          "model_module_version": "1.5.0",
          "state": {
            "_model_module": "@jupyter-widgets/controls",
            "_model_module_version": "1.5.0",
            "_model_name": "DescriptionStyleModel",
            "_view_count": null,
            "_view_module": "@jupyter-widgets/base",
            "_view_module_version": "1.2.0",
            "_view_name": "StyleView",
            "description_width": ""
          }
        },
        "4fd79b13a8274b20a0991dd615ec44ee": {
          "model_module": "@jupyter-widgets/controls",
          "model_name": "HBoxModel",
          "model_module_version": "1.5.0",
          "state": {
            "_dom_classes": [],
            "_model_module": "@jupyter-widgets/controls",
            "_model_module_version": "1.5.0",
            "_model_name": "HBoxModel",
            "_view_count": null,
            "_view_module": "@jupyter-widgets/controls",
            "_view_module_version": "1.5.0",
            "_view_name": "HBoxView",
            "box_style": "",
            "children": [
              "IPY_MODEL_d4257ddf4e0a4713bfe618d0a42cadc7",
              "IPY_MODEL_528528b9100347978f212e50cf5dac20",
              "IPY_MODEL_6a0d695fc81d4d19af66e55d6544f810"
            ],
            "layout": "IPY_MODEL_16bebdc3a88e452ea1870f21ff361886"
          }
        },
        "d4257ddf4e0a4713bfe618d0a42cadc7": {
          "model_module": "@jupyter-widgets/controls",
          "model_name": "HTMLModel",
          "model_module_version": "1.5.0",
          "state": {
            "_dom_classes": [],
            "_model_module": "@jupyter-widgets/controls",
            "_model_module_version": "1.5.0",
            "_model_name": "HTMLModel",
            "_view_count": null,
            "_view_module": "@jupyter-widgets/controls",
            "_view_module_version": "1.5.0",
            "_view_name": "HTMLView",
            "description": "",
            "description_tooltip": null,
            "layout": "IPY_MODEL_044d2ade60f44a6b92a92c918b6f6a7d",
            "placeholder": "​",
            "style": "IPY_MODEL_e966fc5e424a4d158f5f744a841aff2c",
            "value": "Processing: 100%"
          }
        },
        "528528b9100347978f212e50cf5dac20": {
          "model_module": "@jupyter-widgets/controls",
          "model_name": "FloatProgressModel",
          "model_module_version": "1.5.0",
          "state": {
            "_dom_classes": [],
            "_model_module": "@jupyter-widgets/controls",
            "_model_module_version": "1.5.0",
            "_model_name": "FloatProgressModel",
            "_view_count": null,
            "_view_module": "@jupyter-widgets/controls",
            "_view_module_version": "1.5.0",
            "_view_name": "ProgressView",
            "bar_style": "",
            "description": "",
            "description_tooltip": null,
            "layout": "IPY_MODEL_125a059d8c464117b6e11721847e075c",
            "max": 4,
            "min": 0,
            "orientation": "horizontal",
            "style": "IPY_MODEL_9555045bb3d94e0fa201d5910dc4a8ca",
            "value": 4
          }
        },
        "6a0d695fc81d4d19af66e55d6544f810": {
          "model_module": "@jupyter-widgets/controls",
          "model_name": "HTMLModel",
          "model_module_version": "1.5.0",
          "state": {
            "_dom_classes": [],
            "_model_module": "@jupyter-widgets/controls",
            "_model_module_version": "1.5.0",
            "_model_name": "HTMLModel",
            "_view_count": null,
            "_view_module": "@jupyter-widgets/controls",
            "_view_module_version": "1.5.0",
            "_view_name": "HTMLView",
            "description": "",
            "description_tooltip": null,
            "layout": "IPY_MODEL_aacfeec464ac41cc826ba2b2977f1d4b",
            "placeholder": "​",
            "style": "IPY_MODEL_16a4ab7591bf4b2ca250e76b7683476c",
            "value": " 4/4 [00:13&lt;00:00,  3.22s/it]"
          }
        },
        "16bebdc3a88e452ea1870f21ff361886": {
          "model_module": "@jupyter-widgets/base",
          "model_name": "LayoutModel",
          "model_module_version": "1.2.0",
          "state": {
            "_model_module": "@jupyter-widgets/base",
            "_model_module_version": "1.2.0",
            "_model_name": "LayoutModel",
            "_view_count": null,
            "_view_module": "@jupyter-widgets/base",
            "_view_module_version": "1.2.0",
            "_view_name": "LayoutView",
            "align_content": null,
            "align_items": null,
            "align_self": null,
            "border": null,
            "bottom": null,
            "display": null,
            "flex": null,
            "flex_flow": null,
            "grid_area": null,
            "grid_auto_columns": null,
            "grid_auto_flow": null,
            "grid_auto_rows": null,
            "grid_column": null,
            "grid_gap": null,
            "grid_row": null,
            "grid_template_areas": null,
            "grid_template_columns": null,
            "grid_template_rows": null,
            "height": null,
            "justify_content": null,
            "justify_items": null,
            "left": null,
            "margin": null,
            "max_height": null,
            "max_width": null,
            "min_height": null,
            "min_width": null,
            "object_fit": null,
            "object_position": null,
            "order": null,
            "overflow": null,
            "overflow_x": null,
            "overflow_y": null,
            "padding": null,
            "right": null,
            "top": null,
            "visibility": "hidden",
            "width": null
          }
        },
        "044d2ade60f44a6b92a92c918b6f6a7d": {
          "model_module": "@jupyter-widgets/base",
          "model_name": "LayoutModel",
          "model_module_version": "1.2.0",
          "state": {
            "_model_module": "@jupyter-widgets/base",
            "_model_module_version": "1.2.0",
            "_model_name": "LayoutModel",
            "_view_count": null,
            "_view_module": "@jupyter-widgets/base",
            "_view_module_version": "1.2.0",
            "_view_name": "LayoutView",
            "align_content": null,
            "align_items": null,
            "align_self": null,
            "border": null,
            "bottom": null,
            "display": null,
            "flex": null,
            "flex_flow": null,
            "grid_area": null,
            "grid_auto_columns": null,
            "grid_auto_flow": null,
            "grid_auto_rows": null,
            "grid_column": null,
            "grid_gap": null,
            "grid_row": null,
            "grid_template_areas": null,
            "grid_template_columns": null,
            "grid_template_rows": null,
            "height": null,
            "justify_content": null,
            "justify_items": null,
            "left": null,
            "margin": null,
            "max_height": null,
            "max_width": null,
            "min_height": null,
            "min_width": null,
            "object_fit": null,
            "object_position": null,
            "order": null,
            "overflow": null,
            "overflow_x": null,
            "overflow_y": null,
            "padding": null,
            "right": null,
            "top": null,
            "visibility": null,
            "width": null
          }
        },
        "e966fc5e424a4d158f5f744a841aff2c": {
          "model_module": "@jupyter-widgets/controls",
          "model_name": "DescriptionStyleModel",
          "model_module_version": "1.5.0",
          "state": {
            "_model_module": "@jupyter-widgets/controls",
            "_model_module_version": "1.5.0",
            "_model_name": "DescriptionStyleModel",
            "_view_count": null,
            "_view_module": "@jupyter-widgets/base",
            "_view_module_version": "1.2.0",
            "_view_name": "StyleView",
            "description_width": ""
          }
        },
        "125a059d8c464117b6e11721847e075c": {
          "model_module": "@jupyter-widgets/base",
          "model_name": "LayoutModel",
          "model_module_version": "1.2.0",
          "state": {
            "_model_module": "@jupyter-widgets/base",
            "_model_module_version": "1.2.0",
            "_model_name": "LayoutModel",
            "_view_count": null,
            "_view_module": "@jupyter-widgets/base",
            "_view_module_version": "1.2.0",
            "_view_name": "LayoutView",
            "align_content": null,
            "align_items": null,
            "align_self": null,
            "border": null,
            "bottom": null,
            "display": null,
            "flex": null,
            "flex_flow": null,
            "grid_area": null,
            "grid_auto_columns": null,
            "grid_auto_flow": null,
            "grid_auto_rows": null,
            "grid_column": null,
            "grid_gap": null,
            "grid_row": null,
            "grid_template_areas": null,
            "grid_template_columns": null,
            "grid_template_rows": null,
            "height": null,
            "justify_content": null,
            "justify_items": null,
            "left": null,
            "margin": null,
            "max_height": null,
            "max_width": null,
            "min_height": null,
            "min_width": null,
            "object_fit": null,
            "object_position": null,
            "order": null,
            "overflow": null,
            "overflow_x": null,
            "overflow_y": null,
            "padding": null,
            "right": null,
            "top": null,
            "visibility": null,
            "width": null
          }
        },
        "9555045bb3d94e0fa201d5910dc4a8ca": {
          "model_module": "@jupyter-widgets/controls",
          "model_name": "ProgressStyleModel",
          "model_module_version": "1.5.0",
          "state": {
            "_model_module": "@jupyter-widgets/controls",
            "_model_module_version": "1.5.0",
            "_model_name": "ProgressStyleModel",
            "_view_count": null,
            "_view_module": "@jupyter-widgets/base",
            "_view_module_version": "1.2.0",
            "_view_name": "StyleView",
            "bar_color": null,
            "description_width": ""
          }
        },
        "aacfeec464ac41cc826ba2b2977f1d4b": {
          "model_module": "@jupyter-widgets/base",
          "model_name": "LayoutModel",
          "model_module_version": "1.2.0",
          "state": {
            "_model_module": "@jupyter-widgets/base",
            "_model_module_version": "1.2.0",
            "_model_name": "LayoutModel",
            "_view_count": null,
            "_view_module": "@jupyter-widgets/base",
            "_view_module_version": "1.2.0",
            "_view_name": "LayoutView",
            "align_content": null,
            "align_items": null,
            "align_self": null,
            "border": null,
            "bottom": null,
            "display": null,
            "flex": null,
            "flex_flow": null,
            "grid_area": null,
            "grid_auto_columns": null,
            "grid_auto_flow": null,
            "grid_auto_rows": null,
            "grid_column": null,
            "grid_gap": null,
            "grid_row": null,
            "grid_template_areas": null,
            "grid_template_columns": null,
            "grid_template_rows": null,
            "height": null,
            "justify_content": null,
            "justify_items": null,
            "left": null,
            "margin": null,
            "max_height": null,
            "max_width": null,
            "min_height": null,
            "min_width": null,
            "object_fit": null,
            "object_position": null,
            "order": null,
            "overflow": null,
            "overflow_x": null,
            "overflow_y": null,
            "padding": null,
            "right": null,
            "top": null,
            "visibility": null,
            "width": null
          }
        },
        "16a4ab7591bf4b2ca250e76b7683476c": {
          "model_module": "@jupyter-widgets/controls",
          "model_name": "DescriptionStyleModel",
          "model_module_version": "1.5.0",
          "state": {
            "_model_module": "@jupyter-widgets/controls",
            "_model_module_version": "1.5.0",
            "_model_name": "DescriptionStyleModel",
            "_view_count": null,
            "_view_module": "@jupyter-widgets/base",
            "_view_module_version": "1.2.0",
            "_view_name": "StyleView",
            "description_width": ""
          }
        },
        "e8d64915b87f485fb0e9036a020e7996": {
          "model_module": "@jupyter-widgets/controls",
          "model_name": "HBoxModel",
          "model_module_version": "1.5.0",
          "state": {
            "_dom_classes": [],
            "_model_module": "@jupyter-widgets/controls",
            "_model_module_version": "1.5.0",
            "_model_name": "HBoxModel",
            "_view_count": null,
            "_view_module": "@jupyter-widgets/controls",
            "_view_module_version": "1.5.0",
            "_view_name": "HBoxView",
            "box_style": "",
            "children": [
              "IPY_MODEL_55dcf06c484a476da98d36f6a273da61",
              "IPY_MODEL_796aa63b0a8042daa775b5f9fddb83a0",
              "IPY_MODEL_9c19107f251645f88d59785c7aafad36"
            ],
            "layout": "IPY_MODEL_c621281b0f8c4057ac291251d7acc7af"
          }
        },
        "55dcf06c484a476da98d36f6a273da61": {
          "model_module": "@jupyter-widgets/controls",
          "model_name": "HTMLModel",
          "model_module_version": "1.5.0",
          "state": {
            "_dom_classes": [],
            "_model_module": "@jupyter-widgets/controls",
            "_model_module_version": "1.5.0",
            "_model_name": "HTMLModel",
            "_view_count": null,
            "_view_module": "@jupyter-widgets/controls",
            "_view_module_version": "1.5.0",
            "_view_name": "HTMLView",
            "description": "",
            "description_tooltip": null,
            "layout": "IPY_MODEL_cb2fca64eb4349c1b196e9302939d1f2",
            "placeholder": "​",
            "style": "IPY_MODEL_5b2991478ac94d18bade9161a4bc1e0c",
            "value": "Processing: 100%"
          }
        },
        "796aa63b0a8042daa775b5f9fddb83a0": {
          "model_module": "@jupyter-widgets/controls",
          "model_name": "FloatProgressModel",
          "model_module_version": "1.5.0",
          "state": {
            "_dom_classes": [],
            "_model_module": "@jupyter-widgets/controls",
            "_model_module_version": "1.5.0",
            "_model_name": "FloatProgressModel",
            "_view_count": null,
            "_view_module": "@jupyter-widgets/controls",
            "_view_module_version": "1.5.0",
            "_view_name": "ProgressView",
            "bar_style": "",
            "description": "",
            "description_tooltip": null,
            "layout": "IPY_MODEL_f3210468652d43d4b90107c9012f8d60",
            "max": 7,
            "min": 0,
            "orientation": "horizontal",
            "style": "IPY_MODEL_50df1ef6739d446385dd90a305446138",
            "value": 7
          }
        },
        "9c19107f251645f88d59785c7aafad36": {
          "model_module": "@jupyter-widgets/controls",
          "model_name": "HTMLModel",
          "model_module_version": "1.5.0",
          "state": {
            "_dom_classes": [],
            "_model_module": "@jupyter-widgets/controls",
            "_model_module_version": "1.5.0",
            "_model_name": "HTMLModel",
            "_view_count": null,
            "_view_module": "@jupyter-widgets/controls",
            "_view_module_version": "1.5.0",
            "_view_name": "HTMLView",
            "description": "",
            "description_tooltip": null,
            "layout": "IPY_MODEL_2f38b74be0a84e0abf8f73009da69d13",
            "placeholder": "​",
            "style": "IPY_MODEL_22b34d9cc4354bf5abb52d041d536f33",
            "value": " 7/7 [02:07&lt;00:00, 12.25s/it]"
          }
        },
        "c621281b0f8c4057ac291251d7acc7af": {
          "model_module": "@jupyter-widgets/base",
          "model_name": "LayoutModel",
          "model_module_version": "1.2.0",
          "state": {
            "_model_module": "@jupyter-widgets/base",
            "_model_module_version": "1.2.0",
            "_model_name": "LayoutModel",
            "_view_count": null,
            "_view_module": "@jupyter-widgets/base",
            "_view_module_version": "1.2.0",
            "_view_name": "LayoutView",
            "align_content": null,
            "align_items": null,
            "align_self": null,
            "border": null,
            "bottom": null,
            "display": null,
            "flex": null,
            "flex_flow": null,
            "grid_area": null,
            "grid_auto_columns": null,
            "grid_auto_flow": null,
            "grid_auto_rows": null,
            "grid_column": null,
            "grid_gap": null,
            "grid_row": null,
            "grid_template_areas": null,
            "grid_template_columns": null,
            "grid_template_rows": null,
            "height": null,
            "justify_content": null,
            "justify_items": null,
            "left": null,
            "margin": null,
            "max_height": null,
            "max_width": null,
            "min_height": null,
            "min_width": null,
            "object_fit": null,
            "object_position": null,
            "order": null,
            "overflow": null,
            "overflow_x": null,
            "overflow_y": null,
            "padding": null,
            "right": null,
            "top": null,
            "visibility": "hidden",
            "width": null
          }
        },
        "cb2fca64eb4349c1b196e9302939d1f2": {
          "model_module": "@jupyter-widgets/base",
          "model_name": "LayoutModel",
          "model_module_version": "1.2.0",
          "state": {
            "_model_module": "@jupyter-widgets/base",
            "_model_module_version": "1.2.0",
            "_model_name": "LayoutModel",
            "_view_count": null,
            "_view_module": "@jupyter-widgets/base",
            "_view_module_version": "1.2.0",
            "_view_name": "LayoutView",
            "align_content": null,
            "align_items": null,
            "align_self": null,
            "border": null,
            "bottom": null,
            "display": null,
            "flex": null,
            "flex_flow": null,
            "grid_area": null,
            "grid_auto_columns": null,
            "grid_auto_flow": null,
            "grid_auto_rows": null,
            "grid_column": null,
            "grid_gap": null,
            "grid_row": null,
            "grid_template_areas": null,
            "grid_template_columns": null,
            "grid_template_rows": null,
            "height": null,
            "justify_content": null,
            "justify_items": null,
            "left": null,
            "margin": null,
            "max_height": null,
            "max_width": null,
            "min_height": null,
            "min_width": null,
            "object_fit": null,
            "object_position": null,
            "order": null,
            "overflow": null,
            "overflow_x": null,
            "overflow_y": null,
            "padding": null,
            "right": null,
            "top": null,
            "visibility": null,
            "width": null
          }
        },
        "5b2991478ac94d18bade9161a4bc1e0c": {
          "model_module": "@jupyter-widgets/controls",
          "model_name": "DescriptionStyleModel",
          "model_module_version": "1.5.0",
          "state": {
            "_model_module": "@jupyter-widgets/controls",
            "_model_module_version": "1.5.0",
            "_model_name": "DescriptionStyleModel",
            "_view_count": null,
            "_view_module": "@jupyter-widgets/base",
            "_view_module_version": "1.2.0",
            "_view_name": "StyleView",
            "description_width": ""
          }
        },
        "f3210468652d43d4b90107c9012f8d60": {
          "model_module": "@jupyter-widgets/base",
          "model_name": "LayoutModel",
          "model_module_version": "1.2.0",
          "state": {
            "_model_module": "@jupyter-widgets/base",
            "_model_module_version": "1.2.0",
            "_model_name": "LayoutModel",
            "_view_count": null,
            "_view_module": "@jupyter-widgets/base",
            "_view_module_version": "1.2.0",
            "_view_name": "LayoutView",
            "align_content": null,
            "align_items": null,
            "align_self": null,
            "border": null,
            "bottom": null,
            "display": null,
            "flex": null,
            "flex_flow": null,
            "grid_area": null,
            "grid_auto_columns": null,
            "grid_auto_flow": null,
            "grid_auto_rows": null,
            "grid_column": null,
            "grid_gap": null,
            "grid_row": null,
            "grid_template_areas": null,
            "grid_template_columns": null,
            "grid_template_rows": null,
            "height": null,
            "justify_content": null,
            "justify_items": null,
            "left": null,
            "margin": null,
            "max_height": null,
            "max_width": null,
            "min_height": null,
            "min_width": null,
            "object_fit": null,
            "object_position": null,
            "order": null,
            "overflow": null,
            "overflow_x": null,
            "overflow_y": null,
            "padding": null,
            "right": null,
            "top": null,
            "visibility": null,
            "width": null
          }
        },
        "50df1ef6739d446385dd90a305446138": {
          "model_module": "@jupyter-widgets/controls",
          "model_name": "ProgressStyleModel",
          "model_module_version": "1.5.0",
          "state": {
            "_model_module": "@jupyter-widgets/controls",
            "_model_module_version": "1.5.0",
            "_model_name": "ProgressStyleModel",
            "_view_count": null,
            "_view_module": "@jupyter-widgets/base",
            "_view_module_version": "1.2.0",
            "_view_name": "StyleView",
            "bar_color": null,
            "description_width": ""
          }
        },
        "2f38b74be0a84e0abf8f73009da69d13": {
          "model_module": "@jupyter-widgets/base",
          "model_name": "LayoutModel",
          "model_module_version": "1.2.0",
          "state": {
            "_model_module": "@jupyter-widgets/base",
            "_model_module_version": "1.2.0",
            "_model_name": "LayoutModel",
            "_view_count": null,
            "_view_module": "@jupyter-widgets/base",
            "_view_module_version": "1.2.0",
            "_view_name": "LayoutView",
            "align_content": null,
            "align_items": null,
            "align_self": null,
            "border": null,
            "bottom": null,
            "display": null,
            "flex": null,
            "flex_flow": null,
            "grid_area": null,
            "grid_auto_columns": null,
            "grid_auto_flow": null,
            "grid_auto_rows": null,
            "grid_column": null,
            "grid_gap": null,
            "grid_row": null,
            "grid_template_areas": null,
            "grid_template_columns": null,
            "grid_template_rows": null,
            "height": null,
            "justify_content": null,
            "justify_items": null,
            "left": null,
            "margin": null,
            "max_height": null,
            "max_width": null,
            "min_height": null,
            "min_width": null,
            "object_fit": null,
            "object_position": null,
            "order": null,
            "overflow": null,
            "overflow_x": null,
            "overflow_y": null,
            "padding": null,
            "right": null,
            "top": null,
            "visibility": null,
            "width": null
          }
        },
        "22b34d9cc4354bf5abb52d041d536f33": {
          "model_module": "@jupyter-widgets/controls",
          "model_name": "DescriptionStyleModel",
          "model_module_version": "1.5.0",
          "state": {
            "_model_module": "@jupyter-widgets/controls",
            "_model_module_version": "1.5.0",
            "_model_name": "DescriptionStyleModel",
            "_view_count": null,
            "_view_module": "@jupyter-widgets/base",
            "_view_module_version": "1.2.0",
            "_view_name": "StyleView",
            "description_width": ""
          }
        }
      }
    }
  },
  "cells": [
    {
      "cell_type": "markdown",
      "metadata": {
        "id": "view-in-github",
        "colab_type": "text"
      },
      "source": [
        "<a href=\"https://colab.research.google.com/github/jagvgithub/Python_para_IA/blob/main/Modelo_propension_python_IA.ipynb\" target=\"_parent\"><img src=\"https://colab.research.google.com/assets/colab-badge.svg\" alt=\"Open In Colab\"/></a>"
      ]
    },
    {
      "cell_type": "markdown",
      "source": [
        "# Universidad Internacional de Valencia\n",
        "## Python para la inteligencia artificial\n",
        "### Jose Antonio Gómez Vargas\n",
        "### Proyecto\n",
        "#### Mayo - 2024"
      ],
      "metadata": {
        "id": "VOkYD87dMCr8"
      }
    },
    {
      "cell_type": "markdown",
      "source": [
        "ClasificaPrep: Preparando el Terreno para un Modelo Preciso\n",
        "---\n",
        "\n",
        "En el sector financiero, la venta cruzada es una estrategia crucial que implica ofrecer productos adicionales o complementarios a los clientes existentes. Esto puede incluir la oferta de servicios financieros como cuentas de ahorro, tarjetas de crédito, préstamos, seguros u otros productos relacionados.\n",
        "\n",
        "La importancia de la venta cruzada en el sector financiero radica en varios factores:\n",
        "\n",
        "* Incremento de ingresos: La venta cruzada permite a las instituciones financieras aumentar sus ingresos al ofrecer productos adicionales a los clientes existentes. En lugar de depender únicamente de un producto, como una cuenta de ahorros, las instituciones pueden diversificar sus fuentes de ingresos vendiendo una gama más amplia de productos y servicios.\n",
        "\n",
        "* Mejora de la retención de clientes: Al ofrecer una amplia gama de productos financieros y satisfacer múltiples necesidades de los clientes, las instituciones financieras pueden aumentar la retención de clientes. Los clientes que tienen múltiples productos con una institución son más propensos a permanecer leales y menos propensos a cambiarse a la competencia.\n",
        "\n",
        "* Aumento del valor de vida del cliente: La venta cruzada puede aumentar el valor de vida del cliente, es decir, el valor total que un cliente aporta a una institución financiera a lo largo de su relación. Al ofrecer productos adicionales, las instituciones pueden aumentar los ingresos generados por cada cliente a lo largo del tiempo.\n",
        "\n",
        "* Personalización y mejora de la experiencia del cliente: La venta cruzada bien ejecutada puede mejorar la experiencia del cliente al ofrecer productos y servicios que satisfacen sus necesidades específicas. Esto puede fortalecer la relación entre el cliente y la institución financiera al demostrar un entendimiento profundo de las necesidades financieras del cliente.\n",
        "\n",
        "* Optimización de la eficiencia operativa: Al vender múltiples productos a los clientes existentes, las instituciones financieras pueden optimizar sus operaciones al consolidar la gestión de la relación con el cliente y reducir los costos asociados con la adquisición de nuevos clientes.\n",
        "\n",
        "En resumen, la venta cruzada en el sector financiero es crucial para impulsar el crecimiento, mejorar la retención de clientes, aumentar el valor de vida del cliente y mejorar la experiencia general del cliente. Sin embargo, es importante que esta estrategia se implemente de manera ética y centrada en el cliente, garantizando que los productos adicionales ofrecidos sean realmente beneficiosos y adecuados para las necesidades individuales de cada cliente.\n",
        "\n",
        "\n",
        "En el ámbito del sector financiero, se ha diseñado un riguroso proceso de Extracción, Transformación y Carga (ETL) de datos sobre una tabla de clientes anonimizada. Este enfoque asegura la confidencialidad de la información sensible del cliente mientras se aprovechan los datos para la creación de un modelo de propensión.\n",
        "\n"
      ],
      "metadata": {
        "id": "QOsTqHRk8382"
      }
    },
    {
      "cell_type": "markdown",
      "source": [
        "---\n",
        "# Cargue de información que alimentará el modelo que se evaluará posteriormente\n",
        "---\n"
      ],
      "metadata": {
        "id": "wTOn46_nCiCP"
      }
    },
    {
      "cell_type": "code",
      "source": [
        "# Paquetes necesarios\n",
        "!pip install pycaret # Modelos ML\n",
        "!pip install gender_guesser # Estimación de género\n",
        "# Librerias necearias\n",
        "from google.colab import files  # Carga de datos\n",
        "import pandas as pd # Manipulación de bases de datos\n",
        "import numpy as np # Manipulación de bases de datos\n",
        "import matplotlib.pyplot as plt # Visualizaciones\n",
        "import keyword # Listado de palabras reservadas\n",
        "from wordcloud import WordCloud # Nube de palabras\n",
        "import gender_guesser.detector as gender # Estimación de género a partir del primer y segundo nombre\n"
      ],
      "metadata": {
        "id": "Z6IH15MbDx4U"
      },
      "execution_count": null,
      "outputs": []
    },
    {
      "cell_type": "code",
      "execution_count": null,
      "metadata": {
        "colab": {
          "base_uri": "https://localhost:8080/",
          "height": 73
        },
        "id": "79jExhZ4D4Ix",
        "outputId": "5dfadf4f-c156-4193-e907-7e983cb69b31"
      },
      "outputs": [
        {
          "output_type": "display_data",
          "data": {
            "text/plain": [
              "<IPython.core.display.HTML object>"
            ],
            "text/html": [
              "\n",
              "     <input type=\"file\" id=\"files-139e846f-c2a0-4b72-a94e-1a4de4fe67db\" name=\"files[]\" multiple disabled\n",
              "        style=\"border:none\" />\n",
              "     <output id=\"result-139e846f-c2a0-4b72-a94e-1a4de4fe67db\">\n",
              "      Upload widget is only available when the cell has been executed in the\n",
              "      current browser session. Please rerun this cell to enable.\n",
              "      </output>\n",
              "      <script>// Copyright 2017 Google LLC\n",
              "//\n",
              "// Licensed under the Apache License, Version 2.0 (the \"License\");\n",
              "// you may not use this file except in compliance with the License.\n",
              "// You may obtain a copy of the License at\n",
              "//\n",
              "//      http://www.apache.org/licenses/LICENSE-2.0\n",
              "//\n",
              "// Unless required by applicable law or agreed to in writing, software\n",
              "// distributed under the License is distributed on an \"AS IS\" BASIS,\n",
              "// WITHOUT WARRANTIES OR CONDITIONS OF ANY KIND, either express or implied.\n",
              "// See the License for the specific language governing permissions and\n",
              "// limitations under the License.\n",
              "\n",
              "/**\n",
              " * @fileoverview Helpers for google.colab Python module.\n",
              " */\n",
              "(function(scope) {\n",
              "function span(text, styleAttributes = {}) {\n",
              "  const element = document.createElement('span');\n",
              "  element.textContent = text;\n",
              "  for (const key of Object.keys(styleAttributes)) {\n",
              "    element.style[key] = styleAttributes[key];\n",
              "  }\n",
              "  return element;\n",
              "}\n",
              "\n",
              "// Max number of bytes which will be uploaded at a time.\n",
              "const MAX_PAYLOAD_SIZE = 100 * 1024;\n",
              "\n",
              "function _uploadFiles(inputId, outputId) {\n",
              "  const steps = uploadFilesStep(inputId, outputId);\n",
              "  const outputElement = document.getElementById(outputId);\n",
              "  // Cache steps on the outputElement to make it available for the next call\n",
              "  // to uploadFilesContinue from Python.\n",
              "  outputElement.steps = steps;\n",
              "\n",
              "  return _uploadFilesContinue(outputId);\n",
              "}\n",
              "\n",
              "// This is roughly an async generator (not supported in the browser yet),\n",
              "// where there are multiple asynchronous steps and the Python side is going\n",
              "// to poll for completion of each step.\n",
              "// This uses a Promise to block the python side on completion of each step,\n",
              "// then passes the result of the previous step as the input to the next step.\n",
              "function _uploadFilesContinue(outputId) {\n",
              "  const outputElement = document.getElementById(outputId);\n",
              "  const steps = outputElement.steps;\n",
              "\n",
              "  const next = steps.next(outputElement.lastPromiseValue);\n",
              "  return Promise.resolve(next.value.promise).then((value) => {\n",
              "    // Cache the last promise value to make it available to the next\n",
              "    // step of the generator.\n",
              "    outputElement.lastPromiseValue = value;\n",
              "    return next.value.response;\n",
              "  });\n",
              "}\n",
              "\n",
              "/**\n",
              " * Generator function which is called between each async step of the upload\n",
              " * process.\n",
              " * @param {string} inputId Element ID of the input file picker element.\n",
              " * @param {string} outputId Element ID of the output display.\n",
              " * @return {!Iterable<!Object>} Iterable of next steps.\n",
              " */\n",
              "function* uploadFilesStep(inputId, outputId) {\n",
              "  const inputElement = document.getElementById(inputId);\n",
              "  inputElement.disabled = false;\n",
              "\n",
              "  const outputElement = document.getElementById(outputId);\n",
              "  outputElement.innerHTML = '';\n",
              "\n",
              "  const pickedPromise = new Promise((resolve) => {\n",
              "    inputElement.addEventListener('change', (e) => {\n",
              "      resolve(e.target.files);\n",
              "    });\n",
              "  });\n",
              "\n",
              "  const cancel = document.createElement('button');\n",
              "  inputElement.parentElement.appendChild(cancel);\n",
              "  cancel.textContent = 'Cancel upload';\n",
              "  const cancelPromise = new Promise((resolve) => {\n",
              "    cancel.onclick = () => {\n",
              "      resolve(null);\n",
              "    };\n",
              "  });\n",
              "\n",
              "  // Wait for the user to pick the files.\n",
              "  const files = yield {\n",
              "    promise: Promise.race([pickedPromise, cancelPromise]),\n",
              "    response: {\n",
              "      action: 'starting',\n",
              "    }\n",
              "  };\n",
              "\n",
              "  cancel.remove();\n",
              "\n",
              "  // Disable the input element since further picks are not allowed.\n",
              "  inputElement.disabled = true;\n",
              "\n",
              "  if (!files) {\n",
              "    return {\n",
              "      response: {\n",
              "        action: 'complete',\n",
              "      }\n",
              "    };\n",
              "  }\n",
              "\n",
              "  for (const file of files) {\n",
              "    const li = document.createElement('li');\n",
              "    li.append(span(file.name, {fontWeight: 'bold'}));\n",
              "    li.append(span(\n",
              "        `(${file.type || 'n/a'}) - ${file.size} bytes, ` +\n",
              "        `last modified: ${\n",
              "            file.lastModifiedDate ? file.lastModifiedDate.toLocaleDateString() :\n",
              "                                    'n/a'} - `));\n",
              "    const percent = span('0% done');\n",
              "    li.appendChild(percent);\n",
              "\n",
              "    outputElement.appendChild(li);\n",
              "\n",
              "    const fileDataPromise = new Promise((resolve) => {\n",
              "      const reader = new FileReader();\n",
              "      reader.onload = (e) => {\n",
              "        resolve(e.target.result);\n",
              "      };\n",
              "      reader.readAsArrayBuffer(file);\n",
              "    });\n",
              "    // Wait for the data to be ready.\n",
              "    let fileData = yield {\n",
              "      promise: fileDataPromise,\n",
              "      response: {\n",
              "        action: 'continue',\n",
              "      }\n",
              "    };\n",
              "\n",
              "    // Use a chunked sending to avoid message size limits. See b/62115660.\n",
              "    let position = 0;\n",
              "    do {\n",
              "      const length = Math.min(fileData.byteLength - position, MAX_PAYLOAD_SIZE);\n",
              "      const chunk = new Uint8Array(fileData, position, length);\n",
              "      position += length;\n",
              "\n",
              "      const base64 = btoa(String.fromCharCode.apply(null, chunk));\n",
              "      yield {\n",
              "        response: {\n",
              "          action: 'append',\n",
              "          file: file.name,\n",
              "          data: base64,\n",
              "        },\n",
              "      };\n",
              "\n",
              "      let percentDone = fileData.byteLength === 0 ?\n",
              "          100 :\n",
              "          Math.round((position / fileData.byteLength) * 100);\n",
              "      percent.textContent = `${percentDone}% done`;\n",
              "\n",
              "    } while (position < fileData.byteLength);\n",
              "  }\n",
              "\n",
              "  // All done.\n",
              "  yield {\n",
              "    response: {\n",
              "      action: 'complete',\n",
              "    }\n",
              "  };\n",
              "}\n",
              "\n",
              "scope.google = scope.google || {};\n",
              "scope.google.colab = scope.google.colab || {};\n",
              "scope.google.colab._files = {\n",
              "  _uploadFiles,\n",
              "  _uploadFilesContinue,\n",
              "};\n",
              "})(self);\n",
              "</script> "
            ]
          },
          "metadata": {}
        },
        {
          "output_type": "stream",
          "name": "stdout",
          "text": [
            "Saving ModeloPropension.xlsx to ModeloPropension.xlsx\n"
          ]
        }
      ],
      "source": [
        "uploaded = files.upload() # Carga de información desde el equipo local"
      ]
    },
    {
      "cell_type": "code",
      "source": [
        "# Ruta al archivo xlsx en Google Colab\n",
        "ruta_archivo = '/content/ModeloPropension.xlsx'  # Asegúrate de que la ruta sea correcta según la ubicación del archivo cargado\n",
        "\n",
        "# Leer el archivo xlsx usando pandas\n",
        "datos = pd.DataFrame(pd.read_excel(ruta_archivo))\n",
        "\n",
        "# Mostrar los primeros 5 registros para verificar que se haya cargado correctamente\n",
        "print(datos[['Origen Nacional','MontoIngresos','Egresos']].head())\n",
        "\n",
        "# creación de campos constantes\n",
        "datos['TipoPersona'],datos['Escliente'],datos['Llave']  = 'Natural','1',dict(zip(datos['name1'],datos['Genero']))"
      ],
      "metadata": {
        "colab": {
          "base_uri": "https://localhost:8080/"
        },
        "id": "KzFYbxg_0TWH",
        "outputId": "2583a9bc-511e-43b7-f2bc-7175d8ca94a2"
      },
      "execution_count": null,
      "outputs": [
        {
          "output_type": "stream",
          "name": "stderr",
          "text": [
            "/usr/local/lib/python3.10/dist-packages/openpyxl/styles/stylesheet.py:226: UserWarning: Workbook contains no default style, apply openpyxl's default\n",
            "  warn(\"Workbook contains no default style, apply openpyxl's default\")\n"
          ]
        },
        {
          "output_type": "stream",
          "name": "stdout",
          "text": [
            "  Origen Nacional  MontoIngresos    Egresos\n",
            "0        COLOMBIA      2459000.0        0.0\n",
            "1        COLOMBIA      1300000.0   312000.0\n",
            "2        COLOMBIA       800000.0        NaN\n",
            "3        COLOMBIA      1000000.0  5005000.0\n",
            "4        COLOMBIA      1320000.0        NaN\n"
          ]
        }
      ]
    },
    {
      "cell_type": "markdown",
      "source": [
        "---\n",
        "# ! Cuidado con las palabras reservadas !\n",
        "---"
      ],
      "metadata": {
        "id": "Pwb8wTHrcW7s"
      }
    },
    {
      "cell_type": "code",
      "source": [
        "# Obtener la lista de palabras reservadas\n",
        "palabras_reservadas = keyword.kwlist\n",
        "\n",
        "# Convertir la lista de palabras reservadas a una cadena\n",
        "texto = ' '.join(palabras_reservadas)\n",
        "\n",
        "# Crear la nube de palabras\n",
        "wordcloud = WordCloud(width=800, height=400, background_color='white').generate(texto)\n",
        "\n",
        "# Visualizar la nube de palabras\n",
        "plt.figure(figsize=(10, 5))\n",
        "plt.imshow(wordcloud, interpolation='bilinear')\n",
        "plt.axis('off')\n",
        "plt.show()"
      ],
      "metadata": {
        "colab": {
          "base_uri": "https://localhost:8080/",
          "height": 422
        },
        "id": "OZR3b4Xmcc1e",
        "outputId": "7e8a9f3c-1801-4c3b-f615-8a86b7234a09"
      },
      "execution_count": null,
      "outputs": [
        {
          "output_type": "display_data",
          "data": {
            "text/plain": [
              "<Figure size 1000x500 with 1 Axes>"
            ],
            "image/png": "[encoded data removed]"
          },
          "metadata": {}
        }
      ]
    },
    {
      "cell_type": "code",
      "source": [
        "''' imprimir los difrentes formatos de datos que contiene la tabla de clientes '''\n",
        "print(datos.dtypes.unique())\n",
        "# determinar las dimensiones que posee el df\n",
        "print(datos.shape)"
      ],
      "metadata": {
        "id": "-Glf456XFovf",
        "outputId": "02f7424e-b158-4171-cbf9-40466d510a21",
        "colab": {
          "base_uri": "https://localhost:8080/"
        }
      },
      "execution_count": null,
      "outputs": [
        {
          "output_type": "stream",
          "name": "stdout",
          "text": [
            "[dtype('int64') dtype('float64') dtype('O')]\n",
            "(246036, 46)\n"
          ]
        }
      ]
    },
    {
      "cell_type": "markdown",
      "source": [
        "---\n",
        "# Análisis de datos faltantes\n",
        "---"
      ],
      "metadata": {
        "id": "E1WzMKsJUHUl"
      }
    },
    {
      "cell_type": "code",
      "source": [
        "# proporción de datos faltantes para cada columna\n",
        "proporcion_datos_faltantes = round(datos.isnull().sum() / len(datos),2) * 100\n",
        "print(proporcion_datos_faltantes)"
      ],
      "metadata": {
        "colab": {
          "base_uri": "https://localhost:8080/"
        },
        "id": "acgx8euwUhui",
        "outputId": "e2d16f78-14c4-44ca-c0e0-77d63d53b9ed"
      },
      "execution_count": null,
      "outputs": [
        {
          "output_type": "stream",
          "name": "stdout",
          "text": [
            "DocumentoCliente                      0.0\n",
            "MontoIngresos                         0.0\n",
            "Egresos                              14.0\n",
            "Pasivos                               9.0\n",
            "Origen Nacional                       0.0\n",
            "Departamento                          0.0\n",
            "Municipio                             1.0\n",
            "CodigoCIIU                            0.0\n",
            "MontoEntradasLarga                    0.0\n",
            "CantidadEntradasLarga                 0.0\n",
            "MontoSalidasLarga                     0.0\n",
            "CantidadSalidasLarga                  0.0\n",
            "MontoEntradasCorta                    0.0\n",
            "CantidadEntradasCorta                 0.0\n",
            "MontoSalidasCorta                     0.0\n",
            "CantidadSalidasCorta                  0.0\n",
            "VulnerabilidadLavadoActivos           2.0\n",
            "VulnerabilidadTerrorismo              2.0\n",
            "DOCUMENTACION FALSA EN RADICACION     0.0\n",
            "DOCUMENTACION FALSA INCOCREDITO       0.0\n",
            "ValidacionFraudes                     0.0\n",
            "pep                                   0.0\n",
            "extranjero                            0.0\n",
            "Incomercio                            0.0\n",
            "Aperturo_1_productos                  0.0\n",
            "Aperturo_2_productos                  0.0\n",
            "moras                                 0.0\n",
            "Compra comercio                       0.0\n",
            "Compra internet                       0.0\n",
            "Débitos                               0.0\n",
            "Pago TDC                              0.0\n",
            "Transferencia interbancaria           0.0\n",
            "Transferencia transfiya               0.0\n",
            "Retiro en cajero                      0.0\n",
            "Retiro en oficina                    92.0\n",
            "Reexpedicón TD                        0.0\n",
            "Avance TC                             0.0\n",
            "repeticiones                          0.0\n",
            "Genero                               40.0\n",
            "Acierta_Master                       22.0\n",
            "Deuda financiera con Finandina       22.0\n",
            "Deuda financiera-TodasObligFinanc    22.0\n",
            "name1                                 1.0\n",
            "name2                                27.0\n",
            "Pqrs                                  0.0\n",
            "RiesgoCanal                           0.0\n",
            "dtype: float64\n"
          ]
        }
      ]
    },
    {
      "cell_type": "markdown",
      "source": [
        "* Función para estimar el género del cliente y así poder incluir esta variable dentro del modelo.\n",
        "\n",
        "* Se puede incluir una estrategia de mercado de acuerdo al género del cliente, razón por la cual la variable Genero es fundamental para la construcción del modelo."
      ],
      "metadata": {
        "id": "oCK1P9-Ls_nC"
      }
    },
    {
      "cell_type": "code",
      "source": [
        "# Función para estimar el género de una lista de nombres\n",
        "def estimar_genero_por_bloques(nombres):\n",
        "    detector = gender.Detector()\n",
        "    generos = [detector.get_gender(nombre) for nombre in nombres]\n",
        "    return generos\n",
        "\n",
        "# Aplicar la función a las dos columnas\n",
        "datos['Genero_estimado_1'] = estimar_genero_por_bloques(datos['name1'])\n",
        "datos['Genero_estimado_2'] = estimar_genero_por_bloques(datos['name2'])\n",
        "\n",
        "datos['Genero']=np.where(datos['Genero'].isna(),datos['Genero_estimado_1'],datos['Genero'])\n",
        "datos['Genero']=np.where(datos['Genero'].isna(),datos['Genero_estimado_2'],datos['Genero'])\n",
        "\n",
        "def mapear_genero(genero):\n",
        "    if 'female' in genero:\n",
        "        return 'Femenino'\n",
        "    elif genero == 'F':\n",
        "        return 'Femenino'\n",
        "    elif pd.isnull(genero):\n",
        "        return 'NA'\n",
        "    else:\n",
        "        return 'Masculino'\n",
        "\n",
        "# Aplicar la función al DataFrame\n",
        "datos['Genero'] = datos['Genero'].apply(lambda x: mapear_genero(x))\n",
        "\n",
        "datos[col for col in datos.columns if 'Genero' in col ].value_counts()\n",
        "datos['Genero'].value_counts()"
      ],
      "metadata": {
        "colab": {
          "base_uri": "https://localhost:8080/"
        },
        "id": "y3qnL2ZmtMo3",
        "outputId": "58848e83-0358-43b2-b13e-8770c6bbbfaf"
      },
      "execution_count": null,
      "outputs": [
        {
          "output_type": "execute_result",
          "data": {
            "text/plain": [
              "Genero\n",
              "Masculino    155488\n",
              "Femenino      90548\n",
              "Name: count, dtype: int64"
            ]
          },
          "metadata": {},
          "execution_count": 16
        }
      ]
    },
    {
      "cell_type": "markdown",
      "source": [
        "* Función para estimar el género del cliente y así poder incluir esta variable dentro del modelo.\n",
        "\n",
        "* Se puede incluir una estrategia de mercado de acuerdo al género del cliente, razón por la cual la variable Genero es fundamental para la construcción del modelo."
      ],
      "metadata": {
        "id": "NvL5IE1D9VxL"
      }
    },
    {
      "cell_type": "markdown",
      "source": [
        "---\n",
        "# Imputación de datos faltantes\n",
        "---\n",
        "\n",
        "* Por practicidad del ejericio para las columna de tipo numérico para los valores faltantes se tomará la media de la población total.\n",
        "* En el caso de los campos con fromato string se tomará la moda del campo.\n",
        "* el campo \"Retiro en oficina\" al tener una proporción de datos faltantes arriba del 90 % no tiene sentido aplicarle el proceso de imputación, razón por la cual es necesario excluir del estudio esta columna (a menos que por criterio experto se deba mantener el campo)."
      ],
      "metadata": {
        "id": "njT5HGkMVhoT"
      }
    },
    {
      "cell_type": "code",
      "source": [
        "# Rellenar valores faltantes en columnas numéricas con la media de la población total\n",
        "columnas_numericas = datos.select_dtypes(include='number').columns.drop('Acierta_Master')\n",
        "\n",
        "# Iterar sobre las columnas numéricas\n",
        "for columna in columnas_numericas:\n",
        "    datos[columna] = datos[columna].fillna(datos[columna].mean())\n",
        "\n",
        "# Rellenar valores faltantes en columnas de tipo string con la moda del campo\n",
        "for columna in datos.select_dtypes(include='object').columns:\n",
        "    datos[columna] = datos[columna].fillna(datos[columna].mode()[0])"
      ],
      "metadata": {
        "id": "sJCwoX8-p1Ep"
      },
      "execution_count": null,
      "outputs": []
    },
    {
      "cell_type": "code",
      "source": [
        "# proporción de datos faltantes para cada columna\n",
        "proporcion_datos_faltantes = round(datos.isnull().sum() / len(datos),2) * 100\n",
        "print(proporcion_datos_faltantes)"
      ],
      "metadata": {
        "colab": {
          "base_uri": "https://localhost:8080/"
        },
        "id": "0IOoqMG865qW",
        "outputId": "d75fe2c5-c686-45ad-91aa-6ee704274021"
      },
      "execution_count": null,
      "outputs": [
        {
          "output_type": "stream",
          "name": "stdout",
          "text": [
            "DocumentoCliente                      0.0\n",
            "MontoIngresos                         0.0\n",
            "Egresos                               0.0\n",
            "Pasivos                               0.0\n",
            "Origen Nacional                       0.0\n",
            "Departamento                          0.0\n",
            "Municipio                             0.0\n",
            "CodigoCIIU                            0.0\n",
            "MontoEntradasLarga                    0.0\n",
            "CantidadEntradasLarga                 0.0\n",
            "MontoSalidasLarga                     0.0\n",
            "CantidadSalidasLarga                  0.0\n",
            "MontoEntradasCorta                    0.0\n",
            "CantidadEntradasCorta                 0.0\n",
            "MontoSalidasCorta                     0.0\n",
            "CantidadSalidasCorta                  0.0\n",
            "VulnerabilidadLavadoActivos           0.0\n",
            "VulnerabilidadTerrorismo              0.0\n",
            "DOCUMENTACION FALSA EN RADICACION     0.0\n",
            "DOCUMENTACION FALSA INCOCREDITO       0.0\n",
            "ValidacionFraudes                     0.0\n",
            "pep                                   0.0\n",
            "extranjero                            0.0\n",
            "Incomercio                            0.0\n",
            "Aperturo_1_productos                  0.0\n",
            "Aperturo_2_productos                  0.0\n",
            "moras                                 0.0\n",
            "Compra comercio                       0.0\n",
            "Compra internet                       0.0\n",
            "Débitos                               0.0\n",
            "Pago TDC                              0.0\n",
            "Transferencia interbancaria           0.0\n",
            "Transferencia transfiya               0.0\n",
            "Retiro en cajero                      0.0\n",
            "Retiro en oficina                     0.0\n",
            "Reexpedicón TD                        0.0\n",
            "Avance TC                             0.0\n",
            "repeticiones                          0.0\n",
            "Genero                                0.0\n",
            "Acierta_Master                       22.0\n",
            "Deuda financiera con Finandina        0.0\n",
            "Deuda financiera-TodasObligFinanc     0.0\n",
            "name1                                 0.0\n",
            "name2                                 0.0\n",
            "Pqrs                                  0.0\n",
            "RiesgoCanal                           0.0\n",
            "Genero_estimado_1                     0.0\n",
            "Genero_estimado_2                     0.0\n",
            "dtype: float64\n"
          ]
        }
      ]
    },
    {
      "cell_type": "code",
      "source": [
        "datos = datos.drop(columns={'Retiro en oficina','TipoPersona','Escliente','Llave'})\n",
        "print(datos.shape)"
      ],
      "metadata": {
        "colab": {
          "base_uri": "https://localhost:8080/"
        },
        "id": "wRHMi38iXvR6",
        "outputId": "de008602-00d8-49c8-a61e-cc906dc5c372"
      },
      "execution_count": null,
      "outputs": [
        {
          "output_type": "stream",
          "name": "stdout",
          "text": [
            "(246036, 47)\n"
          ]
        }
      ]
    },
    {
      "cell_type": "code",
      "source": [
        "plt.figure(figsize=(8, 6))  # Tamaño de la figura\n",
        "plt.hist(datos['Acierta_Master'], bins=20, color='skyblue', edgecolor='black')  # Histograma con 20 contenedores, color de cielo azul y bordes negros\n",
        "plt.title('Histograma de la columna score')  # Título del histograma\n",
        "plt.xlabel('Valor')  # Etiqueta del eje x\n",
        "plt.ylabel('Frecuencia')  # Etiqueta del eje y\n",
        "plt.grid(True)  # Habilitar cuadrícula\n",
        "plt.show()"
      ],
      "metadata": {
        "id": "iFx_06meYy8u"
      },
      "execution_count": null,
      "outputs": []
    },
    {
      "cell_type": "markdown",
      "source": [
        "---\n",
        "# Criterio de selección\n",
        "---\n",
        "\n",
        "Para la entidad financiera aquellos clientes con un Acierta_Master <= 680 deben ser descartados debido a que puede que no tengan un comportamiento de pagos adecuado y pueden afectar el indicador de cartera en mora.\n"
      ],
      "metadata": {
        "id": "h1IXflAzZ4AW"
      }
    },
    {
      "cell_type": "code",
      "source": [
        "while True:\n",
        "    try:\n",
        "        acierta = int(input('Ingrese el valor de Acierta hasta que un cliente quede descartado: '))\n",
        "        break  # Rompe el bucle si la entrada es válida\n",
        "    except ValueError:\n",
        "        print(\"Error: Debe ingresar un valor numérico. Por favor, inténtelo de nuevo.\")\n",
        "\n",
        "# El valor de 'acierta' es un entero en este punto\n",
        "print(\"El valor de 'acierta' es:\", acierta)\n",
        "datos = datos[datos['Acierta_Master']> acierta]\n",
        "print(datos.shape)"
      ],
      "metadata": {
        "colab": {
          "base_uri": "https://localhost:8080/"
        },
        "id": "6l0dkG7Ba-Gp",
        "outputId": "7393a10b-0da3-4762-a93e-cd774b3a90f1"
      },
      "execution_count": null,
      "outputs": [
        {
          "output_type": "stream",
          "name": "stdout",
          "text": [
            "Ingrese el valor de Acierta hasta que un cliente quede descartado: a\n",
            "Error: Debe ingresar un valor numérico. Por favor, inténtelo de nuevo.\n",
            "Ingrese el valor de Acierta hasta que un cliente quede descartado: jose\n",
            "Error: Debe ingresar un valor numérico. Por favor, inténtelo de nuevo.\n",
            "Ingrese el valor de Acierta hasta que un cliente quede descartado: 690\n",
            "El valor de 'acierta' es: 690\n",
            "(107673, 47)\n"
          ]
        }
      ]
    },
    {
      "cell_type": "code",
      "source": [
        "# Ajuste de formato a string\n",
        "datos['DocumentoCliente'] = datos['DocumentoCliente'].apply(lambda x: '{:.0f}'.format(x)).astype(str).str.strip()"
      ],
      "metadata": {
        "id": "cusfHSKWFxDu"
      },
      "execution_count": null,
      "outputs": []
    },
    {
      "cell_type": "markdown",
      "source": [
        "---\n",
        "# Limpieza de datos\n",
        "---"
      ],
      "metadata": {
        "id": "7xJ0vbWMlk__"
      }
    },
    {
      "cell_type": "code",
      "source": [
        "datos = datos.drop(columns={'name1','name2','Genero_estimado_1','Genero_estimado_2'})\n",
        "print(datos.shape)"
      ],
      "metadata": {
        "colab": {
          "base_uri": "https://localhost:8080/"
        },
        "id": "nwtmcHiXmAAP",
        "outputId": "f50b3307-7d11-49c9-c5a3-7c9aba4a1f46"
      },
      "execution_count": null,
      "outputs": [
        {
          "output_type": "stream",
          "name": "stdout",
          "text": [
            "(107673, 43)\n"
          ]
        }
      ]
    },
    {
      "cell_type": "markdown",
      "source": [
        "---\n",
        "# Construcción del modelo\n",
        "---\n",
        "* Entrenamiento y testeo"
      ],
      "metadata": {
        "id": "1dUxPVtSl2qf"
      }
    },
    {
      "cell_type": "code",
      "source": [
        "# Crear un índice para el DataFrame original\n",
        "datos = datos.reset_index(drop=True)\n",
        "\n",
        "# Dividir la base de datos en entrenamiento y prueba\n",
        "data = datos.sample(frac=0.75, random_state=786).reset_index(drop=True)  # conjunto de entrenamiento\n",
        "data_testeo = datos.drop(data.index).reset_index(drop=True)  # conjunto de prueba\n",
        "\n",
        "# Verificar las dimensiones de los conjuntos de entrenamiento y prueba\n",
        "print(\"Dimensiones del conjunto de entrenamiento:\", data.shape,\"Dimensiones del conjunto de prueba:\", data_testeo.shape)"
      ],
      "metadata": {
        "colab": {
          "base_uri": "https://localhost:8080/"
        },
        "id": "a2ffXa3WpKtJ",
        "outputId": "b09da418-c3ee-4717-8db7-d1f85d0f2217"
      },
      "execution_count": null,
      "outputs": [
        {
          "output_type": "stream",
          "name": "stdout",
          "text": [
            "Dimensiones del conjunto de entrenamiento: (80755, 43) Dimensiones del conjunto de prueba: (26918, 43)\n"
          ]
        }
      ]
    },
    {
      "cell_type": "code",
      "source": [
        "from pycaret.classification import * # la data ya tiene una marcacion de  01\n",
        "exp_clf101 = setup(data=data,target='Aperturo_2_productos',session_id=10001)  # variable  de interés"
      ],
      "metadata": {
        "colab": {
          "base_uri": "https://localhost:8080/",
          "height": 739
        },
        "id": "yb5dwnJPnAZI",
        "outputId": "6233fa9e-9f8a-47a8-c7f8-c4df5b1387ce"
      },
      "execution_count": null,
      "outputs": [
        {
          "output_type": "display_data",
          "data": {
            "text/plain": [
              "<pandas.io.formats.style.Styler at 0x7852e7739360>"
            ],
            "text/html": [
              "<style type=\"text/css\">\n",
              "#T_59882_row9_col1 {\n",
              "  background-color: lightgreen;\n",
              "}\n",
              "</style>\n",
              "<table id=\"T_59882\" class=\"dataframe\">\n",
              "  <thead>\n",
              "    <tr>\n",
              "      <th class=\"blank level0\" >&nbsp;</th>\n",
              "      <th id=\"T_59882_level0_col0\" class=\"col_heading level0 col0\" >Description</th>\n",
              "      <th id=\"T_59882_level0_col1\" class=\"col_heading level0 col1\" >Value</th>\n",
              "    </tr>\n",
              "  </thead>\n",
              "  <tbody>\n",
              "    <tr>\n",
              "      <th id=\"T_59882_level0_row0\" class=\"row_heading level0 row0\" >0</th>\n",
              "      <td id=\"T_59882_row0_col0\" class=\"data row0 col0\" >Session id</td>\n",
              "      <td id=\"T_59882_row0_col1\" class=\"data row0 col1\" >10001</td>\n",
              "    </tr>\n",
              "    <tr>\n",
              "      <th id=\"T_59882_level0_row1\" class=\"row_heading level0 row1\" >1</th>\n",
              "      <td id=\"T_59882_row1_col0\" class=\"data row1 col0\" >Target</td>\n",
              "      <td id=\"T_59882_row1_col1\" class=\"data row1 col1\" >Aperturo_2_productos</td>\n",
              "    </tr>\n",
              "    <tr>\n",
              "      <th id=\"T_59882_level0_row2\" class=\"row_heading level0 row2\" >2</th>\n",
              "      <td id=\"T_59882_row2_col0\" class=\"data row2 col0\" >Target type</td>\n",
              "      <td id=\"T_59882_row2_col1\" class=\"data row2 col1\" >Binary</td>\n",
              "    </tr>\n",
              "    <tr>\n",
              "      <th id=\"T_59882_level0_row3\" class=\"row_heading level0 row3\" >3</th>\n",
              "      <td id=\"T_59882_row3_col0\" class=\"data row3 col0\" >Original data shape</td>\n",
              "      <td id=\"T_59882_row3_col1\" class=\"data row3 col1\" >(80755, 43)</td>\n",
              "    </tr>\n",
              "    <tr>\n",
              "      <th id=\"T_59882_level0_row4\" class=\"row_heading level0 row4\" >4</th>\n",
              "      <td id=\"T_59882_row4_col0\" class=\"data row4 col0\" >Transformed data shape</td>\n",
              "      <td id=\"T_59882_row4_col1\" class=\"data row4 col1\" >(80755, 54)</td>\n",
              "    </tr>\n",
              "    <tr>\n",
              "      <th id=\"T_59882_level0_row5\" class=\"row_heading level0 row5\" >5</th>\n",
              "      <td id=\"T_59882_row5_col0\" class=\"data row5 col0\" >Transformed train set shape</td>\n",
              "      <td id=\"T_59882_row5_col1\" class=\"data row5 col1\" >(56528, 54)</td>\n",
              "    </tr>\n",
              "    <tr>\n",
              "      <th id=\"T_59882_level0_row6\" class=\"row_heading level0 row6\" >6</th>\n",
              "      <td id=\"T_59882_row6_col0\" class=\"data row6 col0\" >Transformed test set shape</td>\n",
              "      <td id=\"T_59882_row6_col1\" class=\"data row6 col1\" >(24227, 54)</td>\n",
              "    </tr>\n",
              "    <tr>\n",
              "      <th id=\"T_59882_level0_row7\" class=\"row_heading level0 row7\" >7</th>\n",
              "      <td id=\"T_59882_row7_col0\" class=\"data row7 col0\" >Numeric features</td>\n",
              "      <td id=\"T_59882_row7_col1\" class=\"data row7 col1\" >36</td>\n",
              "    </tr>\n",
              "    <tr>\n",
              "      <th id=\"T_59882_level0_row8\" class=\"row_heading level0 row8\" >8</th>\n",
              "      <td id=\"T_59882_row8_col0\" class=\"data row8 col0\" >Categorical features</td>\n",
              "      <td id=\"T_59882_row8_col1\" class=\"data row8 col1\" >6</td>\n",
              "    </tr>\n",
              "    <tr>\n",
              "      <th id=\"T_59882_level0_row9\" class=\"row_heading level0 row9\" >9</th>\n",
              "      <td id=\"T_59882_row9_col0\" class=\"data row9 col0\" >Preprocess</td>\n",
              "      <td id=\"T_59882_row9_col1\" class=\"data row9 col1\" >True</td>\n",
              "    </tr>\n",
              "    <tr>\n",
              "      <th id=\"T_59882_level0_row10\" class=\"row_heading level0 row10\" >10</th>\n",
              "      <td id=\"T_59882_row10_col0\" class=\"data row10 col0\" >Imputation type</td>\n",
              "      <td id=\"T_59882_row10_col1\" class=\"data row10 col1\" >simple</td>\n",
              "    </tr>\n",
              "    <tr>\n",
              "      <th id=\"T_59882_level0_row11\" class=\"row_heading level0 row11\" >11</th>\n",
              "      <td id=\"T_59882_row11_col0\" class=\"data row11 col0\" >Numeric imputation</td>\n",
              "      <td id=\"T_59882_row11_col1\" class=\"data row11 col1\" >mean</td>\n",
              "    </tr>\n",
              "    <tr>\n",
              "      <th id=\"T_59882_level0_row12\" class=\"row_heading level0 row12\" >12</th>\n",
              "      <td id=\"T_59882_row12_col0\" class=\"data row12 col0\" >Categorical imputation</td>\n",
              "      <td id=\"T_59882_row12_col1\" class=\"data row12 col1\" >mode</td>\n",
              "    </tr>\n",
              "    <tr>\n",
              "      <th id=\"T_59882_level0_row13\" class=\"row_heading level0 row13\" >13</th>\n",
              "      <td id=\"T_59882_row13_col0\" class=\"data row13 col0\" >Maximum one-hot encoding</td>\n",
              "      <td id=\"T_59882_row13_col1\" class=\"data row13 col1\" >25</td>\n",
              "    </tr>\n",
              "    <tr>\n",
              "      <th id=\"T_59882_level0_row14\" class=\"row_heading level0 row14\" >14</th>\n",
              "      <td id=\"T_59882_row14_col0\" class=\"data row14 col0\" >Encoding method</td>\n",
              "      <td id=\"T_59882_row14_col1\" class=\"data row14 col1\" >None</td>\n",
              "    </tr>\n",
              "    <tr>\n",
              "      <th id=\"T_59882_level0_row15\" class=\"row_heading level0 row15\" >15</th>\n",
              "      <td id=\"T_59882_row15_col0\" class=\"data row15 col0\" >Fold Generator</td>\n",
              "      <td id=\"T_59882_row15_col1\" class=\"data row15 col1\" >StratifiedKFold</td>\n",
              "    </tr>\n",
              "    <tr>\n",
              "      <th id=\"T_59882_level0_row16\" class=\"row_heading level0 row16\" >16</th>\n",
              "      <td id=\"T_59882_row16_col0\" class=\"data row16 col0\" >Fold Number</td>\n",
              "      <td id=\"T_59882_row16_col1\" class=\"data row16 col1\" >10</td>\n",
              "    </tr>\n",
              "    <tr>\n",
              "      <th id=\"T_59882_level0_row17\" class=\"row_heading level0 row17\" >17</th>\n",
              "      <td id=\"T_59882_row17_col0\" class=\"data row17 col0\" >CPU Jobs</td>\n",
              "      <td id=\"T_59882_row17_col1\" class=\"data row17 col1\" >-1</td>\n",
              "    </tr>\n",
              "    <tr>\n",
              "      <th id=\"T_59882_level0_row18\" class=\"row_heading level0 row18\" >18</th>\n",
              "      <td id=\"T_59882_row18_col0\" class=\"data row18 col0\" >Use GPU</td>\n",
              "      <td id=\"T_59882_row18_col1\" class=\"data row18 col1\" >False</td>\n",
              "    </tr>\n",
              "    <tr>\n",
              "      <th id=\"T_59882_level0_row19\" class=\"row_heading level0 row19\" >19</th>\n",
              "      <td id=\"T_59882_row19_col0\" class=\"data row19 col0\" >Log Experiment</td>\n",
              "      <td id=\"T_59882_row19_col1\" class=\"data row19 col1\" >False</td>\n",
              "    </tr>\n",
              "    <tr>\n",
              "      <th id=\"T_59882_level0_row20\" class=\"row_heading level0 row20\" >20</th>\n",
              "      <td id=\"T_59882_row20_col0\" class=\"data row20 col0\" >Experiment Name</td>\n",
              "      <td id=\"T_59882_row20_col1\" class=\"data row20 col1\" >clf-default-name</td>\n",
              "    </tr>\n",
              "    <tr>\n",
              "      <th id=\"T_59882_level0_row21\" class=\"row_heading level0 row21\" >21</th>\n",
              "      <td id=\"T_59882_row21_col0\" class=\"data row21 col0\" >USI</td>\n",
              "      <td id=\"T_59882_row21_col1\" class=\"data row21 col1\" >02f2</td>\n",
              "    </tr>\n",
              "  </tbody>\n",
              "</table>\n"
            ]
          },
          "metadata": {}
        }
      ]
    },
    {
      "cell_type": "markdown",
      "source": [
        "---\n",
        "# Validación cruzada\n",
        "---"
      ],
      "metadata": {
        "id": "2ee7RqeMqFEU"
      }
    },
    {
      "cell_type": "code",
      "source": [
        "best_model=compare_models()"
      ],
      "metadata": {
        "colab": {
          "base_uri": "https://localhost:8080/",
          "height": 520,
          "referenced_widgets": [
            "eaaa24196f2f4ca58d96f75693707b31",
            "35901e46dd324088891ac9283d324827",
            "dadaa51245f943d6a4d223a9f78ab318",
            "5e67dd68d4e842e99d74073849fc2758",
            "f103153f1a64487b99bafc0251cb7199",
            "226692c8e9bd47dc985432d09c057193",
            "f82e9a801556439588d4c5aa787dc9b3",
            "8e323adb52e641989e437bd884317146",
            "64b9b8beccc04fcaa508b6e110b11cb3",
            "1c470d31561b4cce99a14cf90077ddd8",
            "a7298961fed143e6b53fab5b30ee45d3"
          ]
        },
        "id": "CUZTrPOznH94",
        "outputId": "a7f05717-11b8-41c3-9d38-b36d0b1b34be"
      },
      "execution_count": null,
      "outputs": [
        {
          "output_type": "display_data",
          "data": {
            "text/plain": [
              "<IPython.core.display.HTML object>"
            ],
            "text/html": []
          },
          "metadata": {}
        },
        {
          "output_type": "display_data",
          "data": {
            "text/plain": [
              "<pandas.io.formats.style.Styler at 0x7852eda7bd30>"
            ],
            "text/html": [
              "<style type=\"text/css\">\n",
              "#T_109b6 th {\n",
              "  text-align: left;\n",
              "}\n",
              "#T_109b6_row0_col0, #T_109b6_row0_col2, #T_109b6_row0_col4, #T_109b6_row0_col6, #T_109b6_row1_col0, #T_109b6_row1_col1, #T_109b6_row1_col2, #T_109b6_row1_col3, #T_109b6_row1_col4, #T_109b6_row1_col5, #T_109b6_row1_col6, #T_109b6_row1_col7, #T_109b6_row2_col0, #T_109b6_row2_col1, #T_109b6_row2_col2, #T_109b6_row2_col4, #T_109b6_row2_col5, #T_109b6_row2_col6, #T_109b6_row2_col7, #T_109b6_row3_col0, #T_109b6_row3_col1, #T_109b6_row3_col4, #T_109b6_row3_col5, #T_109b6_row3_col6, #T_109b6_row3_col7, #T_109b6_row4_col0, #T_109b6_row4_col1, #T_109b6_row4_col2, #T_109b6_row4_col4, #T_109b6_row4_col5, #T_109b6_row4_col6, #T_109b6_row4_col7, #T_109b6_row5_col0, #T_109b6_row5_col1, #T_109b6_row5_col2, #T_109b6_row5_col4, #T_109b6_row5_col5, #T_109b6_row5_col6, #T_109b6_row5_col7, #T_109b6_row6_col0, #T_109b6_row6_col1, #T_109b6_row6_col2, #T_109b6_row6_col4, #T_109b6_row6_col5, #T_109b6_row6_col6, #T_109b6_row6_col7, #T_109b6_row7_col0, #T_109b6_row7_col1, #T_109b6_row7_col2, #T_109b6_row7_col4, #T_109b6_row7_col5, #T_109b6_row7_col6, #T_109b6_row7_col7, #T_109b6_row8_col0, #T_109b6_row8_col1, #T_109b6_row8_col2, #T_109b6_row8_col4, #T_109b6_row8_col5, #T_109b6_row8_col6, #T_109b6_row8_col7, #T_109b6_row9_col0, #T_109b6_row9_col1, #T_109b6_row9_col2, #T_109b6_row9_col4, #T_109b6_row9_col5, #T_109b6_row9_col6, #T_109b6_row9_col7, #T_109b6_row10_col0, #T_109b6_row10_col1, #T_109b6_row10_col2, #T_109b6_row10_col3, #T_109b6_row10_col4, #T_109b6_row10_col5, #T_109b6_row10_col6, #T_109b6_row10_col7, #T_109b6_row11_col0, #T_109b6_row11_col1, #T_109b6_row11_col2, #T_109b6_row11_col3, #T_109b6_row11_col5, #T_109b6_row11_col7, #T_109b6_row12_col0, #T_109b6_row12_col1, #T_109b6_row12_col2, #T_109b6_row12_col3, #T_109b6_row12_col4, #T_109b6_row12_col5, #T_109b6_row12_col6, #T_109b6_row12_col7, #T_109b6_row13_col0, #T_109b6_row13_col1, #T_109b6_row13_col2, #T_109b6_row13_col3, #T_109b6_row13_col4, #T_109b6_row13_col5, #T_109b6_row13_col6, #T_109b6_row13_col7, #T_109b6_row14_col0, #T_109b6_row14_col1, #T_109b6_row14_col2, #T_109b6_row14_col3, #T_109b6_row14_col4, #T_109b6_row14_col5, #T_109b6_row14_col6, #T_109b6_row14_col7 {\n",
              "  text-align: left;\n",
              "}\n",
              "#T_109b6_row0_col1, #T_109b6_row0_col3, #T_109b6_row0_col5, #T_109b6_row0_col7, #T_109b6_row2_col3, #T_109b6_row3_col2, #T_109b6_row3_col3, #T_109b6_row4_col3, #T_109b6_row5_col3, #T_109b6_row6_col3, #T_109b6_row7_col3, #T_109b6_row8_col3, #T_109b6_row9_col3, #T_109b6_row11_col4, #T_109b6_row11_col6 {\n",
              "  text-align: left;\n",
              "  background-color: yellow;\n",
              "}\n",
              "#T_109b6_row0_col8, #T_109b6_row1_col8, #T_109b6_row3_col8, #T_109b6_row4_col8, #T_109b6_row5_col8, #T_109b6_row6_col8, #T_109b6_row7_col8, #T_109b6_row8_col8, #T_109b6_row9_col8, #T_109b6_row10_col8, #T_109b6_row11_col8, #T_109b6_row12_col8, #T_109b6_row13_col8, #T_109b6_row14_col8 {\n",
              "  text-align: left;\n",
              "  background-color: lightgrey;\n",
              "}\n",
              "#T_109b6_row2_col8 {\n",
              "  text-align: left;\n",
              "  background-color: yellow;\n",
              "  background-color: lightgrey;\n",
              "}\n",
              "</style>\n",
              "<table id=\"T_109b6\" class=\"dataframe\">\n",
              "  <thead>\n",
              "    <tr>\n",
              "      <th class=\"blank level0\" >&nbsp;</th>\n",
              "      <th id=\"T_109b6_level0_col0\" class=\"col_heading level0 col0\" >Model</th>\n",
              "      <th id=\"T_109b6_level0_col1\" class=\"col_heading level0 col1\" >Accuracy</th>\n",
              "      <th id=\"T_109b6_level0_col2\" class=\"col_heading level0 col2\" >AUC</th>\n",
              "      <th id=\"T_109b6_level0_col3\" class=\"col_heading level0 col3\" >Recall</th>\n",
              "      <th id=\"T_109b6_level0_col4\" class=\"col_heading level0 col4\" >Prec.</th>\n",
              "      <th id=\"T_109b6_level0_col5\" class=\"col_heading level0 col5\" >F1</th>\n",
              "      <th id=\"T_109b6_level0_col6\" class=\"col_heading level0 col6\" >Kappa</th>\n",
              "      <th id=\"T_109b6_level0_col7\" class=\"col_heading level0 col7\" >MCC</th>\n",
              "      <th id=\"T_109b6_level0_col8\" class=\"col_heading level0 col8\" >TT (Sec)</th>\n",
              "    </tr>\n",
              "  </thead>\n",
              "  <tbody>\n",
              "    <tr>\n",
              "      <th id=\"T_109b6_level0_row0\" class=\"row_heading level0 row0\" >qda</th>\n",
              "      <td id=\"T_109b6_row0_col0\" class=\"data row0 col0\" >Quadratic Discriminant Analysis</td>\n",
              "      <td id=\"T_109b6_row0_col1\" class=\"data row0 col1\" >0.6394</td>\n",
              "      <td id=\"T_109b6_row0_col2\" class=\"data row0 col2\" >0.6918</td>\n",
              "      <td id=\"T_109b6_row0_col3\" class=\"data row0 col3\" >1.0000</td>\n",
              "      <td id=\"T_109b6_row0_col4\" class=\"data row0 col4\" >0.6350</td>\n",
              "      <td id=\"T_109b6_row0_col5\" class=\"data row0 col5\" >0.7768</td>\n",
              "      <td id=\"T_109b6_row0_col6\" class=\"data row0 col6\" >0.0405</td>\n",
              "      <td id=\"T_109b6_row0_col7\" class=\"data row0 col7\" >0.1435</td>\n",
              "      <td id=\"T_109b6_row0_col8\" class=\"data row0 col8\" >1.0820</td>\n",
              "    </tr>\n",
              "    <tr>\n",
              "      <th id=\"T_109b6_level0_row1\" class=\"row_heading level0 row1\" >et</th>\n",
              "      <td id=\"T_109b6_row1_col0\" class=\"data row1 col0\" >Extra Trees Classifier</td>\n",
              "      <td id=\"T_109b6_row1_col1\" class=\"data row1 col1\" >0.6390</td>\n",
              "      <td id=\"T_109b6_row1_col2\" class=\"data row1 col2\" >0.5627</td>\n",
              "      <td id=\"T_109b6_row1_col3\" class=\"data row1 col3\" >0.9957</td>\n",
              "      <td id=\"T_109b6_row1_col4\" class=\"data row1 col4\" >0.6355</td>\n",
              "      <td id=\"T_109b6_row1_col5\" class=\"data row1 col5\" >0.7758</td>\n",
              "      <td id=\"T_109b6_row1_col6\" class=\"data row1 col6\" >0.0425</td>\n",
              "      <td id=\"T_109b6_row1_col7\" class=\"data row1 col7\" >0.1374</td>\n",
              "      <td id=\"T_109b6_row1_col8\" class=\"data row1 col8\" >3.1300</td>\n",
              "    </tr>\n",
              "    <tr>\n",
              "      <th id=\"T_109b6_level0_row2\" class=\"row_heading level0 row2\" >dt</th>\n",
              "      <td id=\"T_109b6_row2_col0\" class=\"data row2 col0\" >Decision Tree Classifier</td>\n",
              "      <td id=\"T_109b6_row2_col1\" class=\"data row2 col1\" >0.6273</td>\n",
              "      <td id=\"T_109b6_row2_col2\" class=\"data row2 col2\" >0.5000</td>\n",
              "      <td id=\"T_109b6_row2_col3\" class=\"data row2 col3\" >1.0000</td>\n",
              "      <td id=\"T_109b6_row2_col4\" class=\"data row2 col4\" >0.6273</td>\n",
              "      <td id=\"T_109b6_row2_col5\" class=\"data row2 col5\" >0.7710</td>\n",
              "      <td id=\"T_109b6_row2_col6\" class=\"data row2 col6\" >0.0000</td>\n",
              "      <td id=\"T_109b6_row2_col7\" class=\"data row2 col7\" >0.0000</td>\n",
              "      <td id=\"T_109b6_row2_col8\" class=\"data row2 col8\" >0.8720</td>\n",
              "    </tr>\n",
              "    <tr>\n",
              "      <th id=\"T_109b6_level0_row3\" class=\"row_heading level0 row3\" >ridge</th>\n",
              "      <td id=\"T_109b6_row3_col0\" class=\"data row3 col0\" >Ridge Classifier</td>\n",
              "      <td id=\"T_109b6_row3_col1\" class=\"data row3 col1\" >0.6273</td>\n",
              "      <td id=\"T_109b6_row3_col2\" class=\"data row3 col2\" >0.7244</td>\n",
              "      <td id=\"T_109b6_row3_col3\" class=\"data row3 col3\" >1.0000</td>\n",
              "      <td id=\"T_109b6_row3_col4\" class=\"data row3 col4\" >0.6273</td>\n",
              "      <td id=\"T_109b6_row3_col5\" class=\"data row3 col5\" >0.7710</td>\n",
              "      <td id=\"T_109b6_row3_col6\" class=\"data row3 col6\" >0.0000</td>\n",
              "      <td id=\"T_109b6_row3_col7\" class=\"data row3 col7\" >0.0000</td>\n",
              "      <td id=\"T_109b6_row3_col8\" class=\"data row3 col8\" >1.0910</td>\n",
              "    </tr>\n",
              "    <tr>\n",
              "      <th id=\"T_109b6_level0_row4\" class=\"row_heading level0 row4\" >rf</th>\n",
              "      <td id=\"T_109b6_row4_col0\" class=\"data row4 col0\" >Random Forest Classifier</td>\n",
              "      <td id=\"T_109b6_row4_col1\" class=\"data row4 col1\" >0.6273</td>\n",
              "      <td id=\"T_109b6_row4_col2\" class=\"data row4 col2\" >0.6981</td>\n",
              "      <td id=\"T_109b6_row4_col3\" class=\"data row4 col3\" >1.0000</td>\n",
              "      <td id=\"T_109b6_row4_col4\" class=\"data row4 col4\" >0.6273</td>\n",
              "      <td id=\"T_109b6_row4_col5\" class=\"data row4 col5\" >0.7710</td>\n",
              "      <td id=\"T_109b6_row4_col6\" class=\"data row4 col6\" >0.0001</td>\n",
              "      <td id=\"T_109b6_row4_col7\" class=\"data row4 col7\" >0.0017</td>\n",
              "      <td id=\"T_109b6_row4_col8\" class=\"data row4 col8\" >7.4940</td>\n",
              "    </tr>\n",
              "    <tr>\n",
              "      <th id=\"T_109b6_level0_row5\" class=\"row_heading level0 row5\" >ada</th>\n",
              "      <td id=\"T_109b6_row5_col0\" class=\"data row5 col0\" >Ada Boost Classifier</td>\n",
              "      <td id=\"T_109b6_row5_col1\" class=\"data row5 col1\" >0.6273</td>\n",
              "      <td id=\"T_109b6_row5_col2\" class=\"data row5 col2\" >0.5000</td>\n",
              "      <td id=\"T_109b6_row5_col3\" class=\"data row5 col3\" >1.0000</td>\n",
              "      <td id=\"T_109b6_row5_col4\" class=\"data row5 col4\" >0.6273</td>\n",
              "      <td id=\"T_109b6_row5_col5\" class=\"data row5 col5\" >0.7710</td>\n",
              "      <td id=\"T_109b6_row5_col6\" class=\"data row5 col6\" >0.0000</td>\n",
              "      <td id=\"T_109b6_row5_col7\" class=\"data row5 col7\" >0.0000</td>\n",
              "      <td id=\"T_109b6_row5_col8\" class=\"data row5 col8\" >1.6000</td>\n",
              "    </tr>\n",
              "    <tr>\n",
              "      <th id=\"T_109b6_level0_row6\" class=\"row_heading level0 row6\" >gbc</th>\n",
              "      <td id=\"T_109b6_row6_col0\" class=\"data row6 col0\" >Gradient Boosting Classifier</td>\n",
              "      <td id=\"T_109b6_row6_col1\" class=\"data row6 col1\" >0.6273</td>\n",
              "      <td id=\"T_109b6_row6_col2\" class=\"data row6 col2\" >0.4995</td>\n",
              "      <td id=\"T_109b6_row6_col3\" class=\"data row6 col3\" >1.0000</td>\n",
              "      <td id=\"T_109b6_row6_col4\" class=\"data row6 col4\" >0.6273</td>\n",
              "      <td id=\"T_109b6_row6_col5\" class=\"data row6 col5\" >0.7710</td>\n",
              "      <td id=\"T_109b6_row6_col6\" class=\"data row6 col6\" >0.0000</td>\n",
              "      <td id=\"T_109b6_row6_col7\" class=\"data row6 col7\" >0.0000</td>\n",
              "      <td id=\"T_109b6_row6_col8\" class=\"data row6 col8\" >10.7360</td>\n",
              "    </tr>\n",
              "    <tr>\n",
              "      <th id=\"T_109b6_level0_row7\" class=\"row_heading level0 row7\" >lda</th>\n",
              "      <td id=\"T_109b6_row7_col0\" class=\"data row7 col0\" >Linear Discriminant Analysis</td>\n",
              "      <td id=\"T_109b6_row7_col1\" class=\"data row7 col1\" >0.6273</td>\n",
              "      <td id=\"T_109b6_row7_col2\" class=\"data row7 col2\" >0.5000</td>\n",
              "      <td id=\"T_109b6_row7_col3\" class=\"data row7 col3\" >1.0000</td>\n",
              "      <td id=\"T_109b6_row7_col4\" class=\"data row7 col4\" >0.6273</td>\n",
              "      <td id=\"T_109b6_row7_col5\" class=\"data row7 col5\" >0.7710</td>\n",
              "      <td id=\"T_109b6_row7_col6\" class=\"data row7 col6\" >0.0000</td>\n",
              "      <td id=\"T_109b6_row7_col7\" class=\"data row7 col7\" >0.0000</td>\n",
              "      <td id=\"T_109b6_row7_col8\" class=\"data row7 col8\" >1.2400</td>\n",
              "    </tr>\n",
              "    <tr>\n",
              "      <th id=\"T_109b6_level0_row8\" class=\"row_heading level0 row8\" >lightgbm</th>\n",
              "      <td id=\"T_109b6_row8_col0\" class=\"data row8 col0\" >Light Gradient Boosting Machine</td>\n",
              "      <td id=\"T_109b6_row8_col1\" class=\"data row8 col1\" >0.6273</td>\n",
              "      <td id=\"T_109b6_row8_col2\" class=\"data row8 col2\" >0.5000</td>\n",
              "      <td id=\"T_109b6_row8_col3\" class=\"data row8 col3\" >1.0000</td>\n",
              "      <td id=\"T_109b6_row8_col4\" class=\"data row8 col4\" >0.6273</td>\n",
              "      <td id=\"T_109b6_row8_col5\" class=\"data row8 col5\" >0.7710</td>\n",
              "      <td id=\"T_109b6_row8_col6\" class=\"data row8 col6\" >0.0000</td>\n",
              "      <td id=\"T_109b6_row8_col7\" class=\"data row8 col7\" >0.0000</td>\n",
              "      <td id=\"T_109b6_row8_col8\" class=\"data row8 col8\" >3.1000</td>\n",
              "    </tr>\n",
              "    <tr>\n",
              "      <th id=\"T_109b6_level0_row9\" class=\"row_heading level0 row9\" >dummy</th>\n",
              "      <td id=\"T_109b6_row9_col0\" class=\"data row9 col0\" >Dummy Classifier</td>\n",
              "      <td id=\"T_109b6_row9_col1\" class=\"data row9 col1\" >0.6273</td>\n",
              "      <td id=\"T_109b6_row9_col2\" class=\"data row9 col2\" >0.5000</td>\n",
              "      <td id=\"T_109b6_row9_col3\" class=\"data row9 col3\" >1.0000</td>\n",
              "      <td id=\"T_109b6_row9_col4\" class=\"data row9 col4\" >0.6273</td>\n",
              "      <td id=\"T_109b6_row9_col5\" class=\"data row9 col5\" >0.7710</td>\n",
              "      <td id=\"T_109b6_row9_col6\" class=\"data row9 col6\" >0.0000</td>\n",
              "      <td id=\"T_109b6_row9_col7\" class=\"data row9 col7\" >0.0000</td>\n",
              "      <td id=\"T_109b6_row9_col8\" class=\"data row9 col8\" >1.0630</td>\n",
              "    </tr>\n",
              "    <tr>\n",
              "      <th id=\"T_109b6_level0_row10\" class=\"row_heading level0 row10\" >lr</th>\n",
              "      <td id=\"T_109b6_row10_col0\" class=\"data row10 col0\" >Logistic Regression</td>\n",
              "      <td id=\"T_109b6_row10_col1\" class=\"data row10 col1\" >0.6272</td>\n",
              "      <td id=\"T_109b6_row10_col2\" class=\"data row10 col2\" >0.5670</td>\n",
              "      <td id=\"T_109b6_row10_col3\" class=\"data row10 col3\" >0.9990</td>\n",
              "      <td id=\"T_109b6_row10_col4\" class=\"data row10 col4\" >0.6274</td>\n",
              "      <td id=\"T_109b6_row10_col5\" class=\"data row10 col5\" >0.7707</td>\n",
              "      <td id=\"T_109b6_row10_col6\" class=\"data row10 col6\" >0.0004</td>\n",
              "      <td id=\"T_109b6_row10_col7\" class=\"data row10 col7\" >0.0036</td>\n",
              "      <td id=\"T_109b6_row10_col8\" class=\"data row10 col8\" >3.4390</td>\n",
              "    </tr>\n",
              "    <tr>\n",
              "      <th id=\"T_109b6_level0_row11\" class=\"row_heading level0 row11\" >knn</th>\n",
              "      <td id=\"T_109b6_row11_col0\" class=\"data row11 col0\" >K Neighbors Classifier</td>\n",
              "      <td id=\"T_109b6_row11_col1\" class=\"data row11 col1\" >0.6005</td>\n",
              "      <td id=\"T_109b6_row11_col2\" class=\"data row11 col2\" >0.5889</td>\n",
              "      <td id=\"T_109b6_row11_col3\" class=\"data row11 col3\" >0.7217</td>\n",
              "      <td id=\"T_109b6_row11_col4\" class=\"data row11 col4\" >0.6681</td>\n",
              "      <td id=\"T_109b6_row11_col5\" class=\"data row11 col5\" >0.6938</td>\n",
              "      <td id=\"T_109b6_row11_col6\" class=\"data row11 col6\" >0.1214</td>\n",
              "      <td id=\"T_109b6_row11_col7\" class=\"data row11 col7\" >0.1222</td>\n",
              "      <td id=\"T_109b6_row11_col8\" class=\"data row11 col8\" >6.1300</td>\n",
              "    </tr>\n",
              "    <tr>\n",
              "      <th id=\"T_109b6_level0_row12\" class=\"row_heading level0 row12\" >svm</th>\n",
              "      <td id=\"T_109b6_row12_col0\" class=\"data row12 col0\" >SVM - Linear Kernel</td>\n",
              "      <td id=\"T_109b6_row12_col1\" class=\"data row12 col1\" >0.5336</td>\n",
              "      <td id=\"T_109b6_row12_col2\" class=\"data row12 col2\" >0.5281</td>\n",
              "      <td id=\"T_109b6_row12_col3\" class=\"data row12 col3\" >0.5708</td>\n",
              "      <td id=\"T_109b6_row12_col4\" class=\"data row12 col4\" >0.6403</td>\n",
              "      <td id=\"T_109b6_row12_col5\" class=\"data row12 col5\" >0.5191</td>\n",
              "      <td id=\"T_109b6_row12_col6\" class=\"data row12 col6\" >0.0446</td>\n",
              "      <td id=\"T_109b6_row12_col7\" class=\"data row12 col7\" >0.0491</td>\n",
              "      <td id=\"T_109b6_row12_col8\" class=\"data row12 col8\" >1.5640</td>\n",
              "    </tr>\n",
              "    <tr>\n",
              "      <th id=\"T_109b6_level0_row13\" class=\"row_heading level0 row13\" >nb</th>\n",
              "      <td id=\"T_109b6_row13_col0\" class=\"data row13 col0\" >Naive Bayes</td>\n",
              "      <td id=\"T_109b6_row13_col1\" class=\"data row13 col1\" >0.3850</td>\n",
              "      <td id=\"T_109b6_row13_col2\" class=\"data row13 col2\" >0.5207</td>\n",
              "      <td id=\"T_109b6_row13_col3\" class=\"data row13 col3\" >0.0465</td>\n",
              "      <td id=\"T_109b6_row13_col4\" class=\"data row13 col4\" >0.6364</td>\n",
              "      <td id=\"T_109b6_row13_col5\" class=\"data row13 col5\" >0.0867</td>\n",
              "      <td id=\"T_109b6_row13_col6\" class=\"data row13 col6\" >0.0010</td>\n",
              "      <td id=\"T_109b6_row13_col7\" class=\"data row13 col7\" >0.0035</td>\n",
              "      <td id=\"T_109b6_row13_col8\" class=\"data row13 col8\" >0.8930</td>\n",
              "    </tr>\n",
              "    <tr>\n",
              "      <th id=\"T_109b6_level0_row14\" class=\"row_heading level0 row14\" >xgboost</th>\n",
              "      <td id=\"T_109b6_row14_col0\" class=\"data row14 col0\" >Extreme Gradient Boosting</td>\n",
              "      <td id=\"T_109b6_row14_col1\" class=\"data row14 col1\" >0.3727</td>\n",
              "      <td id=\"T_109b6_row14_col2\" class=\"data row14 col2\" >0.5000</td>\n",
              "      <td id=\"T_109b6_row14_col3\" class=\"data row14 col3\" >0.0000</td>\n",
              "      <td id=\"T_109b6_row14_col4\" class=\"data row14 col4\" >0.0000</td>\n",
              "      <td id=\"T_109b6_row14_col5\" class=\"data row14 col5\" >0.0000</td>\n",
              "      <td id=\"T_109b6_row14_col6\" class=\"data row14 col6\" >0.0000</td>\n",
              "      <td id=\"T_109b6_row14_col7\" class=\"data row14 col7\" >0.0000</td>\n",
              "      <td id=\"T_109b6_row14_col8\" class=\"data row14 col8\" >1.9400</td>\n",
              "    </tr>\n",
              "  </tbody>\n",
              "</table>\n"
            ]
          },
          "metadata": {}
        },
        {
          "output_type": "display_data",
          "data": {
            "text/plain": [
              "Processing:   0%|          | 0/65 [00:00<?, ?it/s]"
            ],
            "application/vnd.jupyter.widget-view+json": {
              "version_major": 2,
              "version_minor": 0,
              "model_id": "eaaa24196f2f4ca58d96f75693707b31"
            }
          },
          "metadata": {
            "application/vnd.jupyter.widget-view+json": {
              "colab": {
                "custom_widget_manager": {
                  "url": "https://ssl.gstatic.com/colaboratory-static/widgets/colab-cdn-widget-manager/2b70e893a8ba7c0f/manager.min.js"
                }
              }
            }
          }
        },
        {
          "output_type": "display_data",
          "data": {
            "text/plain": [
              "<IPython.core.display.HTML object>"
            ],
            "text/html": []
          },
          "metadata": {}
        }
      ]
    },
    {
      "cell_type": "code",
      "source": [
        "modelo = create_model('qda')"
      ],
      "metadata": {
        "id": "H2mR6yYGKYg9",
        "outputId": "aa13a35c-8b12-48b1-835e-9f7afd3c63fb",
        "colab": {
          "base_uri": "https://localhost:8080/",
          "height": 457,
          "referenced_widgets": [
            "4fd79b13a8274b20a0991dd615ec44ee",
            "d4257ddf4e0a4713bfe618d0a42cadc7",
            "528528b9100347978f212e50cf5dac20",
            "6a0d695fc81d4d19af66e55d6544f810",
            "16bebdc3a88e452ea1870f21ff361886",
            "044d2ade60f44a6b92a92c918b6f6a7d",
            "e966fc5e424a4d158f5f744a841aff2c",
            "125a059d8c464117b6e11721847e075c",
            "9555045bb3d94e0fa201d5910dc4a8ca",
            "aacfeec464ac41cc826ba2b2977f1d4b",
            "16a4ab7591bf4b2ca250e76b7683476c"
          ]
        }
      },
      "execution_count": null,
      "outputs": [
        {
          "output_type": "display_data",
          "data": {
            "text/plain": [
              "<IPython.core.display.HTML object>"
            ],
            "text/html": []
          },
          "metadata": {}
        },
        {
          "output_type": "display_data",
          "data": {
            "text/plain": [
              "<pandas.io.formats.style.Styler at 0x7852e7739900>"
            ],
            "text/html": [
              "<style type=\"text/css\">\n",
              "#T_07d11_row10_col0, #T_07d11_row10_col1, #T_07d11_row10_col2, #T_07d11_row10_col3, #T_07d11_row10_col4, #T_07d11_row10_col5, #T_07d11_row10_col6 {\n",
              "  background: yellow;\n",
              "}\n",
              "</style>\n",
              "<table id=\"T_07d11\" class=\"dataframe\">\n",
              "  <thead>\n",
              "    <tr>\n",
              "      <th class=\"blank level0\" >&nbsp;</th>\n",
              "      <th id=\"T_07d11_level0_col0\" class=\"col_heading level0 col0\" >Accuracy</th>\n",
              "      <th id=\"T_07d11_level0_col1\" class=\"col_heading level0 col1\" >AUC</th>\n",
              "      <th id=\"T_07d11_level0_col2\" class=\"col_heading level0 col2\" >Recall</th>\n",
              "      <th id=\"T_07d11_level0_col3\" class=\"col_heading level0 col3\" >Prec.</th>\n",
              "      <th id=\"T_07d11_level0_col4\" class=\"col_heading level0 col4\" >F1</th>\n",
              "      <th id=\"T_07d11_level0_col5\" class=\"col_heading level0 col5\" >Kappa</th>\n",
              "      <th id=\"T_07d11_level0_col6\" class=\"col_heading level0 col6\" >MCC</th>\n",
              "    </tr>\n",
              "    <tr>\n",
              "      <th class=\"index_name level0\" >Fold</th>\n",
              "      <th class=\"blank col0\" >&nbsp;</th>\n",
              "      <th class=\"blank col1\" >&nbsp;</th>\n",
              "      <th class=\"blank col2\" >&nbsp;</th>\n",
              "      <th class=\"blank col3\" >&nbsp;</th>\n",
              "      <th class=\"blank col4\" >&nbsp;</th>\n",
              "      <th class=\"blank col5\" >&nbsp;</th>\n",
              "      <th class=\"blank col6\" >&nbsp;</th>\n",
              "    </tr>\n",
              "  </thead>\n",
              "  <tbody>\n",
              "    <tr>\n",
              "      <th id=\"T_07d11_level0_row0\" class=\"row_heading level0 row0\" >0</th>\n",
              "      <td id=\"T_07d11_row0_col0\" class=\"data row0 col0\" >0.6413</td>\n",
              "      <td id=\"T_07d11_row0_col1\" class=\"data row0 col1\" >0.7309</td>\n",
              "      <td id=\"T_07d11_row0_col2\" class=\"data row0 col2\" >1.0000</td>\n",
              "      <td id=\"T_07d11_row0_col3\" class=\"data row0 col3\" >0.6362</td>\n",
              "      <td id=\"T_07d11_row0_col4\" class=\"data row0 col4\" >0.7776</td>\n",
              "      <td id=\"T_07d11_row0_col5\" class=\"data row0 col5\" >0.0466</td>\n",
              "      <td id=\"T_07d11_row0_col6\" class=\"data row0 col6\" >0.1544</td>\n",
              "    </tr>\n",
              "    <tr>\n",
              "      <th id=\"T_07d11_level0_row1\" class=\"row_heading level0 row1\" >1</th>\n",
              "      <td id=\"T_07d11_row1_col0\" class=\"data row1 col0\" >0.6398</td>\n",
              "      <td id=\"T_07d11_row1_col1\" class=\"data row1 col1\" >0.7289</td>\n",
              "      <td id=\"T_07d11_row1_col2\" class=\"data row1 col2\" >1.0000</td>\n",
              "      <td id=\"T_07d11_row1_col3\" class=\"data row1 col3\" >0.6353</td>\n",
              "      <td id=\"T_07d11_row1_col4\" class=\"data row1 col4\" >0.7770</td>\n",
              "      <td id=\"T_07d11_row1_col5\" class=\"data row1 col5\" >0.0419</td>\n",
              "      <td id=\"T_07d11_row1_col6\" class=\"data row1 col6\" >0.1463</td>\n",
              "    </tr>\n",
              "    <tr>\n",
              "      <th id=\"T_07d11_level0_row2\" class=\"row_heading level0 row2\" >2</th>\n",
              "      <td id=\"T_07d11_row2_col0\" class=\"data row2 col0\" >0.6382</td>\n",
              "      <td id=\"T_07d11_row2_col1\" class=\"data row2 col1\" >0.6986</td>\n",
              "      <td id=\"T_07d11_row2_col2\" class=\"data row2 col2\" >1.0000</td>\n",
              "      <td id=\"T_07d11_row2_col3\" class=\"data row2 col3\" >0.6342</td>\n",
              "      <td id=\"T_07d11_row2_col4\" class=\"data row2 col4\" >0.7762</td>\n",
              "      <td id=\"T_07d11_row2_col5\" class=\"data row2 col5\" >0.0366</td>\n",
              "      <td id=\"T_07d11_row2_col6\" class=\"data row2 col6\" >0.1366</td>\n",
              "    </tr>\n",
              "    <tr>\n",
              "      <th id=\"T_07d11_level0_row3\" class=\"row_heading level0 row3\" >3</th>\n",
              "      <td id=\"T_07d11_row3_col0\" class=\"data row3 col0\" >0.6372</td>\n",
              "      <td id=\"T_07d11_row3_col1\" class=\"data row3 col1\" >0.6846</td>\n",
              "      <td id=\"T_07d11_row3_col2\" class=\"data row3 col2\" >1.0000</td>\n",
              "      <td id=\"T_07d11_row3_col3\" class=\"data row3 col3\" >0.6336</td>\n",
              "      <td id=\"T_07d11_row3_col4\" class=\"data row3 col4\" >0.7757</td>\n",
              "      <td id=\"T_07d11_row3_col5\" class=\"data row3 col5\" >0.0331</td>\n",
              "      <td id=\"T_07d11_row3_col6\" class=\"data row3 col6\" >0.1298</td>\n",
              "    </tr>\n",
              "    <tr>\n",
              "      <th id=\"T_07d11_level0_row4\" class=\"row_heading level0 row4\" >4</th>\n",
              "      <td id=\"T_07d11_row4_col0\" class=\"data row4 col0\" >0.6420</td>\n",
              "      <td id=\"T_07d11_row4_col1\" class=\"data row4 col1\" >0.7306</td>\n",
              "      <td id=\"T_07d11_row4_col2\" class=\"data row4 col2\" >1.0000</td>\n",
              "      <td id=\"T_07d11_row4_col3\" class=\"data row4 col3\" >0.6366</td>\n",
              "      <td id=\"T_07d11_row4_col4\" class=\"data row4 col4\" >0.7780</td>\n",
              "      <td id=\"T_07d11_row4_col5\" class=\"data row4 col5\" >0.0489</td>\n",
              "      <td id=\"T_07d11_row4_col6\" class=\"data row4 col6\" >0.1584</td>\n",
              "    </tr>\n",
              "    <tr>\n",
              "      <th id=\"T_07d11_level0_row5\" class=\"row_heading level0 row5\" >5</th>\n",
              "      <td id=\"T_07d11_row5_col0\" class=\"data row5 col0\" >0.6391</td>\n",
              "      <td id=\"T_07d11_row5_col1\" class=\"data row5 col1\" >0.6757</td>\n",
              "      <td id=\"T_07d11_row5_col2\" class=\"data row5 col2\" >1.0000</td>\n",
              "      <td id=\"T_07d11_row5_col3\" class=\"data row5 col3\" >0.6348</td>\n",
              "      <td id=\"T_07d11_row5_col4\" class=\"data row5 col4\" >0.7766</td>\n",
              "      <td id=\"T_07d11_row5_col5\" class=\"data row5 col5\" >0.0396</td>\n",
              "      <td id=\"T_07d11_row5_col6\" class=\"data row5 col6\" >0.1421</td>\n",
              "    </tr>\n",
              "    <tr>\n",
              "      <th id=\"T_07d11_level0_row6\" class=\"row_heading level0 row6\" >6</th>\n",
              "      <td id=\"T_07d11_row6_col0\" class=\"data row6 col0\" >0.6391</td>\n",
              "      <td id=\"T_07d11_row6_col1\" class=\"data row6 col1\" >0.5469</td>\n",
              "      <td id=\"T_07d11_row6_col2\" class=\"data row6 col2\" >1.0000</td>\n",
              "      <td id=\"T_07d11_row6_col3\" class=\"data row6 col3\" >0.6348</td>\n",
              "      <td id=\"T_07d11_row6_col4\" class=\"data row6 col4\" >0.7766</td>\n",
              "      <td id=\"T_07d11_row6_col5\" class=\"data row6 col5\" >0.0396</td>\n",
              "      <td id=\"T_07d11_row6_col6\" class=\"data row6 col6\" >0.1421</td>\n",
              "    </tr>\n",
              "    <tr>\n",
              "      <th id=\"T_07d11_level0_row7\" class=\"row_heading level0 row7\" >7</th>\n",
              "      <td id=\"T_07d11_row7_col0\" class=\"data row7 col0\" >0.6388</td>\n",
              "      <td id=\"T_07d11_row7_col1\" class=\"data row7 col1\" >0.6778</td>\n",
              "      <td id=\"T_07d11_row7_col2\" class=\"data row7 col2\" >1.0000</td>\n",
              "      <td id=\"T_07d11_row7_col3\" class=\"data row7 col3\" >0.6346</td>\n",
              "      <td id=\"T_07d11_row7_col4\" class=\"data row7 col4\" >0.7764</td>\n",
              "      <td id=\"T_07d11_row7_col5\" class=\"data row7 col5\" >0.0384</td>\n",
              "      <td id=\"T_07d11_row7_col6\" class=\"data row7 col6\" >0.1399</td>\n",
              "    </tr>\n",
              "    <tr>\n",
              "      <th id=\"T_07d11_level0_row8\" class=\"row_heading level0 row8\" >8</th>\n",
              "      <td id=\"T_07d11_row8_col0\" class=\"data row8 col0\" >0.6391</td>\n",
              "      <td id=\"T_07d11_row8_col1\" class=\"data row8 col1\" >0.7251</td>\n",
              "      <td id=\"T_07d11_row8_col2\" class=\"data row8 col2\" >1.0000</td>\n",
              "      <td id=\"T_07d11_row8_col3\" class=\"data row8 col3\" >0.6348</td>\n",
              "      <td id=\"T_07d11_row8_col4\" class=\"data row8 col4\" >0.7766</td>\n",
              "      <td id=\"T_07d11_row8_col5\" class=\"data row8 col5\" >0.0390</td>\n",
              "      <td id=\"T_07d11_row8_col6\" class=\"data row8 col6\" >0.1410</td>\n",
              "    </tr>\n",
              "    <tr>\n",
              "      <th id=\"T_07d11_level0_row9\" class=\"row_heading level0 row9\" >9</th>\n",
              "      <td id=\"T_07d11_row9_col0\" class=\"data row9 col0\" >0.6396</td>\n",
              "      <td id=\"T_07d11_row9_col1\" class=\"data row9 col1\" >0.7187</td>\n",
              "      <td id=\"T_07d11_row9_col2\" class=\"data row9 col2\" >1.0000</td>\n",
              "      <td id=\"T_07d11_row9_col3\" class=\"data row9 col3\" >0.6351</td>\n",
              "      <td id=\"T_07d11_row9_col4\" class=\"data row9 col4\" >0.7769</td>\n",
              "      <td id=\"T_07d11_row9_col5\" class=\"data row9 col5\" >0.0408</td>\n",
              "      <td id=\"T_07d11_row9_col6\" class=\"data row9 col6\" >0.1443</td>\n",
              "    </tr>\n",
              "    <tr>\n",
              "      <th id=\"T_07d11_level0_row10\" class=\"row_heading level0 row10\" >Mean</th>\n",
              "      <td id=\"T_07d11_row10_col0\" class=\"data row10 col0\" >0.6394</td>\n",
              "      <td id=\"T_07d11_row10_col1\" class=\"data row10 col1\" >0.6918</td>\n",
              "      <td id=\"T_07d11_row10_col2\" class=\"data row10 col2\" >1.0000</td>\n",
              "      <td id=\"T_07d11_row10_col3\" class=\"data row10 col3\" >0.6350</td>\n",
              "      <td id=\"T_07d11_row10_col4\" class=\"data row10 col4\" >0.7768</td>\n",
              "      <td id=\"T_07d11_row10_col5\" class=\"data row10 col5\" >0.0405</td>\n",
              "      <td id=\"T_07d11_row10_col6\" class=\"data row10 col6\" >0.1435</td>\n",
              "    </tr>\n",
              "    <tr>\n",
              "      <th id=\"T_07d11_level0_row11\" class=\"row_heading level0 row11\" >Std</th>\n",
              "      <td id=\"T_07d11_row11_col0\" class=\"data row11 col0\" >0.0013</td>\n",
              "      <td id=\"T_07d11_row11_col1\" class=\"data row11 col1\" >0.0527</td>\n",
              "      <td id=\"T_07d11_row11_col2\" class=\"data row11 col2\" >0.0000</td>\n",
              "      <td id=\"T_07d11_row11_col3\" class=\"data row11 col3\" >0.0008</td>\n",
              "      <td id=\"T_07d11_row11_col4\" class=\"data row11 col4\" >0.0006</td>\n",
              "      <td id=\"T_07d11_row11_col5\" class=\"data row11 col5\" >0.0043</td>\n",
              "      <td id=\"T_07d11_row11_col6\" class=\"data row11 col6\" >0.0078</td>\n",
              "    </tr>\n",
              "  </tbody>\n",
              "</table>\n"
            ]
          },
          "metadata": {}
        },
        {
          "output_type": "display_data",
          "data": {
            "text/plain": [
              "Processing:   0%|          | 0/4 [00:00<?, ?it/s]"
            ],
            "application/vnd.jupyter.widget-view+json": {
              "version_major": 2,
              "version_minor": 0,
              "model_id": "4fd79b13a8274b20a0991dd615ec44ee"
            }
          },
          "metadata": {
            "application/vnd.jupyter.widget-view+json": {
              "colab": {
                "custom_widget_manager": {
                  "url": "https://ssl.gstatic.com/colaboratory-static/widgets/colab-cdn-widget-manager/2b70e893a8ba7c0f/manager.min.js"
                }
              }
            }
          }
        },
        {
          "output_type": "display_data",
          "data": {
            "text/plain": [
              "<IPython.core.display.HTML object>"
            ],
            "text/html": []
          },
          "metadata": {}
        }
      ]
    },
    {
      "cell_type": "code",
      "source": [
        "tuned_modelo = tune_model(modelo)"
      ],
      "metadata": {
        "colab": {
          "base_uri": "https://localhost:8080/",
          "height": 492,
          "referenced_widgets": [
            "e8d64915b87f485fb0e9036a020e7996",
            "55dcf06c484a476da98d36f6a273da61",
            "796aa63b0a8042daa775b5f9fddb83a0",
            "9c19107f251645f88d59785c7aafad36",
            "c621281b0f8c4057ac291251d7acc7af",
            "cb2fca64eb4349c1b196e9302939d1f2",
            "5b2991478ac94d18bade9161a4bc1e0c",
            "f3210468652d43d4b90107c9012f8d60",
            "50df1ef6739d446385dd90a305446138",
            "2f38b74be0a84e0abf8f73009da69d13",
            "22b34d9cc4354bf5abb52d041d536f33"
          ]
        },
        "id": "9ZPRSpOSozUd",
        "outputId": "b7ca4c05-bdff-4654-b492-6f8d5973cb6a"
      },
      "execution_count": null,
      "outputs": [
        {
          "output_type": "display_data",
          "data": {
            "text/plain": [
              "<IPython.core.display.HTML object>"
            ],
            "text/html": []
          },
          "metadata": {}
        },
        {
          "output_type": "display_data",
          "data": {
            "text/plain": [
              "<pandas.io.formats.style.Styler at 0x7852e6a63070>"
            ],
            "text/html": [
              "<style type=\"text/css\">\n",
              "#T_b0dc1_row10_col0, #T_b0dc1_row10_col1, #T_b0dc1_row10_col2, #T_b0dc1_row10_col3, #T_b0dc1_row10_col4, #T_b0dc1_row10_col5, #T_b0dc1_row10_col6 {\n",
              "  background: yellow;\n",
              "}\n",
              "</style>\n",
              "<table id=\"T_b0dc1\" class=\"dataframe\">\n",
              "  <thead>\n",
              "    <tr>\n",
              "      <th class=\"blank level0\" >&nbsp;</th>\n",
              "      <th id=\"T_b0dc1_level0_col0\" class=\"col_heading level0 col0\" >Accuracy</th>\n",
              "      <th id=\"T_b0dc1_level0_col1\" class=\"col_heading level0 col1\" >AUC</th>\n",
              "      <th id=\"T_b0dc1_level0_col2\" class=\"col_heading level0 col2\" >Recall</th>\n",
              "      <th id=\"T_b0dc1_level0_col3\" class=\"col_heading level0 col3\" >Prec.</th>\n",
              "      <th id=\"T_b0dc1_level0_col4\" class=\"col_heading level0 col4\" >F1</th>\n",
              "      <th id=\"T_b0dc1_level0_col5\" class=\"col_heading level0 col5\" >Kappa</th>\n",
              "      <th id=\"T_b0dc1_level0_col6\" class=\"col_heading level0 col6\" >MCC</th>\n",
              "    </tr>\n",
              "    <tr>\n",
              "      <th class=\"index_name level0\" >Fold</th>\n",
              "      <th class=\"blank col0\" >&nbsp;</th>\n",
              "      <th class=\"blank col1\" >&nbsp;</th>\n",
              "      <th class=\"blank col2\" >&nbsp;</th>\n",
              "      <th class=\"blank col3\" >&nbsp;</th>\n",
              "      <th class=\"blank col4\" >&nbsp;</th>\n",
              "      <th class=\"blank col5\" >&nbsp;</th>\n",
              "      <th class=\"blank col6\" >&nbsp;</th>\n",
              "    </tr>\n",
              "  </thead>\n",
              "  <tbody>\n",
              "    <tr>\n",
              "      <th id=\"T_b0dc1_level0_row0\" class=\"row_heading level0 row0\" >0</th>\n",
              "      <td id=\"T_b0dc1_row0_col0\" class=\"data row0 col0\" >0.6255</td>\n",
              "      <td id=\"T_b0dc1_row0_col1\" class=\"data row0 col1\" >0.6596</td>\n",
              "      <td id=\"T_b0dc1_row0_col2\" class=\"data row0 col2\" >0.6461</td>\n",
              "      <td id=\"T_b0dc1_row0_col3\" class=\"data row0 col3\" >0.7266</td>\n",
              "      <td id=\"T_b0dc1_row0_col4\" class=\"data row0 col4\" >0.6840</td>\n",
              "      <td id=\"T_b0dc1_row0_col5\" class=\"data row0 col5\" >0.2283</td>\n",
              "      <td id=\"T_b0dc1_row0_col6\" class=\"data row0 col6\" >0.2307</td>\n",
              "    </tr>\n",
              "    <tr>\n",
              "      <th id=\"T_b0dc1_level0_row1\" class=\"row_heading level0 row1\" >1</th>\n",
              "      <td id=\"T_b0dc1_row1_col0\" class=\"data row1 col0\" >0.6285</td>\n",
              "      <td id=\"T_b0dc1_row1_col1\" class=\"data row1 col1\" >0.6630</td>\n",
              "      <td id=\"T_b0dc1_row1_col2\" class=\"data row1 col2\" >0.6554</td>\n",
              "      <td id=\"T_b0dc1_row1_col3\" class=\"data row1 col3\" >0.7258</td>\n",
              "      <td id=\"T_b0dc1_row1_col4\" class=\"data row1 col4\" >0.6888</td>\n",
              "      <td id=\"T_b0dc1_row1_col5\" class=\"data row1 col5\" >0.2310</td>\n",
              "      <td id=\"T_b0dc1_row1_col6\" class=\"data row1 col6\" >0.2329</td>\n",
              "    </tr>\n",
              "    <tr>\n",
              "      <th id=\"T_b0dc1_level0_row2\" class=\"row_heading level0 row2\" >2</th>\n",
              "      <td id=\"T_b0dc1_row2_col0\" class=\"data row2 col0\" >0.6152</td>\n",
              "      <td id=\"T_b0dc1_row2_col1\" class=\"data row2 col1\" >0.6496</td>\n",
              "      <td id=\"T_b0dc1_row2_col2\" class=\"data row2 col2\" >0.6218</td>\n",
              "      <td id=\"T_b0dc1_row2_col3\" class=\"data row2 col3\" >0.7256</td>\n",
              "      <td id=\"T_b0dc1_row2_col4\" class=\"data row2 col4\" >0.6697</td>\n",
              "      <td id=\"T_b0dc1_row2_col5\" class=\"data row2 col5\" >0.2155</td>\n",
              "      <td id=\"T_b0dc1_row2_col6\" class=\"data row2 col6\" >0.2192</td>\n",
              "    </tr>\n",
              "    <tr>\n",
              "      <th id=\"T_b0dc1_level0_row3\" class=\"row_heading level0 row3\" >3</th>\n",
              "      <td id=\"T_b0dc1_row3_col0\" class=\"data row3 col0\" >0.6161</td>\n",
              "      <td id=\"T_b0dc1_row3_col1\" class=\"data row3 col1\" >0.6555</td>\n",
              "      <td id=\"T_b0dc1_row3_col2\" class=\"data row3 col2\" >0.6122</td>\n",
              "      <td id=\"T_b0dc1_row3_col3\" class=\"data row3 col3\" >0.7320</td>\n",
              "      <td id=\"T_b0dc1_row3_col4\" class=\"data row3 col4\" >0.6668</td>\n",
              "      <td id=\"T_b0dc1_row3_col5\" class=\"data row3 col5\" >0.2225</td>\n",
              "      <td id=\"T_b0dc1_row3_col6\" class=\"data row3 col6\" >0.2275</td>\n",
              "    </tr>\n",
              "    <tr>\n",
              "      <th id=\"T_b0dc1_level0_row4\" class=\"row_heading level0 row4\" >4</th>\n",
              "      <td id=\"T_b0dc1_row4_col0\" class=\"data row4 col0\" >0.6301</td>\n",
              "      <td id=\"T_b0dc1_row4_col1\" class=\"data row4 col1\" >0.6737</td>\n",
              "      <td id=\"T_b0dc1_row4_col2\" class=\"data row4 col2\" >0.6348</td>\n",
              "      <td id=\"T_b0dc1_row4_col3\" class=\"data row4 col3\" >0.7388</td>\n",
              "      <td id=\"T_b0dc1_row4_col4\" class=\"data row4 col4\" >0.6828</td>\n",
              "      <td id=\"T_b0dc1_row4_col5\" class=\"data row4 col5\" >0.2452</td>\n",
              "      <td id=\"T_b0dc1_row4_col6\" class=\"data row4 col6\" >0.2493</td>\n",
              "    </tr>\n",
              "    <tr>\n",
              "      <th id=\"T_b0dc1_level0_row5\" class=\"row_heading level0 row5\" >5</th>\n",
              "      <td id=\"T_b0dc1_row5_col0\" class=\"data row5 col0\" >0.6329</td>\n",
              "      <td id=\"T_b0dc1_row5_col1\" class=\"data row5 col1\" >0.6644</td>\n",
              "      <td id=\"T_b0dc1_row5_col2\" class=\"data row5 col2\" >0.6619</td>\n",
              "      <td id=\"T_b0dc1_row5_col3\" class=\"data row5 col3\" >0.7282</td>\n",
              "      <td id=\"T_b0dc1_row5_col4\" class=\"data row5 col4\" >0.6935</td>\n",
              "      <td id=\"T_b0dc1_row5_col5\" class=\"data row5 col5\" >0.2387</td>\n",
              "      <td id=\"T_b0dc1_row5_col6\" class=\"data row5 col6\" >0.2404</td>\n",
              "    </tr>\n",
              "    <tr>\n",
              "      <th id=\"T_b0dc1_level0_row6\" class=\"row_heading level0 row6\" >6</th>\n",
              "      <td id=\"T_b0dc1_row6_col0\" class=\"data row6 col0\" >0.6200</td>\n",
              "      <td id=\"T_b0dc1_row6_col1\" class=\"data row6 col1\" >0.6626</td>\n",
              "      <td id=\"T_b0dc1_row6_col2\" class=\"data row6 col2\" >0.6241</td>\n",
              "      <td id=\"T_b0dc1_row6_col3\" class=\"data row6 col3\" >0.7308</td>\n",
              "      <td id=\"T_b0dc1_row6_col4\" class=\"data row6 col4\" >0.6733</td>\n",
              "      <td id=\"T_b0dc1_row6_col5\" class=\"data row6 col5\" >0.2260</td>\n",
              "      <td id=\"T_b0dc1_row6_col6\" class=\"data row6 col6\" >0.2300</td>\n",
              "    </tr>\n",
              "    <tr>\n",
              "      <th id=\"T_b0dc1_level0_row7\" class=\"row_heading level0 row7\" >7</th>\n",
              "      <td id=\"T_b0dc1_row7_col0\" class=\"data row7 col0\" >0.5961</td>\n",
              "      <td id=\"T_b0dc1_row7_col1\" class=\"data row7 col1\" >0.6341</td>\n",
              "      <td id=\"T_b0dc1_row7_col2\" class=\"data row7 col2\" >0.6120</td>\n",
              "      <td id=\"T_b0dc1_row7_col3\" class=\"data row7 col3\" >0.7052</td>\n",
              "      <td id=\"T_b0dc1_row7_col4\" class=\"data row7 col4\" >0.6553</td>\n",
              "      <td id=\"T_b0dc1_row7_col5\" class=\"data row7 col5\" >0.1736</td>\n",
              "      <td id=\"T_b0dc1_row7_col6\" class=\"data row7 col6\" >0.1762</td>\n",
              "    </tr>\n",
              "    <tr>\n",
              "      <th id=\"T_b0dc1_level0_row8\" class=\"row_heading level0 row8\" >8</th>\n",
              "      <td id=\"T_b0dc1_row8_col0\" class=\"data row8 col0\" >0.6162</td>\n",
              "      <td id=\"T_b0dc1_row8_col1\" class=\"data row8 col1\" >0.6559</td>\n",
              "      <td id=\"T_b0dc1_row8_col2\" class=\"data row8 col2\" >0.6134</td>\n",
              "      <td id=\"T_b0dc1_row8_col3\" class=\"data row8 col3\" >0.7316</td>\n",
              "      <td id=\"T_b0dc1_row8_col4\" class=\"data row8 col4\" >0.6673</td>\n",
              "      <td id=\"T_b0dc1_row8_col5\" class=\"data row8 col5\" >0.2222</td>\n",
              "      <td id=\"T_b0dc1_row8_col6\" class=\"data row8 col6\" >0.2270</td>\n",
              "    </tr>\n",
              "    <tr>\n",
              "      <th id=\"T_b0dc1_level0_row9\" class=\"row_heading level0 row9\" >9</th>\n",
              "      <td id=\"T_b0dc1_row9_col0\" class=\"data row9 col0\" >0.6196</td>\n",
              "      <td id=\"T_b0dc1_row9_col1\" class=\"data row9 col1\" >0.6637</td>\n",
              "      <td id=\"T_b0dc1_row9_col2\" class=\"data row9 col2\" >0.6097</td>\n",
              "      <td id=\"T_b0dc1_row9_col3\" class=\"data row9 col3\" >0.7384</td>\n",
              "      <td id=\"T_b0dc1_row9_col4\" class=\"data row9 col4\" >0.6679</td>\n",
              "      <td id=\"T_b0dc1_row9_col5\" class=\"data row9 col5\" >0.2321</td>\n",
              "      <td id=\"T_b0dc1_row9_col6\" class=\"data row9 col6\" >0.2380</td>\n",
              "    </tr>\n",
              "    <tr>\n",
              "      <th id=\"T_b0dc1_level0_row10\" class=\"row_heading level0 row10\" >Mean</th>\n",
              "      <td id=\"T_b0dc1_row10_col0\" class=\"data row10 col0\" >0.6200</td>\n",
              "      <td id=\"T_b0dc1_row10_col1\" class=\"data row10 col1\" >0.6582</td>\n",
              "      <td id=\"T_b0dc1_row10_col2\" class=\"data row10 col2\" >0.6291</td>\n",
              "      <td id=\"T_b0dc1_row10_col3\" class=\"data row10 col3\" >0.7283</td>\n",
              "      <td id=\"T_b0dc1_row10_col4\" class=\"data row10 col4\" >0.6749</td>\n",
              "      <td id=\"T_b0dc1_row10_col5\" class=\"data row10 col5\" >0.2235</td>\n",
              "      <td id=\"T_b0dc1_row10_col6\" class=\"data row10 col6\" >0.2271</td>\n",
              "    </tr>\n",
              "    <tr>\n",
              "      <th id=\"T_b0dc1_level0_row11\" class=\"row_heading level0 row11\" >Std</th>\n",
              "      <td id=\"T_b0dc1_row11_col0\" class=\"data row11 col0\" >0.0100</td>\n",
              "      <td id=\"T_b0dc1_row11_col1\" class=\"data row11 col1\" >0.0101</td>\n",
              "      <td id=\"T_b0dc1_row11_col2\" class=\"data row11 col2\" >0.0183</td>\n",
              "      <td id=\"T_b0dc1_row11_col3\" class=\"data row11 col3\" >0.0089</td>\n",
              "      <td id=\"T_b0dc1_row11_col4\" class=\"data row11 col4\" >0.0113</td>\n",
              "      <td id=\"T_b0dc1_row11_col5\" class=\"data row11 col5\" >0.0185</td>\n",
              "      <td id=\"T_b0dc1_row11_col6\" class=\"data row11 col6\" >0.0187</td>\n",
              "    </tr>\n",
              "  </tbody>\n",
              "</table>\n"
            ]
          },
          "metadata": {}
        },
        {
          "output_type": "display_data",
          "data": {
            "text/plain": [
              "Processing:   0%|          | 0/7 [00:00<?, ?it/s]"
            ],
            "application/vnd.jupyter.widget-view+json": {
              "version_major": 2,
              "version_minor": 0,
              "model_id": "e8d64915b87f485fb0e9036a020e7996"
            }
          },
          "metadata": {
            "application/vnd.jupyter.widget-view+json": {
              "colab": {
                "custom_widget_manager": {
                  "url": "https://ssl.gstatic.com/colaboratory-static/widgets/colab-cdn-widget-manager/2b70e893a8ba7c0f/manager.min.js"
                }
              }
            }
          }
        },
        {
          "output_type": "stream",
          "name": "stdout",
          "text": [
            "Fitting 10 folds for each of 10 candidates, totalling 100 fits\n"
          ]
        },
        {
          "output_type": "display_data",
          "data": {
            "text/plain": [
              "<IPython.core.display.HTML object>"
            ],
            "text/html": []
          },
          "metadata": {}
        },
        {
          "output_type": "stream",
          "name": "stdout",
          "text": [
            "Original model was better than the tuned model, hence it will be returned. NOTE: The display metrics are for the tuned model (not the original one).\n"
          ]
        }
      ]
    },
    {
      "cell_type": "code",
      "source": [
        "help(plot_model) # Validacion visual"
      ],
      "metadata": {
        "id": "YNrcAXw6pOTF"
      },
      "execution_count": null,
      "outputs": []
    },
    {
      "cell_type": "code",
      "source": [
        "plot_model(tuned_modelo,plot='auc')\n"
      ],
      "metadata": {
        "colab": {
          "base_uri": "https://localhost:8080/",
          "height": 524
        },
        "id": "rY1i5HCdpPKe",
        "outputId": "4ed78a16-92f1-470d-894e-bc5f594b6a06"
      },
      "execution_count": null,
      "outputs": [
        {
          "output_type": "display_data",
          "data": {
            "text/plain": [
              "<IPython.core.display.HTML object>"
            ],
            "text/html": []
          },
          "metadata": {}
        },
        {
          "output_type": "display_data",
          "data": {
            "text/plain": [
              "<Figure size 800x550 with 1 Axes>"
            ],
            "image/png": "[encoded data removed]"
          },
          "metadata": {}
        }
      ]
    },
    {
      "cell_type": "code",
      "source": [
        "## Decision Boundary\n",
        "plot_model(tuned_modelo, plot = 'boundary')"
      ],
      "metadata": {
        "id": "WvPKD9cypQ9F"
      },
      "execution_count": null,
      "outputs": []
    },
    {
      "cell_type": "code",
      "source": [
        "# Precision Recall Curve\n",
        "plot_model(tuned_modelo, plot = 'pr')"
      ],
      "metadata": {
        "id": "OKWuRt_spRSF"
      },
      "execution_count": null,
      "outputs": []
    },
    {
      "cell_type": "code",
      "source": [
        "# Validation Curve\n",
        "plot_model(tuned_modelo, plot = 'vc')"
      ],
      "metadata": {
        "id": "9FB1JKc8p2cL"
      },
      "execution_count": null,
      "outputs": []
    },
    {
      "cell_type": "code",
      "source": [
        "predicciones = predict_model(tuned_modelo,data=data_testeo)\n",
        "predicciones[['Aperturo_2_productos','prediction_label','prediction_score']].head()"
      ],
      "metadata": {
        "colab": {
          "base_uri": "https://localhost:8080/",
          "height": 270
        },
        "id": "xwI1x35Up8Pw",
        "outputId": "031860a1-7351-4808-b07e-022eb896faf9"
      },
      "execution_count": null,
      "outputs": [
        {
          "output_type": "display_data",
          "data": {
            "text/plain": [
              "<pandas.io.formats.style.Styler at 0x7852f9d18250>"
            ],
            "text/html": [
              "<style type=\"text/css\">\n",
              "</style>\n",
              "<table id=\"T_fd8d4\" class=\"dataframe\">\n",
              "  <thead>\n",
              "    <tr>\n",
              "      <th class=\"blank level0\" >&nbsp;</th>\n",
              "      <th id=\"T_fd8d4_level0_col0\" class=\"col_heading level0 col0\" >Model</th>\n",
              "      <th id=\"T_fd8d4_level0_col1\" class=\"col_heading level0 col1\" >Accuracy</th>\n",
              "      <th id=\"T_fd8d4_level0_col2\" class=\"col_heading level0 col2\" >AUC</th>\n",
              "      <th id=\"T_fd8d4_level0_col3\" class=\"col_heading level0 col3\" >Recall</th>\n",
              "      <th id=\"T_fd8d4_level0_col4\" class=\"col_heading level0 col4\" >Prec.</th>\n",
              "      <th id=\"T_fd8d4_level0_col5\" class=\"col_heading level0 col5\" >F1</th>\n",
              "      <th id=\"T_fd8d4_level0_col6\" class=\"col_heading level0 col6\" >Kappa</th>\n",
              "      <th id=\"T_fd8d4_level0_col7\" class=\"col_heading level0 col7\" >MCC</th>\n",
              "    </tr>\n",
              "  </thead>\n",
              "  <tbody>\n",
              "    <tr>\n",
              "      <th id=\"T_fd8d4_level0_row0\" class=\"row_heading level0 row0\" >0</th>\n",
              "      <td id=\"T_fd8d4_row0_col0\" class=\"data row0 col0\" >Quadratic Discriminant Analysis</td>\n",
              "      <td id=\"T_fd8d4_row0_col1\" class=\"data row0 col1\" >0.8381</td>\n",
              "      <td id=\"T_fd8d4_row0_col2\" class=\"data row0 col2\" >0.7725</td>\n",
              "      <td id=\"T_fd8d4_row0_col3\" class=\"data row0 col3\" >1.0000</td>\n",
              "      <td id=\"T_fd8d4_row0_col4\" class=\"data row0 col4\" >0.7991</td>\n",
              "      <td id=\"T_fd8d4_row0_col5\" class=\"data row0 col5\" >0.8883</td>\n",
              "      <td id=\"T_fd8d4_row0_col6\" class=\"data row0 col6\" >0.6068</td>\n",
              "      <td id=\"T_fd8d4_row0_col7\" class=\"data row0 col7\" >0.6600</td>\n",
              "    </tr>\n",
              "  </tbody>\n",
              "</table>\n"
            ]
          },
          "metadata": {}
        },
        {
          "output_type": "execute_result",
          "data": {
            "text/plain": [
              "   Aperturo_2_productos  prediction_label  prediction_score\n",
              "0                     1                 1               1.0\n",
              "1                     1                 1               1.0\n",
              "2                     1                 1               1.0\n",
              "3                     1                 1               1.0\n",
              "4                     0                 0               1.0"
            ],
            "text/html": [
              "\n",
              "  <div id=\"df-6dae3242-038f-42ae-98a9-81a0ba3f981a\" class=\"colab-df-container\">\n",
              "    <div>\n",
              "<style scoped>\n",
              "    .dataframe tbody tr th:only-of-type {\n",
              "        vertical-align: middle;\n",
              "    }\n",
              "\n",
              "    .dataframe tbody tr th {\n",
              "        vertical-align: top;\n",
              "    }\n",
              "\n",
              "    .dataframe thead th {\n",
              "        text-align: right;\n",
              "    }\n",
              "</style>\n",
              "<table border=\"1\" class=\"dataframe\">\n",
              "  <thead>\n",
              "    <tr style=\"text-align: right;\">\n",
              "      <th></th>\n",
              "      <th>Aperturo_2_productos</th>\n",
              "      <th>prediction_label</th>\n",
              "      <th>prediction_score</th>\n",
              "    </tr>\n",
              "  </thead>\n",
              "  <tbody>\n",
              "    <tr>\n",
              "      <th>0</th>\n",
              "      <td>1</td>\n",
              "      <td>1</td>\n",
              "      <td>1.0</td>\n",
              "    </tr>\n",
              "    <tr>\n",
              "      <th>1</th>\n",
              "      <td>1</td>\n",
              "      <td>1</td>\n",
              "      <td>1.0</td>\n",
              "    </tr>\n",
              "    <tr>\n",
              "      <th>2</th>\n",
              "      <td>1</td>\n",
              "      <td>1</td>\n",
              "      <td>1.0</td>\n",
              "    </tr>\n",
              "    <tr>\n",
              "      <th>3</th>\n",
              "      <td>1</td>\n",
              "      <td>1</td>\n",
              "      <td>1.0</td>\n",
              "    </tr>\n",
              "    <tr>\n",
              "      <th>4</th>\n",
              "      <td>0</td>\n",
              "      <td>0</td>\n",
              "      <td>1.0</td>\n",
              "    </tr>\n",
              "  </tbody>\n",
              "</table>\n",
              "</div>\n",
              "    <div class=\"colab-df-buttons\">\n",
              "\n",
              "  <div class=\"colab-df-container\">\n",
              "    <button class=\"colab-df-convert\" onclick=\"convertToInteractive('df-6dae3242-038f-42ae-98a9-81a0ba3f981a')\"\n",
              "            title=\"Convert this dataframe to an interactive table.\"\n",
              "            style=\"display:none;\">\n",
              "\n",
              "  <svg xmlns=\"http://www.w3.org/2000/svg\" height=\"24px\" viewBox=\"0 -960 960 960\">\n",
              "    <path d=\"M120-120v-720h720v720H120Zm60-500h600v-160H180v160Zm220 220h160v-160H400v160Zm0 220h160v-160H400v160ZM180-400h160v-160H180v160Zm440 0h160v-160H620v160ZM180-180h160v-160H180v160Zm440 0h160v-160H620v160Z\"/>\n",
              "  </svg>\n",
              "    </button>\n",
              "\n",
              "  <style>\n",
              "    .colab-df-container {\n",
              "      display:flex;\n",
              "      gap: 12px;\n",
              "    }\n",
              "\n",
              "    .colab-df-convert {\n",
              "      background-color: #E8F0FE;\n",
              "      border: none;\n",
              "      border-radius: 50%;\n",
              "      cursor: pointer;\n",
              "      display: none;\n",
              "      fill: #1967D2;\n",
              "      height: 32px;\n",
              "      padding: 0 0 0 0;\n",
              "      width: 32px;\n",
              "    }\n",
              "\n",
              "    .colab-df-convert:hover {\n",
              "      background-color: #E2EBFA;\n",
              "      box-shadow: 0px 1px 2px rgba(60, 64, 67, 0.3), 0px 1px 3px 1px rgba(60, 64, 67, 0.15);\n",
              "      fill: #174EA6;\n",
              "    }\n",
              "\n",
              "    .colab-df-buttons div {\n",
              "      margin-bottom: 4px;\n",
              "    }\n",
              "\n",
              "    [theme=dark] .colab-df-convert {\n",
              "      background-color: #3B4455;\n",
              "      fill: #D2E3FC;\n",
              "    }\n",
              "\n",
              "    [theme=dark] .colab-df-convert:hover {\n",
              "      background-color: #434B5C;\n",
              "      box-shadow: 0px 1px 3px 1px rgba(0, 0, 0, 0.15);\n",
              "      filter: drop-shadow(0px 1px 2px rgba(0, 0, 0, 0.3));\n",
              "      fill: #FFFFFF;\n",
              "    }\n",
              "  </style>\n",
              "\n",
              "    <script>\n",
              "      const buttonEl =\n",
              "        document.querySelector('#df-6dae3242-038f-42ae-98a9-81a0ba3f981a button.colab-df-convert');\n",
              "      buttonEl.style.display =\n",
              "        google.colab.kernel.accessAllowed ? 'block' : 'none';\n",
              "\n",
              "      async function convertToInteractive(key) {\n",
              "        const element = document.querySelector('#df-6dae3242-038f-42ae-98a9-81a0ba3f981a');\n",
              "        const dataTable =\n",
              "          await google.colab.kernel.invokeFunction('convertToInteractive',\n",
              "                                                    [key], {});\n",
              "        if (!dataTable) return;\n",
              "\n",
              "        const docLinkHtml = 'Like what you see? Visit the ' +\n",
              "          '<a target=\"_blank\" href=https://colab.research.google.com/notebooks/data_table.ipynb>data table notebook</a>'\n",
              "          + ' to learn more about interactive tables.';\n",
              "        element.innerHTML = '';\n",
              "        dataTable['output_type'] = 'display_data';\n",
              "        await google.colab.output.renderOutput(dataTable, element);\n",
              "        const docLink = document.createElement('div');\n",
              "        docLink.innerHTML = docLinkHtml;\n",
              "        element.appendChild(docLink);\n",
              "      }\n",
              "    </script>\n",
              "  </div>\n",
              "\n",
              "\n",
              "<div id=\"df-ca66a301-faca-4958-aea5-4ebe229f08f1\">\n",
              "  <button class=\"colab-df-quickchart\" onclick=\"quickchart('df-ca66a301-faca-4958-aea5-4ebe229f08f1')\"\n",
              "            title=\"Suggest charts\"\n",
              "            style=\"display:none;\">\n",
              "\n",
              "<svg xmlns=\"http://www.w3.org/2000/svg\" height=\"24px\"viewBox=\"0 0 24 24\"\n",
              "     width=\"24px\">\n",
              "    <g>\n",
              "        <path d=\"M19 3H5c-1.1 0-2 .9-2 2v14c0 1.1.9 2 2 2h14c1.1 0 2-.9 2-2V5c0-1.1-.9-2-2-2zM9 17H7v-7h2v7zm4 0h-2V7h2v10zm4 0h-2v-4h2v4z\"/>\n",
              "    </g>\n",
              "</svg>\n",
              "  </button>\n",
              "\n",
              "<style>\n",
              "  .colab-df-quickchart {\n",
              "      --bg-color: #E8F0FE;\n",
              "      --fill-color: #1967D2;\n",
              "      --hover-bg-color: #E2EBFA;\n",
              "      --hover-fill-color: #174EA6;\n",
              "      --disabled-fill-color: #AAA;\n",
              "      --disabled-bg-color: #DDD;\n",
              "  }\n",
              "\n",
              "  [theme=dark] .colab-df-quickchart {\n",
              "      --bg-color: #3B4455;\n",
              "      --fill-color: #D2E3FC;\n",
              "      --hover-bg-color: #434B5C;\n",
              "      --hover-fill-color: #FFFFFF;\n",
              "      --disabled-bg-color: #3B4455;\n",
              "      --disabled-fill-color: #666;\n",
              "  }\n",
              "\n",
              "  .colab-df-quickchart {\n",
              "    background-color: var(--bg-color);\n",
              "    border: none;\n",
              "    border-radius: 50%;\n",
              "    cursor: pointer;\n",
              "    display: none;\n",
              "    fill: var(--fill-color);\n",
              "    height: 32px;\n",
              "    padding: 0;\n",
              "    width: 32px;\n",
              "  }\n",
              "\n",
              "  .colab-df-quickchart:hover {\n",
              "    background-color: var(--hover-bg-color);\n",
              "    box-shadow: 0 1px 2px rgba(60, 64, 67, 0.3), 0 1px 3px 1px rgba(60, 64, 67, 0.15);\n",
              "    fill: var(--button-hover-fill-color);\n",
              "  }\n",
              "\n",
              "  .colab-df-quickchart-complete:disabled,\n",
              "  .colab-df-quickchart-complete:disabled:hover {\n",
              "    background-color: var(--disabled-bg-color);\n",
              "    fill: var(--disabled-fill-color);\n",
              "    box-shadow: none;\n",
              "  }\n",
              "\n",
              "  .colab-df-spinner {\n",
              "    border: 2px solid var(--fill-color);\n",
              "    border-color: transparent;\n",
              "    border-bottom-color: var(--fill-color);\n",
              "    animation:\n",
              "      spin 1s steps(1) infinite;\n",
              "  }\n",
              "\n",
              "  @keyframes spin {\n",
              "    0% {\n",
              "      border-color: transparent;\n",
              "      border-bottom-color: var(--fill-color);\n",
              "      border-left-color: var(--fill-color);\n",
              "    }\n",
              "    20% {\n",
              "      border-color: transparent;\n",
              "      border-left-color: var(--fill-color);\n",
              "      border-top-color: var(--fill-color);\n",
              "    }\n",
              "    30% {\n",
              "      border-color: transparent;\n",
              "      border-left-color: var(--fill-color);\n",
              "      border-top-color: var(--fill-color);\n",
              "      border-right-color: var(--fill-color);\n",
              "    }\n",
              "    40% {\n",
              "      border-color: transparent;\n",
              "      border-right-color: var(--fill-color);\n",
              "      border-top-color: var(--fill-color);\n",
              "    }\n",
              "    60% {\n",
              "      border-color: transparent;\n",
              "      border-right-color: var(--fill-color);\n",
              "    }\n",
              "    80% {\n",
              "      border-color: transparent;\n",
              "      border-right-color: var(--fill-color);\n",
              "      border-bottom-color: var(--fill-color);\n",
              "    }\n",
              "    90% {\n",
              "      border-color: transparent;\n",
              "      border-bottom-color: var(--fill-color);\n",
              "    }\n",
              "  }\n",
              "</style>\n",
              "\n",
              "  <script>\n",
              "    async function quickchart(key) {\n",
              "      const quickchartButtonEl =\n",
              "        document.querySelector('#' + key + ' button');\n",
              "      quickchartButtonEl.disabled = true;  // To prevent multiple clicks.\n",
              "      quickchartButtonEl.classList.add('colab-df-spinner');\n",
              "      try {\n",
              "        const charts = await google.colab.kernel.invokeFunction(\n",
              "            'suggestCharts', [key], {});\n",
              "      } catch (error) {\n",
              "        console.error('Error during call to suggestCharts:', error);\n",
              "      }\n",
              "      quickchartButtonEl.classList.remove('colab-df-spinner');\n",
              "      quickchartButtonEl.classList.add('colab-df-quickchart-complete');\n",
              "    }\n",
              "    (() => {\n",
              "      let quickchartButtonEl =\n",
              "        document.querySelector('#df-ca66a301-faca-4958-aea5-4ebe229f08f1 button');\n",
              "      quickchartButtonEl.style.display =\n",
              "        google.colab.kernel.accessAllowed ? 'block' : 'none';\n",
              "    })();\n",
              "  </script>\n",
              "</div>\n",
              "    </div>\n",
              "  </div>\n"
            ],
            "application/vnd.google.colaboratory.intrinsic+json": {
              "type": "dataframe",
              "summary": "{\n  \"name\": \"predicciones[['Aperturo_2_productos',\\t'prediction_label'\\t,'prediction_score']]\",\n  \"rows\": 5,\n  \"fields\": [\n    {\n      \"column\": \"Aperturo_2_productos\",\n      \"properties\": {\n        \"dtype\": \"int8\",\n        \"num_unique_values\": 2,\n        \"samples\": [\n          0,\n          1\n        ],\n        \"semantic_type\": \"\",\n        \"description\": \"\"\n      }\n    },\n    {\n      \"column\": \"prediction_label\",\n      \"properties\": {\n        \"dtype\": \"number\",\n        \"std\": 0,\n        \"min\": 0,\n        \"max\": 1,\n        \"num_unique_values\": 2,\n        \"samples\": [\n          0,\n          1\n        ],\n        \"semantic_type\": \"\",\n        \"description\": \"\"\n      }\n    },\n    {\n      \"column\": \"prediction_score\",\n      \"properties\": {\n        \"dtype\": \"number\",\n        \"std\": 0.0,\n        \"min\": 1.0,\n        \"max\": 1.0,\n        \"num_unique_values\": 1,\n        \"samples\": [\n          1.0\n        ],\n        \"semantic_type\": \"\",\n        \"description\": \"\"\n      }\n    }\n  ]\n}"
            }
          },
          "metadata": {},
          "execution_count": 39
        }
      ]
    },
    {
      "cell_type": "code",
      "source": [
        "# modelo final entrenado con todo el conjunto de datos\n",
        "final_modelo=finalize_model(tuned_modelo)"
      ],
      "metadata": {
        "id": "CrXL2QLe3hc7"
      },
      "execution_count": null,
      "outputs": []
    },
    {
      "cell_type": "code",
      "source": [
        "save_model(final_modelo,'ModeloPropension_producto2')"
      ],
      "metadata": {
        "id": "0foVWrT54oMx"
      },
      "execution_count": null,
      "outputs": []
    }
  ]
}