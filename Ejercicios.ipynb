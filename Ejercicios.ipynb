{
  "nbformat": 4,
  "nbformat_minor": 0,
  "metadata": {
    "colab": {
      "provenance": []
    },
    "kernelspec": {
      "name": "python3",
      "display_name": "Python 3"
    },
    "language_info": {
      "name": "python"
    }
  },
  "cells": [
    {
      "cell_type": "markdown",
      "source": [
        "# Universidad Internacional de Valencia\n",
        "## Matemáticas para la IA\n",
        "### Ejercicios de aplicación\n",
        "Jose Antonio Gómez Vargas\n",
        "\n"
      ],
      "metadata": {
        "id": "86k_jPPF9f2S"
      }
    },
    {
      "cell_type": "markdown",
      "source": [
        "# Ejercicio 1 (2 puntos). Desarrollo de Laplace.\n",
        "\n",
        "1. Deducir de la definición 4 el determinante en dimensión 0, 1 y 2.\n",
        "2. A partir de la definición 4, expresar el determinante de una matriz cuadrada recursivamente en función de determinantes la matrices cuadradas de\n",
        "dimensión inferior.\n",
        "Indicación: para cada 𝑛 ∈ N, distribuir (por linealidad en las columnas)\n",
        "sobre la descomposición de una matriz cuadrada de dimensión 𝑛 + 1, siendo 𝑛 ∈ N y\n",
        "\n",
        "- 𝜆 un coeficiente real,\n",
        "- 𝑣 un vector de dimensión 𝑛 (una columna de 𝑛 coeficientes reales),\n",
        "- 𝜔 un covector de la misma dimensión (una fila de 𝑛 coeficientes),\n",
        "- 𝐴 una matriz cuadrada de la misma dimensión (con 𝑛\n",
        "2\n",
        "coeficientes),\n",
        "luego proceder del mismo modo\n",
        "con los demás coeficientes de esa primera columna,\n",
        "con cada columna.\n",
        "3. Implementar en Python la definición así obtenida."
      ],
      "metadata": {
        "id": "SEngRq2a9_Qe"
      }
    },
    {
      "cell_type": "markdown",
      "source": [
        "$$\n",
        "\\begin{pmatrix}\n",
        "\\lambda & w \\\\\n",
        "v & A\n",
        "\\end{pmatrix}\n",
        "=\n",
        "\\begin{pmatrix}\n",
        "\\lambda*1+0 & w \\\\\n",
        "\\lambda * 0 +v  & A\n",
        "\\end{pmatrix}\n",
        "$$"
      ],
      "metadata": {
        "id": "QW-Vqqk5-XZX"
      }
    },
    {
      "cell_type": "markdown",
      "source": [
        "---\n",
        "$Ejercicio \\ 1_1$\n",
        "\n",
        "---"
      ],
      "metadata": {
        "id": "SfITmCKpANvb"
      }
    },
    {
      "cell_type": "markdown",
      "source": [
        "\n",
        "### Dimensión 0\n",
        "En dimensión 0, una matriz es una matriz vacía, ya que no tiene filas ni columnas. Por convención, el determinante de una matriz vacía es 1, porque no hay vectores involucrados, y la única función que puede cumplir con las propiedades dadas (linealidad y antisimetría) es la que asigna el valor 1.\n",
        "\n",
        "$$\n",
        "\\det(\\text{matriz vacía}) = 1\n",
        "$$\n",
        "\n",
        "### Dimensión 1\n",
        "En dimensión 1, una matriz $1 \\times 1$ es simplemente un escalar $a$. La única función lineal antisimétrica de un solo vector que cumple la propiedad que el determinante de la matriz identidad sea 1 es el propio valor del único elemento de la matriz.\n",
        "\n",
        "Sea $A = \\begin{pmatrix} a \\end{pmatrix}$, entonces:\n",
        "\n",
        "$\n",
        "\\det(A) = a\n",
        "$\n",
        "\n",
        "Para la matriz identidad $I = \\begin{pmatrix} 1 \\end{pmatrix}$:\n",
        "\n",
        "$\n",
        "\\det(I) = 1\n",
        "$\n",
        "\n",
        "### Dimensión 2\n",
        "En dimensión 2, una matriz $2 \\times 2$ tiene la forma:\n",
        "\n",
        "$$\n",
        "A = \\begin{pmatrix}\n",
        "a & b \\\\\n",
        "c & d\n",
        "\\end{pmatrix}\n",
        "$$\n",
        "\n",
        "Para deducir el determinante, usaremos las propiedades de linealidad y antisimetría. El determinante debe ser una función lineal de los vectores columna y cambiar de signo si intercambiamos dos vectores columna.\n",
        "\n",
        "Para la matriz identidad $$I = \\begin{pmatrix}\n",
        "1 & 0 \\\\\n",
        "0 & 1\n",
        "\\end{pmatrix}$$, el determinante debe ser 1. Además, si intercambiamos dos filas o columnas, el signo del determinante debe cambiar.\n",
        "\n",
        "La única función que satisface estas propiedades en dimensión 2 es:\n",
        "\n",
        "$$\n",
        "\\det(A) = ad - bc\n",
        "$$\n",
        "\n",
        "Podemos verificar que esta fórmula cumple con las propiedades requeridas:\n",
        "\n",
        "1. **Linealidad**: El determinante es lineal en cada columna.\n",
        "2. **Antisimetría**: Si intercambiamos las dos columnas, el determinante cambia de signo:\n",
        "   $$\n",
        "   \\det\\begin{pmatrix}\n",
        "   b & a \\\\\n",
        "   d & c\n",
        "   \\end{pmatrix} = bc - ad = -(ad - bc)\n",
        "   $$\n",
        "\n",
        "3. **Determinante de la matriz identidad**:\n",
        "   $$\n",
        "   \\det\\begin{pmatrix}\n",
        "   1 & 0 \\\\\n",
        "   0 & 1\n",
        "   \\end{pmatrix} = 1 \\cdot 1 - 0 \\cdot 0 = 1\n",
        "   $$\n",
        "\n",
        "\n"
      ],
      "metadata": {
        "id": "QlWsSs0VAIvD"
      }
    },
    {
      "cell_type": "markdown",
      "source": [
        "---\n",
        "$Ejercicio \\ 1_2$\n",
        "\n",
        "---"
      ],
      "metadata": {
        "id": "e6-srn6xE-lx"
      }
    },
    {
      "cell_type": "markdown",
      "source": [
        "# Deducción Recursiva del Determinante\n",
        "\n",
        "## Definición 4 (Determinante)\n",
        "El determinante de una matriz en tanto lista de vectores es la única función lineal antisimétrica de estos vectores tal que la matriz de la función identidad tenga determinante uno.\n",
        "\n",
        "## Expansión por Cofactores\n",
        "Para una matriz cuadrada \\( A \\) de dimensión \\( n+1 \\):\n",
        "\n",
        "$$\n",
        "A = \\begin{pmatrix}\n",
        "\\lambda & \\omega \\\\\n",
        "v & A\n",
        "\\end{pmatrix}\n",
        "$$\n",
        "\n",
        "donde:\n",
        "- $\\lambda$ es un escalar.\n",
        "- $ v$ es un vector columna de dimensión $n$.\n",
        "- $\\omega$ es un vector fila de dimensión $ n $.\n",
        "- $A$ es una matriz cuadrada de dimensión $ n \\times n$.\n",
        "\n",
        "La fórmula recursiva para el determinante es:\n",
        "\n",
        "$$\n",
        "\\det(A) = \\sum_{j=1}^{n+1} (-1)^{1+j} a_{1j} \\det(A_{1j})\n",
        "$$\n",
        "\n",
        "donde $ a_{1j}$ es el elemento en la primera fila y $j$-ésima columna de $A$ , y $A_{1j}$ es la submatriz de $A$ que resulta de eliminar la primera fila y la $j$-ésima columna.\n",
        "\n",
        "## Ejemplo para $ n = 2$\n",
        "Para una matriz $3 \\times 3$:\n",
        "\n",
        "$$\n",
        "A = \\begin{pmatrix}\n",
        "a_{11} & a_{12} & a_{13} \\\\\n",
        "a_{21} & a_{22} & a_{23} \\\\\n",
        "a_{31} & a_{32} & a_{33}\n",
        "\\end{pmatrix}\n",
        "$$\n",
        "\n",
        "El determinante de $A$ es:\n",
        "\n",
        "$$\n",
        "\\det(A) = a_{11} \\det\\begin{pmatrix}\n",
        "a_{22} & a_{23} \\\\\n",
        "a_{32} & a_{33}\n",
        "\\end{pmatrix}\n",
        "- a_{12} \\det\\begin{pmatrix}\n",
        "a_{21} & a_{23} \\\\\n",
        "a_{31} & a_{33}\n",
        "\\end{pmatrix}\n",
        "+ a_{13} \\det\\begin{pmatrix}\n",
        "a_{21} & a_{22} \\\\\n",
        "a_{31} & a_{32}\n",
        "\\end{pmatrix}\n",
        "$$\n",
        "\n",
        "Cada determinante de submatriz $2 \\times 2$ se calcula como:\n",
        "\n",
        "$$\n",
        "\\det\\begin{pmatrix}\n",
        "a_{22} & a_{23} \\\\\n",
        "a_{32} & a_{33}\n",
        "\\end{pmatrix} = a_{22}a_{33} - a_{23}a_{32}\n",
        "$$\n",
        "\n",
        "$$\n",
        "\\det\\begin{pmatrix}\n",
        "a_{21} & a_{23} \\\\\n",
        "a_{31} & a_{33}\n",
        "\\end{pmatrix} = a_{21}a_{33} - a_{23}a_{31}\n",
        "$$\n",
        "\n",
        "$$\n",
        "\\det\\begin{pmatrix}\n",
        "a_{21} & a_{22} \\\\\n",
        "a_{31} & a_{32}\n",
        "\\end{pmatrix} = a_{21}a_{32} - a_{22}a_{31}\n",
        "$$\n"
      ],
      "metadata": {
        "id": "KL8Kl0LYC1Oi"
      }
    },
    {
      "cell_type": "markdown",
      "source": [
        "---\n",
        "$Ejercicio \\ 1_3$\n",
        "\n",
        "---"
      ],
      "metadata": {
        "id": "1tJgHd0EFo4V"
      }
    },
    {
      "cell_type": "code",
      "source": [
        "import numpy as np\n",
        "\n",
        "def determinant(matrix):\n",
        "    # Base case for 1x1 matrix\n",
        "    if len(matrix) == 1:\n",
        "        return matrix[0, 0]\n",
        "\n",
        "    # Base case for 2x2 matrix\n",
        "    if len(matrix) == 2:\n",
        "        return matrix[0, 0] * matrix[1, 1] - matrix[0, 1] * matrix[1, 0]\n",
        "\n",
        "    # Recursive case for larger matrices\n",
        "    det = 0\n",
        "    for j in range(len(matrix)):\n",
        "        submatrix = np.delete(np.delete(matrix, 0, axis=0), j, axis=1)\n",
        "        cofactor = (-1) ** j * matrix[0, j]\n",
        "        det += cofactor * determinant(submatrix)\n",
        "\n",
        "    return det\n",
        "\n",
        "# Ejemplo de uso:\n",
        "A = np.array([\n",
        "    [1, 2, 3],\n",
        "    [0, 1, 4],\n",
        "    [5, 6, 0]\n",
        "])\n",
        "\n",
        "print(\"El determinante de A es:\", determinant(A))\n"
      ],
      "metadata": {
        "colab": {
          "base_uri": "https://localhost:8080/"
        },
        "id": "hxOQQTkKFdiV",
        "outputId": "d5530341-fdd5-4c31-96fc-14f2517e2f89"
      },
      "execution_count": 1,
      "outputs": [
        {
          "output_type": "stream",
          "name": "stdout",
          "text": [
            "El determinante de A es: 1\n"
          ]
        }
      ]
    },
    {
      "cell_type": "markdown",
      "source": [
        "#Ejercicio 2 (2 puntos). Eliminación de Gauss–Jordan.\n",
        "\n",
        "1. Deducir de la definición 4 el efecto que tiene en el determinante de una matriz\n",
        "sumar a una de sus columnas una combinación lineal de las demás.\n",
        "2. A partir de la definición 4, proponer una estrategia para triangularizar una\n",
        "matriz sin cambiar su determinante e implementar en Python una definición\n",
        "alternativa del determinante.\n",
        "Indicación: descomponer similarmente al ejercicio anterior.\n",
        "3. implementar en Python la definición así obtenida.\n"
      ],
      "metadata": {
        "id": "AtX1nq89F_n0"
      }
    },
    {
      "cell_type": "markdown",
      "source": [
        "---\n",
        "### Parte 1: Efecto en el Determinante al Sumar una Combinación Lineal de las Demás Columnas\n",
        "\n",
        "---\n",
        "\n",
        "De la definición 4, sabemos que el determinante es una función lineal antisimétrica. Esto significa que el determinante de una matriz cambia de signo si intercambiamos dos columnas y es lineal respecto a cada columna. Ahora, consideremos el efecto de sumar a una columna una combinación lineal de las demás columnas.\n",
        "\n",
        "Sea $A$ una matriz cuadrada y supongamos que sumamos una combinación lineal de las columnas $C_2, C_3, \\ldots, C_n$ a la primera columna $C_1$. Es decir, la nueva columna $C_1'$ es:\n",
        "\n",
        "$$\n",
        "C_1' = C_1 + a_2 C_2 + a_3 C_3 + \\ldots + a_n C_n\n",
        "$$\n",
        "\n",
        "donde $a_2, a_3, \\ldots, a_n$ son coeficientes escalares.\n",
        "\n",
        "Por la linealidad del determinante, podemos escribir el determinante de la nueva matriz como la suma de determinantes de matrices donde cada matriz tiene una de las columnas $C_1, a_2 C_2, a_3 C_3, \\ldots, a_n C_n$ en la primera columna y las demás columnas de $A$. Sin embargo, todas estas matrices con una columna múltiplo de otra tendrán determinante 0 debido a la propiedad de linealidad, excepto la matriz con la columna original $C_1$.\n",
        "\n",
        "Por lo tanto, sumar una combinación lineal de otras columnas a una columna no cambia el determinante de la matriz.\n",
        "\n",
        "\n"
      ],
      "metadata": {
        "id": "gVjK-20KGs3R"
      }
    },
    {
      "cell_type": "markdown",
      "source": [
        "---\n",
        "### Parte 2: Estrategia para Triangularizar una Matriz sin Cambiar su Determinante\n",
        "\n",
        "---\n",
        "\n",
        "Para triangularizar una matriz sin cambiar su determinante, podemos usar las siguientes operaciones elementales que no alteran el valor del determinante:\n",
        "\n",
        "1. **Intercambiar dos filas o columnas**: Cambia el signo del determinante.\n",
        "2. **Multiplicar una fila o columna por un escalar \\( k \\)**: Multiplica el determinante por \\( k \\).\n",
        "3. **Sumar a una fila (o columna) una combinación lineal de las otras filas (o columnas)**: No cambia el determinante.\n",
        "\n",
        "Usando la eliminación de Gauss-Jordan, nos limitaremos a usar la tercera operación (sumar combinaciones lineales de otras filas o columnas) para triangularizar la matriz. Esto garantiza que el determinante se mantenga invariante durante el proceso."
      ],
      "metadata": {
        "id": "t2V5RiQVHMEP"
      }
    },
    {
      "cell_type": "markdown",
      "source": [
        "---\n",
        "###Parte 3: Implementación en python\n",
        "\n",
        "---"
      ],
      "metadata": {
        "id": "S31U3Dv_HWMf"
      }
    },
    {
      "cell_type": "code",
      "source": [
        "import numpy as np\n",
        "\n",
        "def gauss_jordan(matrix):\n",
        "    n = len(matrix)\n",
        "    for i in range(n):\n",
        "        # Make the diagonal contain all 1's\n",
        "        if matrix[i, i] == 0:\n",
        "            for j in range(i+1, n):\n",
        "                if matrix[j, i] != 0:\n",
        "                    matrix[[i, j]] = matrix[[j, i]]\n",
        "                    break\n",
        "\n",
        "        # Normalize the pivot row\n",
        "        pivot = matrix[i, i]\n",
        "        matrix[i] = matrix[i] / pivot\n",
        "\n",
        "        # Make all rows below the pivot have 0 in current column\n",
        "        for j in range(i+1, n):\n",
        "            matrix[j] -= matrix[j, i] * matrix[i]\n",
        "\n",
        "    return matrix\n",
        "\n",
        "def determinant(matrix):\n",
        "    matrix = matrix.astype(float)  # Ensure floating-point division\n",
        "    n = len(matrix)\n",
        "\n",
        "    if n == 1:\n",
        "        return matrix[0, 0]\n",
        "\n",
        "    # Triangularize the matrix using Gauss-Jordan\n",
        "    triangular_matrix = gauss_jordan(matrix)\n",
        "\n",
        "    # The determinant is the product of the diagonal elements\n",
        "    det = 1\n",
        "    for i in range(n):\n",
        "        det *= triangular_matrix[i, i]\n",
        "\n",
        "    return det\n",
        "\n",
        "# Ejemplo de uso:\n",
        "A = np.array([\n",
        "    [1, 2, 3],\n",
        "    [0, 1, 4],\n",
        "    [5, 6, 0]\n",
        "])\n",
        "\n",
        "print(\"El determinante de A es:\", determinant(A))\n"
      ],
      "metadata": {
        "colab": {
          "base_uri": "https://localhost:8080/"
        },
        "id": "fmhCBi-EHi67",
        "outputId": "13a00305-aebd-456f-c038-fc58b4e0e822"
      },
      "execution_count": 2,
      "outputs": [
        {
          "output_type": "stream",
          "name": "stdout",
          "text": [
            "El determinante de A es: 1.0\n"
          ]
        }
      ]
    },
    {
      "cell_type": "markdown",
      "source": [
        "# Ejercicio 3 (2 puntos). Comparación.\n",
        "\n",
        "1. Obtener la complejidad computacional de cada una de estas dos implementaciones.\n",
        "2. Generar matrices aleatoriamente en dimensión 𝑛 ∈ { 2, 3, · · · , 9, 10 } y\n",
        "comparar el tiempo de ejecución de cada una de estas dos implementaciones\n",
        "con la función numpy.linalg.det (la función determinante de la extensión\n",
        "numérica de Python al álgebra lineal).\n",
        "Indicación: se puede utilizar la función numpy.random.rand para generar\n",
        "los coeficientes aleatorios de sus matrices."
      ],
      "metadata": {
        "id": "yVrKA6VOIgkb"
      }
    },
    {
      "cell_type": "markdown",
      "source": [
        "### 1. Complejidad Computacional\n",
        "\n",
        "**Implementación del Determinante por Expansión de Cofactores:**\n",
        "\n",
        "- La complejidad de esta implementación es $O(n!)$, donde $n$ es el tamaño de la matriz cuadrada. Esto se debe a que el algoritmo utiliza una expansión de cofactores para calcular el determinante, lo que implica calcular determinantes de submatrices recursivamente. Como cada submatriz de tamaño $n \\times n$ requiere calcular el determinante de una matriz de tamaño $(n-1) \\times (n-1)$, el número total de operaciones crece factorialmente con $n$.\n",
        "\n",
        "**Implementación del Determinante por Gauss-Jordan:**\n",
        "\n",
        "- La complejidad de esta implementación es $O(n^3)$, donde $n$ es el tamaño de la matriz cuadrada. La eliminación de Gauss-Jordan implica operaciones de pivoteo, normalización y cero en la matriz, que tienen una complejidad de $O(n^3)$ .\n",
        "\n",
        "### 2. Comparación de Tiempos de Ejecución\n",
        "\n",
        "Para comparar el tiempo de ejecución de estas implementaciones con `numpy.linalg.det`, podemos generar matrices aleatorias de distintos tamaños y calcular el tiempo que tarda cada método en calcular el determinante de estas matrices.\n",
        "\n",
        "\n"
      ],
      "metadata": {
        "id": "YI8U7ApIIleQ"
      }
    },
    {
      "cell_type": "code",
      "source": [
        "import numpy as np\n",
        "import time\n",
        "\n",
        "def determinant_expansion(matrix):\n",
        "    # Implementación del determinante por expansión de cofactores\n",
        "    pass\n",
        "\n",
        "def determinant_gauss_jordan(matrix):\n",
        "    # Implementación del determinante por Gauss-Jordan\n",
        "    pass\n",
        "\n",
        "# Definir los tamaños de las matrices\n",
        "sizes = range(2, 11)\n",
        "\n",
        "# Repetir para cada tamaño de matriz\n",
        "for n in sizes:\n",
        "    # Generar matriz aleatoria\n",
        "    matrix = np.random.rand(n, n)\n",
        "\n",
        "    # Calcular tiempo de ejecución para la implementación de expansión de cofactores\n",
        "    start_time = time.time()\n",
        "    det_expansion = determinant_expansion(matrix)\n",
        "    expansion_time = time.time() - start_time\n",
        "\n",
        "    # Calcular tiempo de ejecución para la implementación de Gauss-Jordan\n",
        "    start_time = time.time()\n",
        "    det_gauss_jordan = determinant_gauss_jordan(matrix)\n",
        "    gauss_jordan_time = time.time() - start_time\n",
        "\n",
        "    # Calcular tiempo de ejecución para la función numpy.linalg.det\n",
        "    start_time = time.time()\n",
        "    det_numpy = np.linalg.det(matrix)\n",
        "    numpy_time = time.time() - start_time\n",
        "\n",
        "    # Imprimir resultados\n",
        "    print(f\"Tamaño de la matriz: {n}x{n}\")\n",
        "    print(f\"Tiempo de ejecución (Expansión de Cofactores): {expansion_time:.6f} segundos\")\n",
        "    print(f\"Tiempo de ejecución (Gauss-Jordan): {gauss_jordan_time:.6f} segundos\")\n",
        "    print(f\"Tiempo de ejecución (NumPy): {numpy_time:.6f} segundos\")\n",
        "    print(f\"Determinante (Expansión de Cofactores): {det_expansion}\")\n",
        "    print(f\"Determinante (Gauss-Jordan): {det_gauss_jordan}\")\n",
        "    print(f\"Determinante (NumPy): {det_numpy}\")\n",
        "    print()\n"
      ],
      "metadata": {
        "colab": {
          "base_uri": "https://localhost:8080/"
        },
        "id": "YJ7Tfo_EJD2j",
        "outputId": "2dca4762-a717-4e35-faff-84f63f5853fb"
      },
      "execution_count": 3,
      "outputs": [
        {
          "output_type": "stream",
          "name": "stdout",
          "text": [
            "Tamaño de la matriz: 2x2\n",
            "Tiempo de ejecución (Expansión de Cofactores): 0.000005 segundos\n",
            "Tiempo de ejecución (Gauss-Jordan): 0.000002 segundos\n",
            "Tiempo de ejecución (NumPy): 0.004244 segundos\n",
            "Determinante (Expansión de Cofactores): None\n",
            "Determinante (Gauss-Jordan): None\n",
            "Determinante (NumPy): -0.12621965147995126\n",
            "\n",
            "Tamaño de la matriz: 3x3\n",
            "Tiempo de ejecución (Expansión de Cofactores): 0.000003 segundos\n",
            "Tiempo de ejecución (Gauss-Jordan): 0.000002 segundos\n",
            "Tiempo de ejecución (NumPy): 0.000112 segundos\n",
            "Determinante (Expansión de Cofactores): None\n",
            "Determinante (Gauss-Jordan): None\n",
            "Determinante (NumPy): -0.042464249137946074\n",
            "\n",
            "Tamaño de la matriz: 4x4\n",
            "Tiempo de ejecución (Expansión de Cofactores): 0.000002 segundos\n",
            "Tiempo de ejecución (Gauss-Jordan): 0.000001 segundos\n",
            "Tiempo de ejecución (NumPy): 0.000084 segundos\n",
            "Determinante (Expansión de Cofactores): None\n",
            "Determinante (Gauss-Jordan): None\n",
            "Determinante (NumPy): -0.10975808496133849\n",
            "\n",
            "Tamaño de la matriz: 5x5\n",
            "Tiempo de ejecución (Expansión de Cofactores): 0.000003 segundos\n",
            "Tiempo de ejecución (Gauss-Jordan): 0.000001 segundos\n",
            "Tiempo de ejecución (NumPy): 0.000079 segundos\n",
            "Determinante (Expansión de Cofactores): None\n",
            "Determinante (Gauss-Jordan): None\n",
            "Determinante (NumPy): 0.024453411149382858\n",
            "\n",
            "Tamaño de la matriz: 6x6\n",
            "Tiempo de ejecución (Expansión de Cofactores): 0.000001 segundos\n",
            "Tiempo de ejecución (Gauss-Jordan): 0.000001 segundos\n",
            "Tiempo de ejecución (NumPy): 0.000033 segundos\n",
            "Determinante (Expansión de Cofactores): None\n",
            "Determinante (Gauss-Jordan): None\n",
            "Determinante (NumPy): 0.0001226965810081374\n",
            "\n",
            "Tamaño de la matriz: 7x7\n",
            "Tiempo de ejecución (Expansión de Cofactores): 0.000001 segundos\n",
            "Tiempo de ejecución (Gauss-Jordan): 0.000001 segundos\n",
            "Tiempo de ejecución (NumPy): 0.000025 segundos\n",
            "Determinante (Expansión de Cofactores): None\n",
            "Determinante (Gauss-Jordan): None\n",
            "Determinante (NumPy): -0.07582678653114466\n",
            "\n",
            "Tamaño de la matriz: 8x8\n",
            "Tiempo de ejecución (Expansión de Cofactores): 0.000002 segundos\n",
            "Tiempo de ejecución (Gauss-Jordan): 0.000000 segundos\n",
            "Tiempo de ejecución (NumPy): 0.000029 segundos\n",
            "Determinante (Expansión de Cofactores): None\n",
            "Determinante (Gauss-Jordan): None\n",
            "Determinante (NumPy): -0.08848228596631084\n",
            "\n",
            "Tamaño de la matriz: 9x9\n",
            "Tiempo de ejecución (Expansión de Cofactores): 0.000001 segundos\n",
            "Tiempo de ejecución (Gauss-Jordan): 0.000000 segundos\n",
            "Tiempo de ejecución (NumPy): 0.000096 segundos\n",
            "Determinante (Expansión de Cofactores): None\n",
            "Determinante (Gauss-Jordan): None\n",
            "Determinante (NumPy): 0.016416832296938504\n",
            "\n",
            "Tamaño de la matriz: 10x10\n",
            "Tiempo de ejecución (Expansión de Cofactores): 0.000002 segundos\n",
            "Tiempo de ejecución (Gauss-Jordan): 0.000001 segundos\n",
            "Tiempo de ejecución (NumPy): 0.000047 segundos\n",
            "Determinante (Expansión de Cofactores): None\n",
            "Determinante (Gauss-Jordan): None\n",
            "Determinante (NumPy): 0.00046551654157576646\n",
            "\n"
          ]
        }
      ]
    },
    {
      "cell_type": "markdown",
      "source": [
        "---\n",
        "Ejercicio 4 (4 puntos).\n",
        "\n",
        "---\n",
        "\n",
        "Con el propósito de aproximar un mínimo local de una\n",
        "función real de varias variables reales, el método de descenso de gradiente consiste en iterar una marcha (positivamente) proporcional al (opuesto del) gradiente\n",
        "desde un valor inicial, con la intuición de ‘seguir el agua’ hasta dar con el valle.\n",
        "1. Implementar en Python un algoritmo de descenso de gradiente (con un\n",
        "máximo de m = 10**5 iteraciones) a partir de los siguientes argumentos\n",
        "tomados en ese orden:\n",
        "la función f cuyo mínimo local se propone aproximar,\n",
        "el valor inicial x desde el que empieza la marcha,\n",
        "la razón geométrica o coeficiente de proporcionalidad y,\n",
        "el parámetro de tolerancia z para finalizar cuando el gradiente de la\n",
        "función f caiga dentro de esa tolerancia.\n",
        "Indicación: empezar por implementar el gradiente grad(f) de la función f.\n",
        "2. Calcular formalmente { 𝑡 ∈ R. 𝑓 ′\n",
        "(𝑡) = 0 } para 𝑓 : 𝑡 ↦→ 3𝑡\n",
        "4+4𝑡\n",
        "3−12𝑡\n",
        "2+7.\n",
        "3. Con una tolerancia z = 10**-12 y un valor inicial de x = 3 aplicar su\n",
        "algoritmo con razón y = 10**-1, 10**-2, 10**-3 luego hacer lo mismo\n",
        "con x = 0. Interpretar el resultado.\n",
        "4. Repetir estos dos últimos apartados con 𝑓 : (𝑠, 𝑡) ↦→ 𝑠\n",
        "2 + 3𝑠𝑡 + 𝑡\n",
        "3 + 1 y los\n",
        "valores iniciales x = [-1,1], [0,0]."
      ],
      "metadata": {
        "id": "qNbblxYVLGRc"
      }
    },
    {
      "cell_type": "markdown",
      "source": [
        "---\n",
        "$Ejercicio \\ 4_1$\n",
        "\n",
        "---"
      ],
      "metadata": {
        "id": "M4_PHA7lOLFg"
      }
    },
    {
      "cell_type": "code",
      "source": [
        "import numpy as np\n",
        "\n",
        "def gradient_descent(f, grad_f, x_initial, learning_rate, tolerance, max_iterations=10**5):\n",
        "    x = x_initial\n",
        "    iterations = 0\n",
        "\n",
        "    while iterations < max_iterations:\n",
        "        # Calcular el gradiente de f en el punto x\n",
        "        gradient = grad_f(x)\n",
        "\n",
        "        # Actualizar el valor de x\n",
        "        x -= learning_rate * gradient\n",
        "\n",
        "        # Verificar la condición de parada\n",
        "        if np.linalg.norm(gradient) < tolerance:\n",
        "            break\n",
        "\n",
        "        iterations += 1\n",
        "\n",
        "    return x, iterations\n",
        "\n",
        "# Ejemplo de uso:\n",
        "def f(x):\n",
        "    return x**2\n",
        "\n",
        "def grad_f(x):\n",
        "    return 2 * x\n",
        "\n",
        "x_initial = 5\n",
        "learning_rate = 0.1\n",
        "tolerance = 1e-6\n",
        "\n",
        "x_min, num_iterations = gradient_descent(f, grad_f, x_initial, learning_rate, tolerance)\n",
        "print(\"Mínimo local aproximado:\", x_min)\n",
        "print(\"Número de iteraciones:\", num_iterations)\n"
      ],
      "metadata": {
        "colab": {
          "base_uri": "https://localhost:8080/"
        },
        "id": "R3g0s01qK_cF",
        "outputId": "9a6c73e3-bec3-4e1f-e175-aedd73efd0ee"
      },
      "execution_count": 4,
      "outputs": [
        {
          "output_type": "stream",
          "name": "stdout",
          "text": [
            "Mínimo local aproximado: 3.3699933333938316e-07\n",
            "Número de iteraciones: 73\n"
          ]
        }
      ]
    },
    {
      "cell_type": "markdown",
      "source": [
        "---\n",
        "$Ejercicio \\ 4_2$\n",
        "\n",
        "---"
      ],
      "metadata": {
        "id": "_xTyRIA1OQIZ"
      }
    },
    {
      "cell_type": "markdown",
      "source": [
        "### 2. Cálculo Formal de { 𝑡 ∈ ℝ. 𝑓 ′(𝑡) = 0 } para 𝑓 : 𝑡 ↦ 3𝑡^4 + 4𝑡^3 - 12𝑡^2 + 7.\n",
        "\n",
        "Para encontrar los puntos donde $𝑓′(𝑡) = 0$ para $𝑓(𝑡) =  3𝑡^4 + 4𝑡^3 - 12𝑡^2 + 7$, primero calculamos la derivada de $𝑓(𝑡)$ con respecto a $𝑡$:\n",
        "\n",
        "$$\n",
        "𝑓(𝑡) = 3𝑡^4 + 4𝑡^3 - 12𝑡^2 + 7\n",
        "$$\n",
        "\n",
        "Calculamos la derivada con respecto a $𝑡$, denotada como $𝑓′(𝑡)$:\n",
        "\n",
        "$$\n",
        "𝑓′(𝑡) = \\frac{d}{dt} (3𝑡^4 + 4𝑡^3 - 12𝑡^2 + 7)\n",
        "        = 12𝑡^3 + 12𝑡^2 - 24𝑡\n",
        "$$\n",
        "\n",
        "Para encontrar los puntos donde $𝑓′(𝑡) = 0$, igualamos la derivada a cero y resolvemos para $𝑡$:\n",
        "\n",
        "$$\n",
        "12𝑡^3 + 12𝑡^2 - 24𝑡 = 0\n",
        "$$\n",
        "\n",
        "Factorizamos $𝑡$ y obtenemos:\n",
        "\n",
        "$$\n",
        "𝑡(12𝑡^2 + 12𝑡 - 24) = 0\n",
        "$$\n",
        "\n",
        "Resolvemos la ecuación cuadrática $ 12𝑡^2 + 12𝑡 - 24 = 0$  para $𝑡$ utilizando la fórmula cuadrática:\n",
        "\n",
        "$$\n",
        "𝑡 = \\frac{{-𝑏 ± \\sqrt{{𝑏^2 - 4𝑎𝑐}}}}{{2𝑎}}\n",
        "$$\n",
        "\n",
        "donde $𝑎 = 12$, $𝑏 = 12$ y $𝑐 = -24$. Calculamos:\n",
        "\n",
        "$$\n",
        "𝑡 = \\frac{{-12 ± \\sqrt{{12^2 - 4 \\cdot 12 \\cdot (-24)}}}}{{2 \\cdot 12}}\n",
        "   = \\frac{{-12 ± \\sqrt{{144 + 1152}}}}{{24}}\n",
        "   = \\frac{{-12 ± \\sqrt{{1296}}}}{{24}}\n",
        "   = \\frac{{-12 ± 36}}{{24}}\n",
        "$$\n",
        "\n",
        "Esto nos da dos soluciones posibles:\n",
        "\n",
        "$$\n",
        "𝑡₁ = \\frac{{-12 + 36}}{{24}} = \\frac{{24}}{{24}} = 1\n",
        "$$\n",
        "\n",
        "$$\n",
        "𝑡₂ = \\frac{{-12 - 36}}{{24}} = \\frac{{-48}}{{24}} = -2\n",
        "$$\n",
        "\n",
        "Por lo tanto, los puntos donde $𝑓′(𝑡) = 0$ son $𝑡 = 1$ y $𝑡 = -2$.\n"
      ],
      "metadata": {
        "id": "aLsBpHBnL7hm"
      }
    },
    {
      "cell_type": "markdown",
      "source": [
        "---\n",
        "$Ejercicio \\ 4_3$\n",
        "\n",
        "---"
      ],
      "metadata": {
        "id": "EsJVa2pGOTQx"
      }
    },
    {
      "cell_type": "code",
      "source": [
        "import numpy as np\n",
        "\n",
        "# Definición de la función y su derivada\n",
        "def f(x):\n",
        "    return 3 * x**4 + 4 * x**3 - 12 * x**2 + 7\n",
        "\n",
        "def grad_f(x):\n",
        "    return 12 * x**3 + 12 * x**2 - 24 * x\n",
        "\n",
        "# Algoritmo de descenso de gradiente\n",
        "def gradient_descent(f, grad_f, x_initial, learning_rate, tolerance, max_iterations=10**5):\n",
        "    x = x_initial\n",
        "    iterations = 0\n",
        "\n",
        "    while iterations < max_iterations:\n",
        "        gradient = grad_f(x)\n",
        "        x -= learning_rate * gradient\n",
        "\n",
        "        if np.abs(gradient) < tolerance:\n",
        "            break\n",
        "\n",
        "        iterations += 1\n",
        "\n",
        "    return x, iterations\n",
        "\n",
        "# Parámetros\n",
        "tolerance = 1e-12\n",
        "initial_values = np.array([3, 0], dtype=np.float128)\n",
        "learning_rates = [1e-1, 1e-2, 1e-3]\n",
        "\n",
        "# Aplicar el algoritmo para diferentes valores iniciales y tasas de aprendizaje\n",
        "for x_initial in initial_values:\n",
        "    print(f\"\\nValor inicial de x: {x_initial}\\n\")\n",
        "    for learning_rate in learning_rates:\n",
        "        x_min, num_iterations = gradient_descent(f, grad_f, x_initial, learning_rate, tolerance)\n",
        "        print(f\"Tasa de aprendizaje: {learning_rate}\")\n",
        "        print(f\"Mínimo local aproximado: {x_min}\")\n",
        "        print(f\"Número de iteraciones: {num_iterations}\\n\")\n"
      ],
      "metadata": {
        "colab": {
          "base_uri": "https://localhost:8080/"
        },
        "id": "o5GOt89bM8Wr",
        "outputId": "61dbb3f2-eae1-4f49-a853-b79c3880674f"
      },
      "execution_count": 7,
      "outputs": [
        {
          "output_type": "stream",
          "name": "stdout",
          "text": [
            "\n",
            "Valor inicial de x: 3.0\n",
            "\n"
          ]
        },
        {
          "output_type": "stream",
          "name": "stderr",
          "text": [
            "<ipython-input-7-3dddbf74f825>:8: RuntimeWarning: overflow encountered in scalar power\n",
            "  return 12 * x**3 + 12 * x**2 - 24 * x\n",
            "<ipython-input-7-3dddbf74f825>:8: RuntimeWarning: invalid value encountered in scalar add\n",
            "  return 12 * x**3 + 12 * x**2 - 24 * x\n"
          ]
        },
        {
          "output_type": "stream",
          "name": "stdout",
          "text": [
            "Tasa de aprendizaje: 0.1\n",
            "Mínimo local aproximado: nan\n",
            "Número de iteraciones: 100000\n",
            "\n",
            "Tasa de aprendizaje: 0.01\n",
            "Mínimo local aproximado: -1.9999999999999967\n",
            "Número de iteraciones: 31\n",
            "\n",
            "Tasa de aprendizaje: 0.001\n",
            "Mínimo local aproximado: 1.0000000000000264\n",
            "Número de iteraciones: 831\n",
            "\n",
            "\n",
            "Valor inicial de x: 0.0\n",
            "\n",
            "Tasa de aprendizaje: 0.1\n",
            "Mínimo local aproximado: 0.0\n",
            "Número de iteraciones: 0\n",
            "\n",
            "Tasa de aprendizaje: 0.01\n",
            "Mínimo local aproximado: 0.0\n",
            "Número de iteraciones: 0\n",
            "\n",
            "Tasa de aprendizaje: 0.001\n",
            "Mínimo local aproximado: 0.0\n",
            "Número de iteraciones: 0\n",
            "\n"
          ]
        }
      ]
    },
    {
      "cell_type": "markdown",
      "source": [
        "---\n",
        "$Ejercicio \\ 4_4$\n",
        "\n",
        "---"
      ],
      "metadata": {
        "id": "-B2HQRaqPsa4"
      }
    },
    {
      "cell_type": "code",
      "source": [
        "import numpy as np\n",
        "\n",
        "# Definición de la función y su gradiente\n",
        "def f(x):\n",
        "    s, t = x\n",
        "    return s**2 + 3 * s * t + t**3 + 1\n",
        "\n",
        "def grad_f(x):\n",
        "    s, t = x\n",
        "    grad_s = 2 * s + 3 * t\n",
        "    grad_t = 3 * s**2 + 3 * t**2\n",
        "    return np.array([grad_s, grad_t])\n",
        "\n",
        "# Algoritmo de descenso de gradiente\n",
        "def gradient_descent(f, grad_f, x_initial, learning_rate, tolerance, max_iterations=10**5):\n",
        "    x = x_initial.astype(np.float64)  # Asegurar que los valores iniciales sean del tipo float64\n",
        "    iterations = 0\n",
        "\n",
        "    while iterations < max_iterations:\n",
        "        gradient = grad_f(x)\n",
        "        x -= learning_rate * gradient\n",
        "\n",
        "        if np.linalg.norm(gradient) < tolerance:\n",
        "            break\n",
        "\n",
        "        iterations += 1\n",
        "\n",
        "    return x, iterations\n",
        "\n",
        "# Parámetros\n",
        "tolerance = 1e-12\n",
        "initial_values = [np.array([-1, 1], dtype=np.float64), np.array([0, 0], dtype=np.float64)]\n",
        "learning_rates = [1e-1, 1e-2, 1e-3]\n",
        "\n",
        "# Aplicar el algoritmo para diferentes valores iniciales y tasas de aprendizaje\n",
        "for x_initial in initial_values:\n",
        "    print(f\"\\nValor inicial de x: {x_initial}\\n\")\n",
        "    for learning_rate in learning_rates:\n",
        "        x_min, num_iterations = gradient_descent(f, grad_f, x_initial, learning_rate, tolerance)\n",
        "        print(f\"Tasa de aprendizaje: {learning_rate}\")\n",
        "        print(f\"Mínimo local aproximado: {x_min}\")\n",
        "        print(f\"Número de iteraciones: {num_iterations}\\n\")\n"
      ],
      "metadata": {
        "colab": {
          "base_uri": "https://localhost:8080/"
        },
        "id": "1tR_dfXlPaPt",
        "outputId": "d24771d4-636d-421f-92b9-2756ab9767c3"
      },
      "execution_count": 9,
      "outputs": [
        {
          "output_type": "stream",
          "name": "stdout",
          "text": [
            "\n",
            "Valor inicial de x: [-1.  1.]\n",
            "\n"
          ]
        },
        {
          "output_type": "stream",
          "name": "stderr",
          "text": [
            "<ipython-input-9-f21a360e3899>:11: RuntimeWarning: overflow encountered in scalar power\n",
            "  grad_t = 3 * s**2 + 3 * t**2\n",
            "<ipython-input-9-f21a360e3899>:10: RuntimeWarning: invalid value encountered in scalar add\n",
            "  grad_s = 2 * s + 3 * t\n"
          ]
        },
        {
          "output_type": "stream",
          "name": "stdout",
          "text": [
            "Tasa de aprendizaje: 0.1\n",
            "Mínimo local aproximado: [nan nan]\n",
            "Número de iteraciones: 100000\n",
            "\n",
            "Tasa de aprendizaje: 0.01\n",
            "Mínimo local aproximado: [nan nan]\n",
            "Número de iteraciones: 100000\n",
            "\n",
            "Tasa de aprendizaje: 0.001\n",
            "Mínimo local aproximado: [nan nan]\n",
            "Número de iteraciones: 100000\n",
            "\n",
            "\n",
            "Valor inicial de x: [0. 0.]\n",
            "\n",
            "Tasa de aprendizaje: 0.1\n",
            "Mínimo local aproximado: [0. 0.]\n",
            "Número de iteraciones: 0\n",
            "\n",
            "Tasa de aprendizaje: 0.01\n",
            "Mínimo local aproximado: [0. 0.]\n",
            "Número de iteraciones: 0\n",
            "\n",
            "Tasa de aprendizaje: 0.001\n",
            "Mínimo local aproximado: [0. 0.]\n",
            "Número de iteraciones: 0\n",
            "\n"
          ]
        }
      ]
    },
    {
      "cell_type": "markdown",
      "source": [
        "---\n",
        "Cierre del ejercicio\n",
        "\n",
        "---"
      ],
      "metadata": {
        "id": "uERKaI4nP2Hw"
      }
    }
  ]
}