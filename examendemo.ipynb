{
  "nbformat": 4,
  "nbformat_minor": 0,
  "metadata": {
    "colab": {
      "provenance": [],
      "authorship_tag": "ABX9TyP32i4cKDDm64n2Ihgzyiyc",
      "include_colab_link": true
    },
    "kernelspec": {
      "name": "python3",
      "display_name": "Python 3"
    },
    "language_info": {
      "name": "python"
    }
  },
  "cells": [
    {
      "cell_type": "markdown",
      "metadata": {
        "id": "view-in-github",
        "colab_type": "text"
      },
      "source": [
        "<a href=\"https://colab.research.google.com/github/jagvgithub/Python_para_IA/blob/main/examendemo.ipynb\" target=\"_parent\"><img src=\"https://colab.research.google.com/assets/colab-badge.svg\" alt=\"Open In Colab\"/></a>"
      ]
    },
    {
      "cell_type": "code",
      "execution_count": null,
      "metadata": {
        "colab": {
          "base_uri": "https://localhost:8080/"
        },
        "id": "SQY4AMLI7GHI",
        "outputId": "6c74065f-2450-4f89-d408-603f7d280e56"
      },
      "outputs": [
        {
          "output_type": "stream",
          "name": "stdout",
          "text": [
            "[0, 1, 1, 2, 3, 5, 8, 13, 21, 34]\n"
          ]
        }
      ],
      "source": [
        "# ejercicio 1\n",
        "\n",
        "n0 = 0\n",
        "n1 = 1\n",
        "\n",
        "from functools import reduce\n",
        "\n",
        "def fibonacci_series(n):\n",
        "    return reduce(lambda x, _: x + [x[-1] + x[-2]], range(n-2), [0, 1])\n",
        "\n",
        "# Ejemplo de uso:\n",
        "n = 10  # Por ejemplo, generar la serie de Fibonacci hasta el 10º número\n",
        "print(fibonacci_series(n))\n",
        "\n"
      ]
    },
    {
      "cell_type": "code",
      "source": [
        "# ejercicio 3\n",
        "\n",
        "\n",
        "# 2x+3y=5\n",
        "# 4x+9y=6\n",
        "\n",
        "\n",
        "import numpy as np\n",
        "\n",
        "# Definir los coeficientes\n",
        "a, b = 2, 3\n",
        "c, d = 4, 9\n",
        "\n",
        "# Definir las constantes\n",
        "e, f = 5, 6\n",
        "\n",
        "# Crear la matriz de coeficientes\n",
        "A = np.array([[a, b], [c, d]])\n",
        "\n",
        "# Crear el vector de constantes\n",
        "B = np.array([e, f])\n",
        "\n",
        "# Resolver el sistema de ecuaciones\n",
        "solution = np.linalg.solve(A, B)\n",
        "\n",
        "# Mostrar la solución\n",
        "x, y = solution\n",
        "print(f\"Solución: x = {x}, y = {y}\")\n",
        "\n",
        "\n",
        "#  con pulp\n",
        "\n",
        "!pip install pulp\n",
        "import pulp\n",
        "\n",
        "# Crear el problema de optimización\n",
        "prob = pulp.LpProblem(\"Sistema_de_Ecuaciones\", pulp.LpMinimize)\n",
        "\n",
        "# Crear las variables\n",
        "x = pulp.LpVariable('x', cat='Continuous')\n",
        "y = pulp.LpVariable('y', cat='Continuous')\n",
        "\n",
        "# No necesitamos una función objetivo, solo restricciones\n",
        "# Pero PuLP necesita una, así que usamos una función objetivo dummy que no afecta el resultado\n",
        "prob += 0, \"Dummy Objective Function\"\n",
        "\n",
        "# Agregar las restricciones (las ecuaciones del sistema)\n",
        "prob += 2 * x + 3 * y == 5, \"Ecuacion1\"\n",
        "prob += 4 * x + 9 * y == 6, \"Ecuacion2\"\n",
        "\n",
        "# Resolver el problema\n",
        "prob.solve()\n",
        "\n",
        "# Obtener los resultados\n",
        "x_value = pulp.value(x)\n",
        "y_value = pulp.value(y)\n",
        "\n",
        "print(f\"Solución: x = {x_value}, y = {y_value}\")\n",
        "\n",
        "# tre incognitas\n",
        "\n",
        "#x+2y+3z=14\n",
        "#2x+y+z=10\n",
        "#3x+2y+z=14\n",
        "\n",
        "import numpy as np\n",
        "\n",
        "# Definir la matriz de coeficientes\n",
        "A = np.array([\n",
        "    [1, 2, 3],\n",
        "    [2, 1, 1],\n",
        "    [3, 2, 1]\n",
        "])\n",
        "\n",
        "# Definir el vector de constantes\n",
        "B = np.array([14, 10, 14])\n",
        "\n",
        "# Resolver el sistema de ecuaciones\n",
        "solution = np.linalg.solve(A, B)\n",
        "\n",
        "# Mostrar la solución\n",
        "x, y, z = solution\n",
        "print(f\"Solución con numpy: x = {x}, y = {y}, z = {z}\")\n",
        "\n",
        "\n",
        "\n",
        "\n",
        "prob = pulp.LpProblem(\"Sistema_de_Ecuaciones_3_Incognitas\", pulp.LpMinimize)\n",
        "\n",
        "# Crear las variables\n",
        "x = pulp.LpVariable('x', cat='Continuous')\n",
        "y = pulp.LpVariable('y', cat='Continuous')\n",
        "z = pulp.LpVariable('z', cat='Continuous')\n",
        "\n",
        "# No necesitamos una función objetivo, solo restricciones\n",
        "# Pero PuLP necesita una, así que usamos una función objetivo dummy que no afecta el resultado\n",
        "prob += 0, \"Dummy Objective Function\"\n",
        "\n",
        "# Agregar las restricciones (las ecuaciones del sistema)\n",
        "prob += x + 2*y + 3*z == 14, \"Ecuacion1\"\n",
        "prob += 2*x + y + z == 10, \"Ecuacion2\"\n",
        "prob += 3*x + 2*y + z == 14, \"Ecuacion3\"\n",
        "\n",
        "# Resolver el problema\n",
        "prob.solve()\n",
        "\n",
        "# Obtener los resultados\n",
        "x_value = pulp.value(x)\n",
        "y_value = pulp.value(y)\n",
        "z_value = pulp.value(z)\n",
        "\n",
        "print(f\"Solución con PuLP: x = {x_value}, y = {y_value}, z = {z_value}\")\n",
        "\n",
        "\n"
      ],
      "metadata": {
        "colab": {
          "base_uri": "https://localhost:8080/"
        },
        "id": "ZjbPYMCE8xPO",
        "outputId": "2cab02a8-bd9a-4c86-c506-803f6dd11154"
      },
      "execution_count": 3,
      "outputs": [
        {
          "output_type": "stream",
          "name": "stdout",
          "text": [
            "Solución: x = 4.5, y = -1.3333333333333333\n",
            "Requirement already satisfied: pulp in /usr/local/lib/python3.10/dist-packages (2.8.0)\n",
            "Solución: x = 4.5, y = -1.3333333\n",
            "Solución con numpy: x = 3.0000000000000013, y = 0.9999999999999977, z = 3.0000000000000013\n",
            "Solución con PuLP: x = 3.0, y = 1.0, z = 3.0\n"
          ]
        }
      ]
    },
    {
      "cell_type": "code",
      "source": [
        "import pandas as pd\n",
        "\n",
        "# Crear una Serie con 10 elementos de diferentes tipos\n",
        "data = [1, 2.5, 'three', 4, 'five', 6.7, 'seven', 8, 9.9, 'ten']\n",
        "indices = ['a', 'b', 'c', 'd', 'e', 'f', 'g', 'h', 'i', 'j']\n",
        "\n",
        "serie = pd.Series(data, index=indices)\n",
        "\n",
        "# Mostrar la Serie\n",
        "print(\"Serie:\")\n",
        "print(serie)\n",
        "\n",
        "# Seleccionar 4 elementos con slicing usando índices posicionales\n",
        "positional_slice = serie[2:6]  # Selecciona desde el índice 2 hasta el 5\n",
        "\n",
        "# Seleccionar los mismos 4 elementos con slicing usando índices semánticos\n",
        "semantic_slice = serie['c':'f']  # Selecciona desde 'c' hasta 'f'\n",
        "\n",
        "# Mostrar los resultados\n",
        "print(\"\\nSlicing con índices posicionales:\")\n",
        "print(positional_slice)\n",
        "print(\"\\nSlicing con índices semánticos:\")\n",
        "print(semantic_slice)\n",
        "\n",
        "# Verificar que ambos métodos de slicing devuelven los mismos elementos\n",
        "are_equal = positional_slice.equals(semantic_slice)\n",
        "print(\"\\n¿Son iguales los datos obtenidos por ambos métodos? ->\", are_equal)\n"
      ],
      "metadata": {
        "colab": {
          "base_uri": "https://localhost:8080/"
        },
        "id": "TTAragecGD4c",
        "outputId": "7707647d-b375-4419-8373-3033e1186a84"
      },
      "execution_count": 4,
      "outputs": [
        {
          "output_type": "stream",
          "name": "stdout",
          "text": [
            "Serie:\n",
            "a        1\n",
            "b      2.5\n",
            "c    three\n",
            "d        4\n",
            "e     five\n",
            "f      6.7\n",
            "g    seven\n",
            "h        8\n",
            "i      9.9\n",
            "j      ten\n",
            "dtype: object\n",
            "\n",
            "Slicing con índices posicionales:\n",
            "c    three\n",
            "d        4\n",
            "e     five\n",
            "f      6.7\n",
            "dtype: object\n",
            "\n",
            "Slicing con índices semánticos:\n",
            "c    three\n",
            "d        4\n",
            "e     five\n",
            "f      6.7\n",
            "dtype: object\n",
            "\n",
            "¿Son iguales los datos obtenidos por ambos métodos? -> True\n"
          ]
        }
      ]
    },
    {
      "cell_type": "code",
      "source": [
        "import pandas as pd\n",
        "import numpy as np\n",
        "\n",
        "# Fijar la semilla para reproducibilidad\n",
        "np.random.seed(42)\n",
        "\n",
        "# Crear el DataFrame con números aleatorios en el rango [0, 20]\n",
        "df = pd.DataFrame(np.random.randint(0, 21, size=(10, 10)))\n",
        "\n",
        "# Mostrar el DataFrame original\n",
        "print(\"DataFrame original:\")\n",
        "print(df)\n",
        "\n",
        "# Reemplazar todos los elementos menores de 5 por NaN\n",
        "df[df < 5] = np.nan\n",
        "\n",
        "# Mostrar el DataFrame después del reemplazo\n",
        "print(\"\\nDataFrame después de reemplazar elementos menores de 5 por NaN:\")\n",
        "print(df)\n",
        "\n",
        "# Contar el número de elementos NaN por fila\n",
        "nan_count_per_row = df.isna().sum(axis=1)\n",
        "\n",
        "# Mostrar el conteo de NaN por fila\n",
        "print(\"\\nNúmero de elementos NaN por fila:\")\n",
        "print(nan_count_per_row)\n"
      ],
      "metadata": {
        "id": "u8yPBuVUHOnr",
        "outputId": "d5945371-7af9-44fb-9201-f935245c4f1e",
        "colab": {
          "base_uri": "https://localhost:8080/"
        }
      },
      "execution_count": 7,
      "outputs": [
        {
          "output_type": "stream",
          "name": "stdout",
          "text": [
            "DataFrame original:\n",
            "    0   1   2   3   4   5   6   7   8   9\n",
            "0   6  19  14  10   7  20   6  18  10  10\n",
            "1  20   3   7   2  20   1  11   5   1  20\n",
            "2   0  11  11  16   9  15  14  14  18  11\n",
            "3  19   2   4  18   6  20   8   6  17   3\n",
            "4  13  17   8  20   1  19  14   6  11   7\n",
            "5  14   2  13  16   3  17   7   3   1   5\n",
            "6   9   3  17  11   1   9   3  13  15  14\n",
            "7   7  13   7  20  15  12  17  14  20  12\n",
            "8   8  14  12   0   6   8   0  11   7  10\n",
            "9  18  16   7   2   2   0   4   9   6   8\n",
            "\n",
            "DataFrame después de reemplazar elementos menores de 5 por NaN:\n",
            "      0     1     2     3     4     5     6     7     8     9\n",
            "0   6.0  19.0  14.0  10.0   7.0  20.0   6.0  18.0  10.0  10.0\n",
            "1  20.0   NaN   7.0   NaN  20.0   NaN  11.0   5.0   NaN  20.0\n",
            "2   NaN  11.0  11.0  16.0   9.0  15.0  14.0  14.0  18.0  11.0\n",
            "3  19.0   NaN   NaN  18.0   6.0  20.0   8.0   6.0  17.0   NaN\n",
            "4  13.0  17.0   8.0  20.0   NaN  19.0  14.0   6.0  11.0   7.0\n",
            "5  14.0   NaN  13.0  16.0   NaN  17.0   7.0   NaN   NaN   5.0\n",
            "6   9.0   NaN  17.0  11.0   NaN   9.0   NaN  13.0  15.0  14.0\n",
            "7   7.0  13.0   7.0  20.0  15.0  12.0  17.0  14.0  20.0  12.0\n",
            "8   8.0  14.0  12.0   NaN   6.0   8.0   NaN  11.0   7.0  10.0\n",
            "9  18.0  16.0   7.0   NaN   NaN   NaN   NaN   9.0   6.0   8.0\n",
            "\n",
            "Número de elementos NaN por fila:\n",
            "0    0\n",
            "1    4\n",
            "2    1\n",
            "3    3\n",
            "4    1\n",
            "5    4\n",
            "6    3\n",
            "7    0\n",
            "8    2\n",
            "9    4\n",
            "dtype: int64\n"
          ]
        }
      ]
    },
    {
      "cell_type": "code",
      "source": [
        "serie = ['a','b','c','a','c','a','g']\n",
        "expected_output = pd.DataFrame(['a','b','c','g'])\n",
        "output = remove_duplicates(serie)   # This will call tour function remove_duplicates\n",
        "print(output)\n",
        "assert(expected_output.equals(output))"
      ],
      "metadata": {
        "id": "EvUrVtLeHyAP",
        "outputId": "892dc547-ceeb-4ad8-df9e-92d0d4bffcd5",
        "colab": {
          "base_uri": "https://localhost:8080/",
          "height": 211
        }
      },
      "execution_count": 8,
      "outputs": [
        {
          "output_type": "error",
          "ename": "NameError",
          "evalue": "name 'remove_duplicates' is not defined",
          "traceback": [
            "\u001b[0;31m---------------------------------------------------------------------------\u001b[0m",
            "\u001b[0;31mNameError\u001b[0m                                 Traceback (most recent call last)",
            "\u001b[0;32m<ipython-input-8-768acac2fbde>\u001b[0m in \u001b[0;36m<cell line: 3>\u001b[0;34m()\u001b[0m\n\u001b[1;32m      1\u001b[0m \u001b[0mserie\u001b[0m \u001b[0;34m=\u001b[0m \u001b[0;34m[\u001b[0m\u001b[0;34m'a'\u001b[0m\u001b[0;34m,\u001b[0m\u001b[0;34m'b'\u001b[0m\u001b[0;34m,\u001b[0m\u001b[0;34m'c'\u001b[0m\u001b[0;34m,\u001b[0m\u001b[0;34m'a'\u001b[0m\u001b[0;34m,\u001b[0m\u001b[0;34m'c'\u001b[0m\u001b[0;34m,\u001b[0m\u001b[0;34m'a'\u001b[0m\u001b[0;34m,\u001b[0m\u001b[0;34m'g'\u001b[0m\u001b[0;34m]\u001b[0m\u001b[0;34m\u001b[0m\u001b[0;34m\u001b[0m\u001b[0m\n\u001b[1;32m      2\u001b[0m \u001b[0mexpected_output\u001b[0m \u001b[0;34m=\u001b[0m \u001b[0mpd\u001b[0m\u001b[0;34m.\u001b[0m\u001b[0mDataFrame\u001b[0m\u001b[0;34m(\u001b[0m\u001b[0;34m[\u001b[0m\u001b[0;34m'a'\u001b[0m\u001b[0;34m,\u001b[0m\u001b[0;34m'b'\u001b[0m\u001b[0;34m,\u001b[0m\u001b[0;34m'c'\u001b[0m\u001b[0;34m,\u001b[0m\u001b[0;34m'g'\u001b[0m\u001b[0;34m]\u001b[0m\u001b[0;34m)\u001b[0m\u001b[0;34m\u001b[0m\u001b[0;34m\u001b[0m\u001b[0m\n\u001b[0;32m----> 3\u001b[0;31m \u001b[0moutput\u001b[0m \u001b[0;34m=\u001b[0m \u001b[0mremove_duplicates\u001b[0m\u001b[0;34m(\u001b[0m\u001b[0mserie\u001b[0m\u001b[0;34m)\u001b[0m   \u001b[0;31m# This will call tour function remove_duplicates\u001b[0m\u001b[0;34m\u001b[0m\u001b[0;34m\u001b[0m\u001b[0m\n\u001b[0m\u001b[1;32m      4\u001b[0m \u001b[0mprint\u001b[0m\u001b[0;34m(\u001b[0m\u001b[0moutput\u001b[0m\u001b[0;34m)\u001b[0m\u001b[0;34m\u001b[0m\u001b[0;34m\u001b[0m\u001b[0m\n\u001b[1;32m      5\u001b[0m \u001b[0;32massert\u001b[0m\u001b[0;34m(\u001b[0m\u001b[0mexpected_output\u001b[0m\u001b[0;34m.\u001b[0m\u001b[0mequals\u001b[0m\u001b[0;34m(\u001b[0m\u001b[0moutput\u001b[0m\u001b[0;34m)\u001b[0m\u001b[0;34m)\u001b[0m\u001b[0;34m\u001b[0m\u001b[0;34m\u001b[0m\u001b[0m\n",
            "\u001b[0;31mNameError\u001b[0m: name 'remove_duplicates' is not defined"
          ]
        }
      ]
    },
    {
      "cell_type": "code",
      "source": [
        "import pandas as pd\n",
        "\n",
        "def create_unique_dataframe(elements):\n",
        "    # Eliminar duplicados usando set para conservar la ordenación inicial\n",
        "    unique_elements = list(dict.fromkeys(elements))\n",
        "\n",
        "    # Crear el DataFrame a partir de la lista de elementos únicos\n",
        "    df = pd.DataFrame(unique_elements, columns=['Elementos'])\n",
        "\n",
        "    return df\n",
        "\n",
        "# Lista de elementos con duplicados\n",
        "elements = [1, 2, 2, 3, 4, 4, 5, 6, 7, 7, 8, 9, 9, 10]\n",
        "\n",
        "# Crear el DataFrame sin duplicados\n",
        "df = create_unique_dataframe(elements)\n",
        "\n",
        "# Mostrar el DataFrame\n",
        "print(df)\n"
      ],
      "metadata": {
        "id": "Cak586xzH5Zg",
        "outputId": "8bd0eddc-129a-4d09-e872-c26068fe1348",
        "colab": {
          "base_uri": "https://localhost:8080/"
        }
      },
      "execution_count": 9,
      "outputs": [
        {
          "output_type": "stream",
          "name": "stdout",
          "text": [
            "   Elementos\n",
            "0          1\n",
            "1          2\n",
            "2          3\n",
            "3          4\n",
            "4          5\n",
            "5          6\n",
            "6          7\n",
            "7          8\n",
            "8          9\n",
            "9         10\n"
          ]
        }
      ]
    },
    {
      "cell_type": "code",
      "source": [
        "def frange(start, stop, step):\n",
        "    while start < stop:\n",
        "        yield start\n",
        "        start += step\n",
        "\n",
        "# Ejemplo de uso del generador frange\n",
        "start = 0.0\n",
        "stop = 5.0\n",
        "step = 0.5\n",
        "\n",
        "# Crear el generador\n",
        "gen = frange(start, stop, step)\n",
        "\n",
        "# Imprimir los valores generados\n",
        "for value in gen:\n",
        "    print(value)\n"
      ],
      "metadata": {
        "id": "LB8NMpLqIQKK",
        "outputId": "86611ef9-2577-4e2e-f0eb-b8df3681d2ac",
        "colab": {
          "base_uri": "https://localhost:8080/"
        }
      },
      "execution_count": 10,
      "outputs": [
        {
          "output_type": "stream",
          "name": "stdout",
          "text": [
            "0.0\n",
            "0.5\n",
            "1.0\n",
            "1.5\n",
            "2.0\n",
            "2.5\n",
            "3.0\n",
            "3.5\n",
            "4.0\n",
            "4.5\n"
          ]
        }
      ]
    },
    {
      "cell_type": "code",
      "source": [
        "import pandas as pd\n",
        "\n",
        "def replace_spaces_with_least_frequent_char(series):\n",
        "    # Concatenar todos los valores de la Serie en un solo string\n",
        "    all_chars = ''.join(series.dropna().astype(str))\n",
        "\n",
        "    # Contar la frecuencia de cada carácter\n",
        "    char_counts = pd.Series(list(all_chars)).value_counts()\n",
        "\n",
        "    # Identificar el carácter menos frecuente\n",
        "    least_frequent_char = char_counts.idxmin()\n",
        "\n",
        "    # Reemplazar los espacios en blanco en cada elemento de la Serie\n",
        "    replaced_series = series.apply(lambda x: str(x).replace(' ', least_frequent_char) if pd.notna(x) else x)\n",
        "\n",
        "    return replaced_series\n",
        "\n",
        "# Crear una Serie de ejemplo\n",
        "data = pd.Series(['a b c', 'd e f', 'g h i', 'j k l', 'm n o', 'p q r', 's t u', 'v w x', 'y z', ' '])\n",
        "\n",
        "# Mostrar la Serie original\n",
        "print(\"Serie original:\")\n",
        "print(data)\n",
        "\n",
        "# Reemplazar los espacios en blanco por el carácter menos frecuente\n",
        "result = replace_spaces_with_least_frequent_char(data)\n",
        "\n",
        "# Mostrar la Serie resultante\n",
        "print(\"\\nSerie después de reemplazar los espacios en blanco:\")\n",
        "print(result)\n"
      ],
      "metadata": {
        "id": "KYAZr3EqIqYP",
        "outputId": "0ce52aa9-d63e-492b-babe-eda90d7587c4",
        "colab": {
          "base_uri": "https://localhost:8080/"
        }
      },
      "execution_count": 11,
      "outputs": [
        {
          "output_type": "stream",
          "name": "stdout",
          "text": [
            "Serie original:\n",
            "0    a b c\n",
            "1    d e f\n",
            "2    g h i\n",
            "3    j k l\n",
            "4    m n o\n",
            "5    p q r\n",
            "6    s t u\n",
            "7    v w x\n",
            "8      y z\n",
            "9         \n",
            "dtype: object\n",
            "\n",
            "Serie después de reemplazar los espacios en blanco:\n",
            "0    aabac\n",
            "1    daeaf\n",
            "2    gahai\n",
            "3    jakal\n",
            "4    manao\n",
            "5    paqar\n",
            "6    satau\n",
            "7    vawax\n",
            "8      yaz\n",
            "9        a\n",
            "dtype: object\n"
          ]
        }
      ]
    },
    {
      "cell_type": "code",
      "source": [
        "import pandas as pd\n",
        "\n",
        "def replace_spaces_with_least_frequent_char(series):\n",
        "    # Obtener el carácter menos frecuente excluyendo los espacios en blanco\n",
        "    least_frequent_char = series.str.replace(' ', '').value_counts().idxmin()\n",
        "\n",
        "    # Reemplazar los espacios en blanco por el carácter menos frecuente\n",
        "    replaced_series = series.str.replace(' ', least_frequent_char)\n",
        "\n",
        "    return replaced_series\n",
        "\n",
        "# Crear una Serie de ejemplo\n",
        "data = pd.Series(['a b c', 'd e f', 'g h i', 'j k l', 'm n o', 'p q r', 's t u', 'v w x', 'y z', ' '])\n",
        "\n",
        "print(data)\n",
        "# Reemplazar los espacios en blanco por el carácter menos frecuente\n",
        "result = replace_spaces_with_least_frequent_char(data)\n",
        "\n",
        "# Mostrar la Serie resultante\n",
        "print(result)\n"
      ],
      "metadata": {
        "id": "ET018XVVI5h8",
        "outputId": "bb01e773-aa98-42a1-88c0-5a567f353eea",
        "colab": {
          "base_uri": "https://localhost:8080/"
        }
      },
      "execution_count": 12,
      "outputs": [
        {
          "output_type": "stream",
          "name": "stdout",
          "text": [
            "0    a b c\n",
            "1    d e f\n",
            "2    g h i\n",
            "3    j k l\n",
            "4    m n o\n",
            "5    p q r\n",
            "6    s t u\n",
            "7    v w x\n",
            "8      y z\n",
            "9         \n",
            "dtype: object\n",
            "0    aabcbabcc\n",
            "1    dabceabcf\n",
            "2    gabchabci\n",
            "3    jabckabcl\n",
            "4    mabcnabco\n",
            "5    pabcqabcr\n",
            "6    sabctabcu\n",
            "7    vabcwabcx\n",
            "8        yabcz\n",
            "9          abc\n",
            "dtype: object\n"
          ]
        }
      ]
    },
    {
      "cell_type": "code",
      "source": [
        "def replace_spaces_with_least_frequent_char(letter_list):\n",
        "    # Obtener el carácter menos frecuente excluyendo los espacios en blanco\n",
        "    least_frequent_char = min([char for char in letter_list if char != ' '], key=letter_list.count)\n",
        "\n",
        "    # Reemplazar los espacios en blanco por el carácter menos frecuente\n",
        "    replaced_list = [char if char != ' ' else least_frequent_char for char in letter_list]\n",
        "\n",
        "    return replaced_list\n",
        "\n",
        "# Lista de letras de ejemplo\n",
        "letters = ['a', 'b', 'c', ' ', 'd', 'e', 'f', 'e', 'h', 'i','b','a','h','i','c','g','d']\n",
        "\n",
        "print(letters)\n",
        "\n",
        "# Reemplazar los espacios en blanco por el carácter menos frecuente\n",
        "result = replace_spaces_with_least_frequent_char(letters)\n",
        "\n",
        "# Mostrar la lista resultante\n",
        "print(result)\n"
      ],
      "metadata": {
        "id": "S5ktGHMUJNFi",
        "outputId": "833a0519-a2ea-4854-b2a2-12d9f1acfb25",
        "colab": {
          "base_uri": "https://localhost:8080/"
        }
      },
      "execution_count": 16,
      "outputs": [
        {
          "output_type": "stream",
          "name": "stdout",
          "text": [
            "['a', 'b', 'c', ' ', 'd', 'e', 'f', 'e', 'h', 'i', 'b', 'a', 'h', 'i', 'c', 'g', 'd']\n",
            "['a', 'b', 'c', 'f', 'd', 'e', 'f', 'e', 'h', 'i', 'b', 'a', 'h', 'i', 'c', 'g', 'd']\n"
          ]
        }
      ]
    },
    {
      "cell_type": "code",
      "source": [
        "serie = pd.Series(list('bba cabc faabba aacbbfe'))\n",
        "expected_output = pd.Series(list('bbaecabcefaabbaeaacbbfe'))\n",
        "output = clean_whitespace_replace(serie)  # This calls your function clean_whitespace_replace\n",
        "assert(expected_output.equals(output))  # This will fail if result is not as expected"
      ],
      "metadata": {
        "id": "hHahJf-ZJ5P9",
        "outputId": "30e3a434-9707-49b7-cc28-040deb7dc212",
        "colab": {
          "base_uri": "https://localhost:8080/",
          "height": 193
        }
      },
      "execution_count": 17,
      "outputs": [
        {
          "output_type": "error",
          "ename": "NameError",
          "evalue": "name 'clean_whitespace_replace' is not defined",
          "traceback": [
            "\u001b[0;31m---------------------------------------------------------------------------\u001b[0m",
            "\u001b[0;31mNameError\u001b[0m                                 Traceback (most recent call last)",
            "\u001b[0;32m<ipython-input-17-9bc37ee3216d>\u001b[0m in \u001b[0;36m<cell line: 3>\u001b[0;34m()\u001b[0m\n\u001b[1;32m      1\u001b[0m \u001b[0mserie\u001b[0m \u001b[0;34m=\u001b[0m \u001b[0mpd\u001b[0m\u001b[0;34m.\u001b[0m\u001b[0mSeries\u001b[0m\u001b[0;34m(\u001b[0m\u001b[0mlist\u001b[0m\u001b[0;34m(\u001b[0m\u001b[0;34m'bba cabc faabba aacbbfe'\u001b[0m\u001b[0;34m)\u001b[0m\u001b[0;34m)\u001b[0m\u001b[0;34m\u001b[0m\u001b[0;34m\u001b[0m\u001b[0m\n\u001b[1;32m      2\u001b[0m \u001b[0mexpected_output\u001b[0m \u001b[0;34m=\u001b[0m \u001b[0mpd\u001b[0m\u001b[0;34m.\u001b[0m\u001b[0mSeries\u001b[0m\u001b[0;34m(\u001b[0m\u001b[0mlist\u001b[0m\u001b[0;34m(\u001b[0m\u001b[0;34m'bbaecabcefaabbaeaacbbfe'\u001b[0m\u001b[0;34m)\u001b[0m\u001b[0;34m)\u001b[0m\u001b[0;34m\u001b[0m\u001b[0;34m\u001b[0m\u001b[0m\n\u001b[0;32m----> 3\u001b[0;31m \u001b[0moutput\u001b[0m \u001b[0;34m=\u001b[0m \u001b[0mclean_whitespace_replace\u001b[0m\u001b[0;34m(\u001b[0m\u001b[0mserie\u001b[0m\u001b[0;34m)\u001b[0m  \u001b[0;31m# This calls your function clean_whitespace_replace\u001b[0m\u001b[0;34m\u001b[0m\u001b[0;34m\u001b[0m\u001b[0m\n\u001b[0m\u001b[1;32m      4\u001b[0m \u001b[0;32massert\u001b[0m\u001b[0;34m(\u001b[0m\u001b[0mexpected_output\u001b[0m\u001b[0;34m.\u001b[0m\u001b[0mequals\u001b[0m\u001b[0;34m(\u001b[0m\u001b[0moutput\u001b[0m\u001b[0;34m)\u001b[0m\u001b[0;34m)\u001b[0m  \u001b[0;31m# This will fail if result is not as expected\u001b[0m\u001b[0;34m\u001b[0m\u001b[0;34m\u001b[0m\u001b[0m\n",
            "\u001b[0;31mNameError\u001b[0m: name 'clean_whitespace_replace' is not defined"
          ]
        }
      ]
    }
  ]
}