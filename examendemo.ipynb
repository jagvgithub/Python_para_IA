{
  "nbformat": 4,
  "nbformat_minor": 0,
  "metadata": {
    "colab": {
      "provenance": [],
      "authorship_tag": "ABX9TyPuPX5XSr48MoDcEGsF8QBA",
      "include_colab_link": true
    },
    "kernelspec": {
      "name": "python3",
      "display_name": "Python 3"
    },
    "language_info": {
      "name": "python"
    }
  },
  "cells": [
    {
      "cell_type": "markdown",
      "metadata": {
        "id": "view-in-github",
        "colab_type": "text"
      },
      "source": [
        "<a href=\"https://colab.research.google.com/github/jagvgithub/Python_para_IA/blob/main/examendemo.ipynb\" target=\"_parent\"><img src=\"https://colab.research.google.com/assets/colab-badge.svg\" alt=\"Open In Colab\"/></a>"
      ]
    },
    {
      "cell_type": "code",
      "execution_count": null,
      "metadata": {
        "colab": {
          "base_uri": "https://localhost:8080/"
        },
        "id": "SQY4AMLI7GHI",
        "outputId": "6c74065f-2450-4f89-d408-603f7d280e56"
      },
      "outputs": [
        {
          "output_type": "stream",
          "name": "stdout",
          "text": [
            "[0, 1, 1, 2, 3, 5, 8, 13, 21, 34]\n"
          ]
        }
      ],
      "source": [
        "# ejercicio 1\n",
        "\n",
        "n0 = 0\n",
        "n1 = 1\n",
        "\n",
        "from functools import reduce\n",
        "\n",
        "def fibonacci_series(n):\n",
        "    return reduce(lambda x, _: x + [x[-1] + x[-2]], range(n-2), [0, 1])\n",
        "\n",
        "# Ejemplo de uso:\n",
        "n = 10  # Por ejemplo, generar la serie de Fibonacci hasta el 10º número\n",
        "print(fibonacci_series(n))\n",
        "\n"
      ]
    },
    {
      "cell_type": "code",
      "source": [
        "# ejercicio 3\n",
        "\n",
        "\n",
        "# 2x+3y=5\n",
        "# 4x+9y=6\n",
        "\n",
        "\n",
        "import numpy as np\n",
        "\n",
        "# Definir los coeficientes\n",
        "a, b = 2, 3\n",
        "c, d = 4, 9\n",
        "\n",
        "# Definir las constantes\n",
        "e, f = 5, 6\n",
        "\n",
        "# Crear la matriz de coeficientes\n",
        "A = np.array([[a, b], [c, d]])\n",
        "\n",
        "# Crear el vector de constantes\n",
        "B = np.array([e, f])\n",
        "\n",
        "# Resolver el sistema de ecuaciones\n",
        "solution = np.linalg.solve(A, B)\n",
        "\n",
        "# Mostrar la solución\n",
        "x, y = solution\n",
        "print(f\"Solución: x = {x}, y = {y}\")\n",
        "\n",
        "\n",
        "#  con pulp\n",
        "\n",
        "!pip install pulp\n",
        "import pulp\n",
        "\n",
        "# Crear el problema de optimización\n",
        "prob = pulp.LpProblem(\"Sistema_de_Ecuaciones\", pulp.LpMinimize)\n",
        "\n",
        "# Crear las variables\n",
        "x = pulp.LpVariable('x', cat='Continuous')\n",
        "y = pulp.LpVariable('y', cat='Continuous')\n",
        "\n",
        "# No necesitamos una función objetivo, solo restricciones\n",
        "# Pero PuLP necesita una, así que usamos una función objetivo dummy que no afecta el resultado\n",
        "prob += 0, \"Dummy Objective Function\"\n",
        "\n",
        "# Agregar las restricciones (las ecuaciones del sistema)\n",
        "prob += 2 * x + 3 * y == 5, \"Ecuacion1\"\n",
        "prob += 4 * x + 9 * y == 6, \"Ecuacion2\"\n",
        "\n",
        "# Resolver el problema\n",
        "prob.solve()\n",
        "\n",
        "# Obtener los resultados\n",
        "x_value = pulp.value(x)\n",
        "y_value = pulp.value(y)\n",
        "\n",
        "print(f\"Solución: x = {x_value}, y = {y_value}\")\n",
        "\n",
        "# tre incognitas\n",
        "\n",
        "#x+2y+3z=14\n",
        "#2x+y+z=10\n",
        "#3x+2y+z=14\n",
        "\n",
        "import numpy as np\n",
        "\n",
        "# Definir la matriz de coeficientes\n",
        "A = np.array([\n",
        "    [1, 2, 3],\n",
        "    [2, 1, 1],\n",
        "    [3, 2, 1]\n",
        "])\n",
        "\n",
        "# Definir el vector de constantes\n",
        "B = np.array([14, 10, 14])\n",
        "\n",
        "# Resolver el sistema de ecuaciones\n",
        "solution = np.linalg.solve(A, B)\n",
        "\n",
        "# Mostrar la solución\n",
        "x, y, z = solution\n",
        "print(f\"Solución con numpy: x = {x}, y = {y}, z = {z}\")\n",
        "\n",
        "\n",
        "\n",
        "\n",
        "prob = pulp.LpProblem(\"Sistema_de_Ecuaciones_3_Incognitas\", pulp.LpMinimize)\n",
        "\n",
        "# Crear las variables\n",
        "x = pulp.LpVariable('x', cat='Continuous')\n",
        "y = pulp.LpVariable('y', cat='Continuous')\n",
        "z = pulp.LpVariable('z', cat='Continuous')\n",
        "\n",
        "# No necesitamos una función objetivo, solo restricciones\n",
        "# Pero PuLP necesita una, así que usamos una función objetivo dummy que no afecta el resultado\n",
        "prob += 0, \"Dummy Objective Function\"\n",
        "\n",
        "# Agregar las restricciones (las ecuaciones del sistema)\n",
        "prob += x + 2*y + 3*z == 14, \"Ecuacion1\"\n",
        "prob += 2*x + y + z == 10, \"Ecuacion2\"\n",
        "prob += 3*x + 2*y + z == 14, \"Ecuacion3\"\n",
        "\n",
        "# Resolver el problema\n",
        "prob.solve()\n",
        "\n",
        "# Obtener los resultados\n",
        "x_value = pulp.value(x)\n",
        "y_value = pulp.value(y)\n",
        "z_value = pulp.value(z)\n",
        "\n",
        "print(f\"Solución con PuLP: x = {x_value}, y = {y_value}, z = {z_value}\")\n",
        "\n",
        "\n"
      ],
      "metadata": {
        "id": "ZjbPYMCE8xPO",
        "outputId": "2cab02a8-bd9a-4c86-c506-803f6dd11154",
        "colab": {
          "base_uri": "https://localhost:8080/"
        }
      },
      "execution_count": 3,
      "outputs": [
        {
          "output_type": "stream",
          "name": "stdout",
          "text": [
            "Solución: x = 4.5, y = -1.3333333333333333\n",
            "Requirement already satisfied: pulp in /usr/local/lib/python3.10/dist-packages (2.8.0)\n",
            "Solución: x = 4.5, y = -1.3333333\n",
            "Solución con numpy: x = 3.0000000000000013, y = 0.9999999999999977, z = 3.0000000000000013\n",
            "Solución con PuLP: x = 3.0, y = 1.0, z = 3.0\n"
          ]
        }
      ]
    },
    {
      "cell_type": "code",
      "source": [
        "import pandas as pd\n",
        "\n",
        "# Crear una Serie con 10 elementos de diferentes tipos\n",
        "data = [1, 2.5, 'three', 4, 'five', 6.7, 'seven', 8, 9.9, 'ten']\n",
        "indices = ['a', 'b', 'c', 'd', 'e', 'f', 'g', 'h', 'i', 'j']\n",
        "\n",
        "serie = pd.Series(data, index=indices)\n",
        "\n",
        "# Mostrar la Serie\n",
        "print(\"Serie:\")\n",
        "print(serie)\n",
        "\n",
        "# Seleccionar 4 elementos con slicing usando índices posicionales\n",
        "positional_slice = serie[2:6]  # Selecciona desde el índice 2 hasta el 5\n",
        "\n",
        "# Seleccionar los mismos 4 elementos con slicing usando índices semánticos\n",
        "semantic_slice = serie['c':'f']  # Selecciona desde 'c' hasta 'f'\n",
        "\n",
        "# Mostrar los resultados\n",
        "print(\"\\nSlicing con índices posicionales:\")\n",
        "print(positional_slice)\n",
        "print(\"\\nSlicing con índices semánticos:\")\n",
        "print(semantic_slice)\n",
        "\n",
        "# Verificar que ambos métodos de slicing devuelven los mismos elementos\n",
        "are_equal = positional_slice.equals(semantic_slice)\n",
        "print(\"\\n¿Son iguales los datos obtenidos por ambos métodos? ->\", are_equal)\n"
      ],
      "metadata": {
        "id": "TTAragecGD4c",
        "outputId": "7707647d-b375-4419-8373-3033e1186a84",
        "colab": {
          "base_uri": "https://localhost:8080/"
        }
      },
      "execution_count": 4,
      "outputs": [
        {
          "output_type": "stream",
          "name": "stdout",
          "text": [
            "Serie:\n",
            "a        1\n",
            "b      2.5\n",
            "c    three\n",
            "d        4\n",
            "e     five\n",
            "f      6.7\n",
            "g    seven\n",
            "h        8\n",
            "i      9.9\n",
            "j      ten\n",
            "dtype: object\n",
            "\n",
            "Slicing con índices posicionales:\n",
            "c    three\n",
            "d        4\n",
            "e     five\n",
            "f      6.7\n",
            "dtype: object\n",
            "\n",
            "Slicing con índices semánticos:\n",
            "c    three\n",
            "d        4\n",
            "e     five\n",
            "f      6.7\n",
            "dtype: object\n",
            "\n",
            "¿Son iguales los datos obtenidos por ambos métodos? -> True\n"
          ]
        }
      ]
    }
  ]
}