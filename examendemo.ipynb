{
  "nbformat": 4,
  "nbformat_minor": 0,
  "metadata": {
    "colab": {
      "provenance": [],
      "authorship_tag": "ABX9TyNu0WHZnWLhfJcwQs3HkCPb",
      "include_colab_link": true
    },
    "kernelspec": {
      "name": "python3",
      "display_name": "Python 3"
    },
    "language_info": {
      "name": "python"
    }
  },
  "cells": [
    {
      "cell_type": "markdown",
      "metadata": {
        "id": "view-in-github",
        "colab_type": "text"
      },
      "source": [
        "<a href=\"https://colab.research.google.com/github/jagvgithub/Python_para_IA/blob/main/examendemo.ipynb\" target=\"_parent\"><img src=\"https://colab.research.google.com/assets/colab-badge.svg\" alt=\"Open In Colab\"/></a>"
      ]
    },
    {
      "cell_type": "code",
      "execution_count": 1,
      "metadata": {
        "colab": {
          "base_uri": "https://localhost:8080/"
        },
        "id": "SQY4AMLI7GHI",
        "outputId": "6c74065f-2450-4f89-d408-603f7d280e56"
      },
      "outputs": [
        {
          "output_type": "stream",
          "name": "stdout",
          "text": [
            "[0, 1, 1, 2, 3, 5, 8, 13, 21, 34]\n"
          ]
        }
      ],
      "source": [
        "# ejercicio 1\n",
        "\n",
        "n0 = 0\n",
        "n1 = 1\n",
        "\n",
        "from functools import reduce\n",
        "\n",
        "def fibonacci_series(n):\n",
        "    return reduce(lambda x, _: x + [x[-1] + x[-2]], range(n-2), [0, 1])\n",
        "\n",
        "# Ejemplo de uso:\n",
        "n = 10  # Por ejemplo, generar la serie de Fibonacci hasta el 10º número\n",
        "print(fibonacci_series(n))\n",
        "\n"
      ]
    }
  ]
}