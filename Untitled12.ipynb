{
  "nbformat": 4,
  "nbformat_minor": 0,
  "metadata": {
    "colab": {
      "provenance": [],
      "authorship_tag": "ABX9TyOXuOsHGkFe+elr8YtluE7Y",
      "include_colab_link": true
    },
    "kernelspec": {
      "name": "python3",
      "display_name": "Python 3"
    },
    "language_info": {
      "name": "python"
    }
  },
  "cells": [
    {
      "cell_type": "markdown",
      "metadata": {
        "id": "view-in-github",
        "colab_type": "text"
      },
      "source": [
        "<a href=\"https://colab.research.google.com/github/jagvgithub/Python_para_IA/blob/main/Untitled12.ipynb\" target=\"_parent\"><img src=\"https://colab.research.google.com/assets/colab-badge.svg\" alt=\"Open In Colab\"/></a>"
      ]
    },
    {
      "cell_type": "markdown",
      "source": [
        "# Universidad Internacional de Valencia\n",
        "## Python para la inteligencia artificial\n",
        "### Jose Antonio Gómez Vargas\n",
        "### Actividad Whitepapers\n",
        "##### Enlace directo a github: https://github.com/jagvgithub/Python_para_IA/blob/main/Actividad%20Whitepapers.ipynb\n",
        "##### Junio - 2024"
      ],
      "metadata": {
        "id": "R8mx7bncAKeX"
      }
    },
    {
      "cell_type": "code",
      "execution_count": null,
      "metadata": {
        "id": "CSI2fSAVAHvM"
      },
      "outputs": [],
      "source": []
    }
  ]
}